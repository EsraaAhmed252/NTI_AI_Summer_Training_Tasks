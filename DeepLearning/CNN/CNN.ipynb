{
 "cells": [
  {
   "cell_type": "code",
   "execution_count": 247,
   "metadata": {},
   "outputs": [
    {
     "data": {
      "text/plain": [
       "(8000, 12)"
      ]
     },
     "execution_count": 247,
     "metadata": {},
     "output_type": "execute_result"
    }
   ],
   "source": [
    "import numpy as np\n",
    "import pandas as pd\n",
    "import tensorflow as tf\n",
    "import keras\n",
    "\n",
    "dataset = pd.read_csv('Churn_Modelling.csv')\n",
    "X = dataset.iloc[:, 3:-1].values\n",
    "y = dataset.iloc[:, [-1] ].values\n",
    "\n",
    "from sklearn.preprocessing import LabelEncoder\n",
    "le = LabelEncoder()\n",
    "X[:, 2] = le.fit_transform(X[:, 2])\n",
    "\n",
    "from sklearn.compose import ColumnTransformer\n",
    "from sklearn.preprocessing import OneHotEncoder\n",
    "ct = ColumnTransformer(transformers=[('encoder', OneHotEncoder(), [1])], remainder='passthrough')\n",
    "X = np.array(ct.fit_transform(X))\n",
    "\n",
    "from sklearn.preprocessing import StandardScaler\n",
    "sc = StandardScaler()\n",
    "X = sc.fit_transform(X)\n",
    "\n",
    "from sklearn.model_selection import train_test_split\n",
    "X_train, X_test, y_train, y_test = train_test_split(X, y, test_size = 0.2, random_state = 0)\n",
    "# 8000 * 12 \n",
    "# reshape input to be [samples, time steps, features]\n",
    "X_train.shape"
   ]
  },
  {
   "cell_type": "code",
   "execution_count": 250,
   "metadata": {},
   "outputs": [
    {
     "data": {
      "text/plain": [
       "(2000, 12, 1)"
      ]
     },
     "execution_count": 250,
     "metadata": {},
     "output_type": "execute_result"
    }
   ],
   "source": [
    "X_train = np.reshape(X_train, (X_train.shape[0],X_train.shape[1],1))\n",
    "X_test = np.reshape(X_test, (X_test.shape[0],X_test.shape[1],1))\n",
    "X_test.shape"
   ]
  },
  {
   "cell_type": "code",
   "execution_count": 244,
   "metadata": {},
   "outputs": [
    {
     "data": {
      "text/plain": [
       "(8000, 1)"
      ]
     },
     "execution_count": 244,
     "metadata": {},
     "output_type": "execute_result"
    }
   ],
   "source": [
    "cnn = tf.keras.models.Sequential()\n",
    "X_train.shape\n",
    "y_train.shape"
   ]
  },
  {
   "cell_type": "code",
   "execution_count": 241,
   "metadata": {},
   "outputs": [],
   "source": [
    "cnn = tf.keras.models.Sequential()\n",
    "cnn.add(tf.keras.layers.Conv1D(128, 3 ,activation=\"relu\",input_shape=(12, 1))) # \n",
    "cnn.add(tf.keras.layers.Conv1D(128,2))\n",
    "cnn.add(tf.keras.layers.Flatten())\n",
    "cnn.add(tf.keras.layers.Dense(128, activation=\"relu\"))\n",
    "cnn.add(tf.keras.layers.Dropout(0.5))\n",
    "cnn.add(tf.keras.layers.Dense(1, activation=\"sigmoid\"))\n",
    "\n",
    "cnn.compile(loss=\"binary_crossentropy\", optimizer=\"adam\",metrics=['accuracy'])\n",
    "\n",
    "\n"
   ]
  },
  {
   "cell_type": "code",
   "execution_count": 242,
   "metadata": {},
   "outputs": [
    {
     "name": "stdout",
     "output_type": "stream",
     "text": [
      "Epoch 1/10\n",
      "16/16 [==============================] - 3s 123ms/step - loss: 0.4963 - accuracy: 0.7883 - val_loss: 0.4222 - val_accuracy: 0.8105\n",
      "Epoch 2/10\n",
      "16/16 [==============================] - 1s 83ms/step - loss: 0.4163 - accuracy: 0.8214 - val_loss: 0.3868 - val_accuracy: 0.8520\n",
      "Epoch 3/10\n",
      "16/16 [==============================] - 1s 79ms/step - loss: 0.3846 - accuracy: 0.8400 - val_loss: 0.3606 - val_accuracy: 0.8615\n",
      "Epoch 4/10\n",
      "16/16 [==============================] - 1s 83ms/step - loss: 0.3649 - accuracy: 0.8500 - val_loss: 0.3491 - val_accuracy: 0.8615\n",
      "Epoch 5/10\n",
      "16/16 [==============================] - 2s 96ms/step - loss: 0.3575 - accuracy: 0.8529 - val_loss: 0.3415 - val_accuracy: 0.8610\n",
      "Epoch 6/10\n",
      "16/16 [==============================] - 1s 88ms/step - loss: 0.3542 - accuracy: 0.8543 - val_loss: 0.3421 - val_accuracy: 0.8630\n",
      "Epoch 7/10\n",
      "16/16 [==============================] - 1s 85ms/step - loss: 0.3518 - accuracy: 0.8540 - val_loss: 0.3387 - val_accuracy: 0.8655\n",
      "Epoch 8/10\n",
      "16/16 [==============================] - 1s 84ms/step - loss: 0.3500 - accuracy: 0.8593 - val_loss: 0.3338 - val_accuracy: 0.8625\n",
      "Epoch 9/10\n",
      "16/16 [==============================] - 1s 85ms/step - loss: 0.3487 - accuracy: 0.8601 - val_loss: 0.3354 - val_accuracy: 0.8640\n",
      "Epoch 10/10\n",
      "16/16 [==============================] - 1s 91ms/step - loss: 0.3450 - accuracy: 0.8564 - val_loss: 0.3361 - val_accuracy: 0.8655\n"
     ]
    },
    {
     "data": {
      "text/plain": [
       "<keras.callbacks.History at 0x283ee8ea358>"
      ]
     },
     "execution_count": 242,
     "metadata": {},
     "output_type": "execute_result"
    }
   ],
   "source": [
    "cnn.fit(X_train, y_train, epochs=10,verbose=1,batch_size=500,validation_data=(X_test, y_test))"
   ]
  },
  {
   "cell_type": "code",
   "execution_count": 243,
   "metadata": {},
   "outputs": [
    {
     "name": "stdout",
     "output_type": "stream",
     "text": [
      "63/63 [==============================] - 1s 5ms/step - loss: 0.3361 - accuracy: 0.8655\n"
     ]
    },
    {
     "data": {
      "text/plain": [
       "[0.3360953629016876, 0.8654999732971191]"
      ]
     },
     "execution_count": 243,
     "metadata": {},
     "output_type": "execute_result"
    }
   ],
   "source": [
    "cnn.evaluate(X_test,y_test)"
   ]
  },
  {
   "cell_type": "code",
   "execution_count": null,
   "metadata": {},
   "outputs": [],
   "source": []
  }
 ],
 "metadata": {
  "kernelspec": {
   "display_name": "Python 3",
   "language": "python",
   "name": "python3"
  },
  "language_info": {
   "codemirror_mode": {
    "name": "ipython",
    "version": 3
   },
   "file_extension": ".py",
   "mimetype": "text/x-python",
   "name": "python",
   "nbconvert_exporter": "python",
   "pygments_lexer": "ipython3",
   "version": "3.6.10"
  }
 },
 "nbformat": 4,
 "nbformat_minor": 4
}
