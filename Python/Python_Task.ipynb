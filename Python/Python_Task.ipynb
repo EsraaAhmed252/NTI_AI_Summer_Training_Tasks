{
 "cells": [
  {
   "cell_type": "markdown",
   "id": "a0cc06f3",
   "metadata": {},
   "source": [
    "**Exercise 1:** Print First 10 natural numbers using while loop"
   ]
  },
  {
   "cell_type": "code",
   "execution_count": 1,
   "id": "67184efe",
   "metadata": {},
   "outputs": [
    {
     "name": "stdout",
     "output_type": "stream",
     "text": [
      "1\n",
      "2\n",
      "3\n",
      "4\n",
      "5\n",
      "6\n",
      "7\n",
      "8\n",
      "9\n",
      "10\n"
     ]
    }
   ],
   "source": [
    "i=1\n",
    "while i<=10 :\n",
    "    print (i)\n",
    "    i+=1"
   ]
  },
  {
   "cell_type": "markdown",
   "id": "f3dc5716",
   "metadata": {},
   "source": [
    "**Exercise 2:** Print the following pattern"
   ]
  },
  {
   "cell_type": "code",
   "execution_count": 2,
   "id": "98eb954a",
   "metadata": {},
   "outputs": [
    {
     "name": "stdout",
     "output_type": "stream",
     "text": [
      "1 \n",
      "\n",
      "1 2 \n",
      "\n",
      "1 2 3 \n",
      "\n",
      "1 2 3 4 \n",
      "\n",
      "1 2 3 4 5 \n",
      "\n"
     ]
    }
   ],
   "source": [
    "for i in range (1,6):\n",
    "    for j in range (1,i+1):\n",
    "        print (j,end=' ')\n",
    "    print (\"\\n\")"
   ]
  },
  {
   "cell_type": "markdown",
   "id": "57e3b589",
   "metadata": {},
   "source": [
    "**Exercise 3:** Calculate the sum of all numbers from 1 to a given number"
   ]
  },
  {
   "cell_type": "code",
   "execution_count": 3,
   "id": "ffa3d4db",
   "metadata": {},
   "outputs": [
    {
     "name": "stdout",
     "output_type": "stream",
     "text": [
      "Enter number10\n"
     ]
    },
    {
     "data": {
      "text/plain": [
       "55"
      ]
     },
     "execution_count": 3,
     "metadata": {},
     "output_type": "execute_result"
    }
   ],
   "source": [
    "x=input(\"Enter number\")\n",
    "def sum(i):\n",
    "    if (i>0):\n",
    "        return i+sum(i-1)\n",
    "    else:\n",
    "        return i\n",
    "sum (int(x))"
   ]
  },
  {
   "cell_type": "markdown",
   "id": "8655e29b",
   "metadata": {},
   "source": [
    "**Exercise 4:** Write a program to print multiplication table of a given number"
   ]
  },
  {
   "cell_type": "code",
   "execution_count": 4,
   "id": "50fc3639",
   "metadata": {},
   "outputs": [
    {
     "name": "stdout",
     "output_type": "stream",
     "text": [
      "Enter number2\n",
      "2\n",
      "\n",
      "\n",
      "4\n",
      "\n",
      "\n",
      "6\n",
      "\n",
      "\n",
      "8\n",
      "\n",
      "\n",
      "10\n",
      "\n",
      "\n",
      "12\n",
      "\n",
      "\n",
      "14\n",
      "\n",
      "\n",
      "16\n",
      "\n",
      "\n",
      "18\n",
      "\n",
      "\n",
      "20\n",
      "\n",
      "\n"
     ]
    }
   ],
   "source": [
    "x=input(\"Enter number\")\n",
    "def mul (y):\n",
    "    if (y>=0):\n",
    "        for i in range (1,11):\n",
    "            print (i*y)\n",
    "            print(\"\\n\")\n",
    "mul(int(x))"
   ]
  },
  {
   "cell_type": "markdown",
   "id": "7126176d",
   "metadata": {},
   "source": [
    "**Exercise 5:** Display numbers from a list using loop"
   ]
  },
  {
   "cell_type": "code",
   "execution_count": 5,
   "id": "44ccb65d",
   "metadata": {},
   "outputs": [
    {
     "name": "stdout",
     "output_type": "stream",
     "text": [
      "75\n",
      "150\n",
      "145\n"
     ]
    }
   ],
   "source": [
    "def dis (li,n):\n",
    "    for i in range (0,n):\n",
    "        if(li[i])>500:\n",
    "             break \n",
    "        elif li[i]>150:\n",
    "             continue\n",
    "        elif li[i]%5==0:\n",
    "            print(li[i])\n",
    "numbers=[12,75,150,180,145,525,50]\n",
    "dis(numbers,7)"
   ]
  },
  {
   "cell_type": "markdown",
   "id": "560e4ccc",
   "metadata": {},
   "source": [
    "**Exercise 6:** Count the total number of digits in a number"
   ]
  },
  {
   "cell_type": "code",
   "execution_count": 6,
   "id": "6b1374c1",
   "metadata": {},
   "outputs": [
    {
     "name": "stdout",
     "output_type": "stream",
     "text": [
      "75689\n",
      "5\n"
     ]
    }
   ],
   "source": [
    "x=input()\n",
    "print(len(x))"
   ]
  },
  {
   "cell_type": "markdown",
   "id": "b500fb16",
   "metadata": {},
   "source": [
    "**Exercise 7:** Print the following pattern"
   ]
  },
  {
   "cell_type": "code",
   "execution_count": 7,
   "id": "a820aa99",
   "metadata": {},
   "outputs": [
    {
     "name": "stdout",
     "output_type": "stream",
     "text": [
      "5 4 3 2 1 \n",
      "\n",
      "4 3 2 1 \n",
      "\n",
      "3 2 1 \n",
      "\n",
      "2 1 \n",
      "\n",
      "1 \n",
      "\n"
     ]
    }
   ],
   "source": [
    "for i in range (1,6):\n",
    "    for j in range (6-i,0,-1):\n",
    "        print (j,end=' ')\n",
    "    print ('\\n')"
   ]
  },
  {
   "cell_type": "markdown",
   "id": "828b19e9",
   "metadata": {},
   "source": [
    "**Exercise 8:** Print list in reverse order using a loop"
   ]
  },
  {
   "cell_type": "code",
   "execution_count": 8,
   "id": "1be47756",
   "metadata": {},
   "outputs": [
    {
     "name": "stdout",
     "output_type": "stream",
     "text": [
      "50\n",
      "40\n",
      "30\n",
      "20\n",
      "10\n"
     ]
    }
   ],
   "source": [
    "l_1=[10,20,30,40,50]\n",
    "for i in reversed(l_1):\n",
    "     print(i)"
   ]
  },
  {
   "cell_type": "markdown",
   "id": "19ef9c35",
   "metadata": {},
   "source": [
    "**Exercise 9:** Display numbers from -10 to -1 using for loop"
   ]
  },
  {
   "cell_type": "code",
   "execution_count": 9,
   "id": "688657d6",
   "metadata": {},
   "outputs": [
    {
     "name": "stdout",
     "output_type": "stream",
     "text": [
      "-10\n",
      "-9\n",
      "-8\n",
      "-7\n",
      "-6\n",
      "-5\n",
      "-4\n",
      "-3\n",
      "-2\n",
      "-1\n"
     ]
    }
   ],
   "source": [
    "for i in range (-10,0,+1):\n",
    "    print (i)"
   ]
  },
  {
   "cell_type": "markdown",
   "id": "ac36dfe4",
   "metadata": {},
   "source": [
    "**Exercise 10:** Use else block to display a message “Done” after successful execution of for loop"
   ]
  },
  {
   "cell_type": "code",
   "execution_count": 10,
   "id": "22723b39",
   "metadata": {},
   "outputs": [
    {
     "name": "stdout",
     "output_type": "stream",
     "text": [
      "0\n",
      "1\n",
      "2\n",
      "3\n",
      "4\n",
      "Done!\n"
     ]
    }
   ],
   "source": [
    "try:\n",
    "    for i in range(5):\n",
    "        print (i)\n",
    "except:\n",
    "    print (\"Error\")\n",
    "else:\n",
    "    print (\"Done!\")"
   ]
  },
  {
   "cell_type": "markdown",
   "id": "c621ba17",
   "metadata": {},
   "source": [
    "**Exercise 11:** Write a program to display all prime numbers within a range"
   ]
  },
  {
   "cell_type": "code",
   "execution_count": 11,
   "id": "c17c2d20",
   "metadata": {},
   "outputs": [
    {
     "name": "stdout",
     "output_type": "stream",
     "text": [
      "29\n",
      "31\n",
      "37\n",
      "41\n",
      "43\n",
      "47\n"
     ]
    }
   ],
   "source": [
    "start=25\n",
    "end = 50\n",
    "for i in range (25,50):\n",
    "        for j in range (2,i):\n",
    "            if (i%j==0):\n",
    "                break\n",
    "        else :\n",
    "            print(i)"
   ]
  },
  {
   "cell_type": "markdown",
   "id": "b56d5246",
   "metadata": {},
   "source": [
    "**Exercise 12:**Display Fibonacci series up to 10 terms"
   ]
  },
  {
   "cell_type": "code",
   "execution_count": 12,
   "id": "0ea1dec5",
   "metadata": {},
   "outputs": [
    {
     "name": "stdout",
     "output_type": "stream",
     "text": [
      "0\n",
      "1\n",
      "1\n",
      "2\n",
      "3\n",
      "5\n",
      "8\n",
      "13\n",
      "21\n",
      "34\n"
     ]
    }
   ],
   "source": [
    "n1=0\n",
    "n2=1\n",
    "print(n1)\n",
    "print(n2)\n",
    "for i in range(8):\n",
    "    n3=n1+n2\n",
    "    print(n3)\n",
    "    n1=n2\n",
    "    n2=n3"
   ]
  },
  {
   "cell_type": "markdown",
   "id": "b370d741",
   "metadata": {},
   "source": [
    "**Exercise 13:**Find the factorial of a given number"
   ]
  },
  {
   "cell_type": "code",
   "execution_count": 13,
   "id": "eec9f3ae",
   "metadata": {},
   "outputs": [
    {
     "name": "stdout",
     "output_type": "stream",
     "text": [
      "5\n",
      "120\n"
     ]
    }
   ],
   "source": [
    "x=input()\n",
    "\n",
    "def fact(n):\n",
    "    if n == 1:\n",
    "        return n\n",
    "    else:\n",
    "        return n*fact(n-1)\n",
    "\n",
    "print(fact(int(x)))"
   ]
  },
  {
   "cell_type": "markdown",
   "id": "75e2f52e",
   "metadata": {},
   "source": [
    "**Exercise 14:**Reverse a given integer number"
   ]
  },
  {
   "cell_type": "code",
   "execution_count": 14,
   "id": "31672b51",
   "metadata": {},
   "outputs": [
    {
     "name": "stdout",
     "output_type": "stream",
     "text": [
      "123456\n",
      "654321\n"
     ]
    }
   ],
   "source": [
    "num = input()\n",
    "print(num[::-1])"
   ]
  },
  {
   "cell_type": "markdown",
   "id": "b85b96be",
   "metadata": {},
   "source": [
    "**Exercise 15:**Use a loop to display elements from a given list present at odd index positions"
   ]
  },
  {
   "cell_type": "code",
   "execution_count": 15,
   "id": "10a62b9b",
   "metadata": {},
   "outputs": [
    {
     "name": "stdout",
     "output_type": "stream",
     "text": [
      "[20, 40, 60, 80, 100]\n"
     ]
    }
   ],
   "source": [
    "my_list = [10, 20, 30, 40, 50, 60, 70, 80, 90, 100]\n",
    "print(my_list[1::2])"
   ]
  },
  {
   "cell_type": "markdown",
   "id": "99b2dd4f",
   "metadata": {},
   "source": [
    "**Exercise 16:**Calculate the cube of all numbers from 1 to a given number"
   ]
  },
  {
   "cell_type": "code",
   "execution_count": 16,
   "id": "e46be064",
   "metadata": {},
   "outputs": [
    {
     "name": "stdout",
     "output_type": "stream",
     "text": [
      "6\n",
      "1\n",
      "8\n",
      "27\n",
      "64\n",
      "125\n",
      "216\n"
     ]
    }
   ],
   "source": [
    "x=int(input())\n",
    "for i in range(1,x+1):\n",
    "    print(i**3)"
   ]
  },
  {
   "cell_type": "markdown",
   "id": "2d11eed2",
   "metadata": {},
   "source": [
    "**Exercise 17:**Find the sum of the series upto n terms"
   ]
  },
  {
   "cell_type": "code",
   "execution_count": 17,
   "id": "ccee7984",
   "metadata": {},
   "outputs": [
    {
     "name": "stdout",
     "output_type": "stream",
     "text": [
      "5\n",
      "2\n",
      "22\n",
      "222\n",
      "2222\n",
      "22222\n",
      "24690\n"
     ]
    }
   ],
   "source": [
    "x=int(input())\n",
    "sum=0\n",
    "for i in range (1,x+1):\n",
    "    print (str(2)*i)\n",
    "    sum+=int(str(2)*i)\n",
    "print (sum)"
   ]
  },
  {
   "cell_type": "markdown",
   "id": "6523304d",
   "metadata": {},
   "source": [
    "**Exercise 18:**Print the following pattern"
   ]
  },
  {
   "cell_type": "code",
   "execution_count": 18,
   "id": "d05d3b66",
   "metadata": {},
   "outputs": [
    {
     "name": "stdout",
     "output_type": "stream",
     "text": [
      "* \n",
      "\n",
      "* * \n",
      "\n",
      "* * * \n",
      "\n",
      "* * * * \n",
      "\n",
      "* * * * * \n",
      "\n",
      "* * * * \n",
      "\n",
      "* * * \n",
      "\n",
      "* * \n",
      "\n",
      "* \n",
      "\n"
     ]
    }
   ],
   "source": [
    "for i in range (1,6):\n",
    "    for j in range (1,i+1):\n",
    "        print (\"*\",end=' ')\n",
    "    print (\"\\n\")\n",
    "    \n",
    "for i in range (1,5):\n",
    "    for j in range (5-i,0,-1):\n",
    "        print (\"*\",end=' ')\n",
    "    print ('\\n')"
   ]
  },
  {
   "cell_type": "code",
   "execution_count": null,
   "id": "cf9e849b",
   "metadata": {},
   "outputs": [],
   "source": []
  }
 ],
 "metadata": {
  "kernelspec": {
   "display_name": "Python 3 (ipykernel)",
   "language": "python",
   "name": "python3"
  },
  "language_info": {
   "codemirror_mode": {
    "name": "ipython",
    "version": 3
   },
   "file_extension": ".py",
   "mimetype": "text/x-python",
   "name": "python",
   "nbconvert_exporter": "python",
   "pygments_lexer": "ipython3",
   "version": "3.9.7"
  }
 },
 "nbformat": 4,
 "nbformat_minor": 5
}
