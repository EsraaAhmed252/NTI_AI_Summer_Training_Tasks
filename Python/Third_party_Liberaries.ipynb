{
 "cells": [
  {
   "cell_type": "markdown",
   "metadata": {},
   "source": [
    "# 01 NumPy\n",
    "\n",
    "NumPy’s main object is the homogeneous multidimensional array. It is a table of elements (usually\n",
    "numbers), all of the same type, indexed by a tuple of non-negative integers. In NumPy dimensions\n",
    "are called axes"
   ]
  },
  {
   "cell_type": "code",
   "execution_count": 1,
   "metadata": {},
   "outputs": [],
   "source": [
    "import numpy as np #  aliase name   array 4x2 "
   ]
  },
  {
   "cell_type": "markdown",
   "metadata": {},
   "source": [
    "## 1. Array Creation\n",
    "* np.array()\n",
    "* np.zeros()\n",
    "* np.ones()\n",
    "* np.empty()\n",
    "* np.eye()\n",
    "* np.asarray()\n",
    "* numpy.arange()\n",
    "* np.linspace()\n",
    "### 1.1 np.array()\n",
    "Create an array.\n",
    "\n",
    "* np.array(object, dtype=None, copy=True, order='K', subok=False, ndmin=0)"
   ]
  },
  {
   "cell_type": "code",
   "execution_count": 2,
   "metadata": {},
   "outputs": [
    {
     "name": "stdout",
     "output_type": "stream",
     "text": [
      "one-dimensional array: [1 2 3 4 5 6]\n"
     ]
    }
   ],
   "source": [
    "a = np.array([1,2,3,4,5,6]) # create a one-dimensional array\n",
    "print(\"one-dimensional array:\", a)"
   ]
  },
  {
   "cell_type": "code",
   "execution_count": 3,
   "metadata": {},
   "outputs": [
    {
     "name": "stdout",
     "output_type": "stream",
     "text": [
      "multidimensional array: \n",
      " [[1 2 3]\n",
      " [4 5 6]\n",
      " [7 8 9]]\n"
     ]
    }
   ],
   "source": [
    "b = np.array([[1,2,3],[4,5,6],[7,8,9]]) # create a multidimensional array  [[row1],[row2],[row3]]\n",
    "print(\"multidimensional array:\",'\\n' ,b) #3x3 "
   ]
  },
  {
   "cell_type": "code",
   "execution_count": 4,
   "metadata": {},
   "outputs": [
    {
     "name": "stdout",
     "output_type": "stream",
     "text": [
      "multidimensional array: \n",
      " [[1 2 3]\n",
      " [4 5 6]]\n"
     ]
    }
   ],
   "source": [
    "a=np.array([(1,2,3),(4,5,6)])\n",
    "print(\"multidimensional array:\" ,'\\n',a)"
   ]
  },
  {
   "cell_type": "markdown",
   "metadata": {},
   "source": [
    "### 1.2 np.zeros(), np.ones(), np.empty()\n",
    "Often, the elements of an array are originally unknown, but its size is known. Hence, NumPy offers\n",
    "\n",
    "several functions to create arrays with initial placeholder content. These minimize the necessity of\n",
    "growing arrays, an expensive operation.\n",
    "\n",
    "The function zeros creates an array full of zeros, the function ones creates an array full of ones,\n",
    "and the function empty creates an array whose initial content is random and depends on the state\n",
    "of the memory. By default, the dtype of the created array is float64. \n",
    "\n",
    "* np.zeros(shape, dtype=float,order='C')\n",
    "* np.zeros(shape, dtype=float, order='C')\n",
    "* np.ones(shape, dtype=None, order='C')\n",
    "* np.empty(shape, dtype=float, order='C')"
   ]
  },
  {
   "cell_type": "code",
   "execution_count": 5,
   "metadata": {},
   "outputs": [
    {
     "name": "stdout",
     "output_type": "stream",
     "text": [
      "array full of zeros: \n",
      " [[0. 0.]\n",
      " [0. 0.]]\n"
     ]
    }
   ],
   "source": [
    "c = np.zeros([2,2]) #([row,col])\n",
    "print(\"array full of zeros:\",'\\n',c)"
   ]
  },
  {
   "cell_type": "code",
   "execution_count": 6,
   "metadata": {},
   "outputs": [
    {
     "name": "stdout",
     "output_type": "stream",
     "text": [
      "array full of zeros: \n",
      " [[0. 0.]\n",
      " [0. 0.]]\n"
     ]
    }
   ],
   "source": [
    "c = np.zeros((2,2)) #((row,col))\n",
    "print(\"array full of zeros:\",'\\n',c)"
   ]
  },
  {
   "cell_type": "code",
   "execution_count": 7,
   "metadata": {},
   "outputs": [
    {
     "name": "stdout",
     "output_type": "stream",
     "text": [
      "array full of ones: \n",
      " [[1. 1. 1.]\n",
      " [1. 1. 1.]\n",
      " [1. 1. 1.]]\n"
     ]
    }
   ],
   "source": [
    "d = np.ones([3,3])#([row,col])\n",
    "print(\"array full of ones: \\n\",d)"
   ]
  },
  {
   "cell_type": "code",
   "execution_count": 8,
   "metadata": {},
   "outputs": [
    {
     "name": "stdout",
     "output_type": "stream",
     "text": [
      "array full of ones: \n",
      " [[1. 1.]\n",
      " [1. 1.]]\n"
     ]
    }
   ],
   "source": [
    "d = np.ones((2,2))\n",
    "print(\"array full of ones: \\n\",d)"
   ]
  },
  {
   "cell_type": "markdown",
   "metadata": {},
   "source": [
    "### 1.3 np.eye()\n",
    "create identity matrix\n",
    "\n",
    "Return a 2-D array with ones on the diagonal and zeros elsewhere.\n",
    "\n",
    "np.eye(N, M=None, k=0, dtype=float, order='C')"
   ]
  },
  {
   "cell_type": "code",
   "execution_count": 9,
   "metadata": {},
   "outputs": [
    {
     "name": "stdout",
     "output_type": "stream",
     "text": [
      "[[1. 0. 0. 0. 0.]\n",
      " [0. 1. 0. 0. 0.]\n",
      " [0. 0. 1. 0. 0.]\n",
      " [0. 0. 0. 1. 0.]\n",
      " [0. 0. 0. 0. 1.]]\n"
     ]
    }
   ],
   "source": [
    "print(np.eye(5)) ## square matrix"
   ]
  },
  {
   "cell_type": "markdown",
   "metadata": {},
   "source": [
    "### 1.4 np.asarray()\n",
    "\n",
    "Convert the input to an array.\n",
    "\n",
    "np.asarray(a, dtype = None, order = None)"
   ]
  },
  {
   "cell_type": "code",
   "execution_count": 10,
   "metadata": {},
   "outputs": [
    {
     "name": "stdout",
     "output_type": "stream",
     "text": [
      "one-dimensional array: \n",
      " [1 2 3 4 5 6]\n"
     ]
    }
   ],
   "source": [
    "e = np.asarray([1,2,3,4,5,6])\n",
    "print(\"one-dimensional array: \\n\", e)"
   ]
  },
  {
   "cell_type": "markdown",
   "metadata": {},
   "source": [
    "### 1.5 the difference between array() and asarray()\n",
    "\n",
    "The main difference is that array (by default) will make a copy of the object, while asarray will not\n",
    "unless necessary."
   ]
  },
  {
   "cell_type": "code",
   "execution_count": 11,
   "metadata": {},
   "outputs": [
    {
     "name": "stdout",
     "output_type": "stream",
     "text": [
      "data:  False\n",
      "data: False\n",
      "data:  True\n",
      "data: False\n"
     ]
    }
   ],
   "source": [
    "a = np.array([1, 2], dtype=np.float32)\n",
    "\n",
    "print(\"data: \",np.array(a, dtype=np.float32) is a)\n",
    "print(\"data:\",np.array(a, dtype=np.float64) is a)\n",
    "print(\"data: \",np.asarray(a, dtype=np.float32) is a)\n",
    "print(\"data:\",np.asarray(a, dtype=np.float64) is a)\n"
   ]
  },
  {
   "cell_type": "markdown",
   "metadata": {},
   "source": [
    "### 1.6 np.arange()\n",
    "To create sequences of numbers, NumPy provides the arange function which is analogous to the\n",
    "Python built-in range, but returns an array.\n",
    "\n",
    "numpy.arange([start, ]stop, [step, ]dtype=None)\n",
    "\n",
    " * start: number, optional; Start of interval. The interval includes this value. The default start value is 0.\n",
    " * stop: number,End of interval. The interval does not include this value, except in some cases where step is not an integer and floating point         round-off affects the length of out.\n",
    " * step: number, optional; Spacing between values. For any output out, this is the distance between two adjacent values, out[i+1] - out[i]. The         default step size is 1. If step is specified as a position argument, start must also be given."
   ]
  },
  {
   "cell_type": "code",
   "execution_count": 12,
   "metadata": {},
   "outputs": [
    {
     "name": "stdout",
     "output_type": "stream",
     "text": [
      "sequences of numbers in array: [10 12 14 16 18 20 22 24 26 28 30 32 34 36 38 40 42 44 46 48 50 52 54 56\n",
      " 58 60 62 64 66 68 70 72 74 76 78 80 82 84 86 88 90 92 94 96 98]\n"
     ]
    }
   ],
   "source": [
    "f = np.arange(10,100,2)\n",
    "print(\"sequences of numbers in array:\",f)"
   ]
  },
  {
   "cell_type": "markdown",
   "metadata": {},
   "source": [
    "### 1.7 np.linspace()\n",
    "\n",
    "Return evenly spaced numbers over a specified interval.\n",
    "\n",
    "Returns num evenly spaced samples, calculated over the interval [start, stop].\n",
    "\n",
    "The endpoint of the interval can optionally be excluded.\n",
    "\n",
    " * np.linspace(start, stop, num=50, endpoint=True, retstep=False, dtype=None, axis=0)"
   ]
  },
  {
   "cell_type": "code",
   "execution_count": 13,
   "metadata": {},
   "outputs": [
    {
     "data": {
      "text/plain": [
       "array([0.        , 0.05263158, 0.10526316, 0.15789474, 0.21052632,\n",
       "       0.26315789, 0.31578947, 0.36842105, 0.42105263, 0.47368421,\n",
       "       0.52631579, 0.57894737, 0.63157895, 0.68421053, 0.73684211,\n",
       "       0.78947368, 0.84210526, 0.89473684, 0.94736842, 1.        ])"
      ]
     },
     "execution_count": 13,
     "metadata": {},
     "output_type": "execute_result"
    }
   ],
   "source": [
    "h=np.linspace(0,1,20)\n",
    "h"
   ]
  },
  {
   "cell_type": "code",
   "execution_count": 2,
   "metadata": {},
   "outputs": [
    {
     "name": "stdout",
     "output_type": "stream",
     "text": [
      "[ 0. 11. 22. 33. 44. 55. 66. 77. 88. 99.]\n"
     ]
    }
   ],
   "source": [
    "import numpy as np\n",
    "g = np.linspace(0,99,10)\n",
    "print(g)"
   ]
  },
  {
   "cell_type": "markdown",
   "metadata": {},
   "source": [
    "## 2. Important attributes of an ndarray object\n",
    "\n",
    "* ndarray.ndim\n",
    "\n",
    "  the number of axes (dimensions) of the array.\n",
    "  \n",
    "* ndarray.shape\n",
    "\n",
    "    the dimensions of the array. This is a tuple of integers indicating the size of the array in each dimension. For a matrix with n rows and m     columns, shape will be (n,m). The length of the shape tuple is therefore the number of axes, ndim.\n",
    "    \n",
    "* ndarray.size\n",
    "\n",
    "  the total number of elements of the array. This is equal to the product of the elements of shape.\n",
    "  \n",
    "* ndarray.dtype\n",
    "\n",
    "    an object describing the type of the elements in the array. One can create or specify dtype’s using standard Python types. Additionally         NumPy provides types of its own.\n",
    "    numpy.int32, numpy.int16, and numpy.float64 are some examples.\n",
    "    \n",
    "* ndarray.itemsize\n",
    "\n",
    "    the size in bytes of each element of the array. For example, an array of elements of type float64 has itemsize 8 (=64/8), while one of type     complex32 has itemsize 4 (=32/8). It is equivalent to ndarray.dtype.itemsize.\n",
    "    \n",
    "* ndarray.data\n",
    "\n",
    "    the buffer containing the actual elements of the array. Normally, we won’t need to use this attribute because we will access the elements       in an array using indexing facilities."
   ]
  },
  {
   "cell_type": "code",
   "execution_count": 4,
   "metadata": {},
   "outputs": [
    {
     "name": "stdout",
     "output_type": "stream",
     "text": [
      "[[1. 2.]\n",
      " [3. 4.]\n",
      " [5. 6.]]\n"
     ]
    },
    {
     "data": {
      "text/plain": [
       "(3, 2)"
      ]
     },
     "execution_count": 4,
     "metadata": {},
     "output_type": "execute_result"
    }
   ],
   "source": [
    "a = np.array([[1,2],[3,4],[5,6]],dtype=np.float32)  #3*2\n",
    "print(a)\n",
    "a.shape"
   ]
  },
  {
   "cell_type": "code",
   "execution_count": 16,
   "metadata": {},
   "outputs": [
    {
     "data": {
      "text/plain": [
       "6"
      ]
     },
     "execution_count": 16,
     "metadata": {},
     "output_type": "execute_result"
    }
   ],
   "source": [
    "a.size"
   ]
  },
  {
   "cell_type": "code",
   "execution_count": 17,
   "metadata": {},
   "outputs": [
    {
     "data": {
      "text/plain": [
       "2"
      ]
     },
     "execution_count": 17,
     "metadata": {},
     "output_type": "execute_result"
    }
   ],
   "source": [
    "a.ndim"
   ]
  },
  {
   "cell_type": "code",
   "execution_count": 18,
   "metadata": {},
   "outputs": [
    {
     "data": {
      "text/plain": [
       "dtype('float32')"
      ]
     },
     "execution_count": 18,
     "metadata": {},
     "output_type": "execute_result"
    }
   ],
   "source": [
    "a.dtype"
   ]
  },
  {
   "cell_type": "markdown",
   "metadata": {},
   "source": [
    "## 3. Indexing, Slicing and Iterating\n",
    "\n",
    "ndrrays can be indexed, sliced and iterated over, much like lists and other Python sequences."
   ]
  },
  {
   "cell_type": "code",
   "execution_count": 10,
   "metadata": {},
   "outputs": [
    {
     "name": "stdout",
     "output_type": "stream",
     "text": [
      "2\n",
      "a: \n",
      " [[1 2]\n",
      " [3 4]\n",
      " [3 3]]\n"
     ]
    }
   ],
   "source": [
    "a = np.array([[1, 2], [3, 4],[3,3]])\n",
    "a\n",
    "print(a[0][1])\n",
    "print('a: \\n',a)\n",
    "#print('b:',b)"
   ]
  },
  {
   "cell_type": "code",
   "execution_count": 11,
   "metadata": {},
   "outputs": [
    {
     "data": {
      "text/plain": [
       "array([[1, 2],\n",
       "       [3, 4]])"
      ]
     },
     "execution_count": 11,
     "metadata": {},
     "output_type": "execute_result"
    }
   ],
   "source": [
    "a[0:2,:]       #a[first_index :lastindex+1, first_index:last_index+1]"
   ]
  },
  {
   "cell_type": "code",
   "execution_count": 21,
   "metadata": {},
   "outputs": [
    {
     "ename": "TypeError",
     "evalue": "list indices must be integers or slices, not tuple",
     "output_type": "error",
     "traceback": [
      "\u001b[0;31m---------------------------------------------------------------------------\u001b[0m",
      "\u001b[0;31mTypeError\u001b[0m                                 Traceback (most recent call last)",
      "\u001b[0;32m<ipython-input-21-db86267a3ed9>\u001b[0m in \u001b[0;36m<module>\u001b[0;34m\u001b[0m\n\u001b[1;32m      1\u001b[0m \u001b[0ml\u001b[0m\u001b[0;34m=\u001b[0m\u001b[0;34m[\u001b[0m\u001b[0;34m[\u001b[0m\u001b[0;36m1\u001b[0m\u001b[0;34m,\u001b[0m \u001b[0;36m2\u001b[0m\u001b[0;34m]\u001b[0m\u001b[0;34m,\u001b[0m \u001b[0;34m[\u001b[0m\u001b[0;36m3\u001b[0m\u001b[0;34m,\u001b[0m \u001b[0;36m4\u001b[0m\u001b[0;34m]\u001b[0m\u001b[0;34m]\u001b[0m\u001b[0;34m\u001b[0m\u001b[0;34m\u001b[0m\u001b[0m\n\u001b[0;32m----> 2\u001b[0;31m \u001b[0ml\u001b[0m\u001b[0;34m[\u001b[0m\u001b[0;36m0\u001b[0m\u001b[0;34m:\u001b[0m\u001b[0;36m1\u001b[0m\u001b[0;34m,\u001b[0m\u001b[0;36m0\u001b[0m\u001b[0;34m:\u001b[0m\u001b[0;36m2\u001b[0m\u001b[0;34m]\u001b[0m\u001b[0;34m\u001b[0m\u001b[0;34m\u001b[0m\u001b[0m\n\u001b[0m",
      "\u001b[0;31mTypeError\u001b[0m: list indices must be integers or slices, not tuple"
     ]
    }
   ],
   "source": [
    "l=[[1, 2], [3, 4]]\n",
    "l[0:1,0:2]"
   ]
  },
  {
   "cell_type": "code",
   "execution_count": 22,
   "metadata": {},
   "outputs": [
    {
     "data": {
      "text/plain": [
       "array([[1, 2]])"
      ]
     },
     "execution_count": 22,
     "metadata": {},
     "output_type": "execute_result"
    }
   ],
   "source": [
    "a[0:1][0:2]"
   ]
  },
  {
   "cell_type": "code",
   "execution_count": 23,
   "metadata": {},
   "outputs": [
    {
     "name": "stdout",
     "output_type": "stream",
     "text": [
      "[2 4 6]\n",
      "[2 3 4 5 6 7]\n",
      "2\n",
      "[2 3 4 5 6 7 8 9]\n"
     ]
    }
   ],
   "source": [
    "# Slicing\n",
    "a = np.arange(10)\n",
    "\n",
    "print(a[2:8:2])\n",
    "print(a[2:8])\n",
    "print(a[2])\n",
    "print(a[2:])"
   ]
  },
  {
   "cell_type": "markdown",
   "metadata": {},
   "source": [
    "## 4. Change the shape of an array\n",
    "\n",
    "Gives a new shape to an array without changing its data.\n",
    "\n",
    "* numpy.reshape(a, newshape, order='C')"
   ]
  },
  {
   "cell_type": "code",
   "execution_count": 14,
   "metadata": {},
   "outputs": [
    {
     "name": "stdout",
     "output_type": "stream",
     "text": [
      "[0 1 2 3 4 5]\n",
      "[[0 1]\n",
      " [2 3]\n",
      " [4 5]]\n"
     ]
    }
   ],
   "source": [
    "a = np.arange(6)\n",
    "\n",
    "b = a.reshape(3,2) # rows,cols\n",
    "print(a)\n",
    "print(b)"
   ]
  },
  {
   "cell_type": "markdown",
   "metadata": {},
   "source": [
    "## 5. Broadcasting\n",
    "\n",
    "The term broadcasting describes how numpy treats arrays with different shapes during arithmetic\n",
    "operations. Subject to certain constraints, the smaller array is “broadcast” across the larger array\n",
    "so that they have compatible shapes. Broadcasting provides a means of vectorizing array\n",
    "operations so that looping occurs in C instead of Python. It does this without making needless\n",
    "copies of data and usually leads to efficient algorithm implementations. There are, however, cases\n",
    "where broadcasting is a bad idea because it leads to inefficient use of memory that slows\n",
    "computation.\n",
    "\n",
    "NumPy operations are usually done on pairs of arrays on an element-by-element basis. In the\n",
    "simplest case, the two arrays must have exactly the same shape,"
   ]
  },
  {
   "cell_type": "code",
   "execution_count": 16,
   "metadata": {},
   "outputs": [
    {
     "name": "stdout",
     "output_type": "stream",
     "text": [
      "[ 1  4  9 16]\n"
     ]
    }
   ],
   "source": [
    "a = np.array([1,2,3,4])\n",
    "b = np.array([1,2,3,4])\n",
    "c = a * b\n",
    "print(c)"
   ]
  },
  {
   "cell_type": "markdown",
   "metadata": {},
   "source": [
    "When operating on two arrays, NumPy compares their shapes element-wise. It starts with the\n",
    "\n",
    "trailing dimensions and works its way forward. Two dimensions are compatible when\n",
    "\n",
    "* they are equal, or\n",
    "* one of them is 1\n",
    "\n",
    "If these conditions are not met, a ValueError: operands could not be broadcast together exception\n",
    "is thrown, indicating that the arrays have incompatible shapes. The size of the resulting array is the\n",
    "size that is not 1 along each axis of the inputs.\n",
    "\n",
    "Arrays do not need to have the same number of dimensions. For example, if you have a\n",
    "256x256x3 array of RGB values, and you want to scale each color in the image by a different\n",
    "value, you can multiply the image by a one-dimensional array with 3 values."
   ]
  },
  {
   "cell_type": "code",
   "execution_count": 28,
   "metadata": {},
   "outputs": [
    {
     "name": "stdout",
     "output_type": "stream",
     "text": [
      "(3, 3)\n",
      "(3,)\n",
      "b = \n",
      " [1 2 3]\n"
     ]
    }
   ],
   "source": [
    "a = np.array([[1, 2, 3],[4, 5, 6],[7, 8, 9]])\n",
    "b = np.array([1, 2, 3])                              \n",
    "print(a.shape)  \n",
    "print(b.shape)\n",
    "print(\"b = \\n\",b)"
   ]
  },
  {
   "cell_type": "code",
   "execution_count": 29,
   "metadata": {},
   "outputs": [
    {
     "data": {
      "text/plain": [
       "array([[1, 2, 3],\n",
       "       [1, 2, 3],\n",
       "       [1, 2, 3]])"
      ]
     },
     "execution_count": 29,
     "metadata": {},
     "output_type": "execute_result"
    }
   ],
   "source": [
    "np.array([b,b,b])"
   ]
  },
  {
   "cell_type": "code",
   "execution_count": 30,
   "metadata": {},
   "outputs": [
    {
     "name": "stdout",
     "output_type": "stream",
     "text": [
      "a:\n",
      " [[1 2 3]\n",
      " [4 5 6]\n",
      " [7 8 9]]\n",
      "broadcasting:\n",
      " [[ 2  4  6]\n",
      " [ 5  7  9]\n",
      " [ 8 10 12]]\n"
     ]
    }
   ],
   "source": [
    "c = a + b\n",
    "print(\"a:\\n\",a)\n",
    "print(\"broadcasting:\\n\",c)"
   ]
  },
  {
   "cell_type": "markdown",
   "metadata": {},
   "source": [
    "## 6. NumPy common functions\n",
    "\n",
    "### 6.1 ndarray.flat()\n",
    "\n",
    "A 1-D iterator over the array.\n",
    "\n",
    "This is a numpy.flatiter instance, which acts similarly to, but is not a subclass of, Python’s built-in\n",
    "iterator object."
   ]
  },
  {
   "cell_type": "code",
   "execution_count": 31,
   "metadata": {},
   "outputs": [
    {
     "name": "stdout",
     "output_type": "stream",
     "text": [
      "[[1 2 3]\n",
      " [4 5 6]\n",
      " [7 8 9]]\n"
     ]
    }
   ],
   "source": [
    "a = np.array([[1, 2, 3],[4, 5, 6],[7, 8, 9]])\n",
    "print(a)\n"
   ]
  },
  {
   "cell_type": "code",
   "execution_count": 32,
   "metadata": {},
   "outputs": [
    {
     "name": "stdout",
     "output_type": "stream",
     "text": [
      "[1 2 3 4 5 6 7 8 9]\n"
     ]
    }
   ],
   "source": [
    "print(a.flat[:])"
   ]
  },
  {
   "cell_type": "markdown",
   "metadata": {},
   "source": [
    "### 6.2 ndarray.transpose()\n",
    "Returns a view of the array with axes transposed"
   ]
  },
  {
   "cell_type": "code",
   "execution_count": 33,
   "metadata": {},
   "outputs": [
    {
     "name": "stdout",
     "output_type": "stream",
     "text": [
      "[[1 2 3]\n",
      " [4 5 6]\n",
      " [7 8 9]]\n",
      "transpose : \n",
      "[[1 4 7]\n",
      " [2 5 8]\n",
      " [3 6 9]]\n"
     ]
    }
   ],
   "source": [
    "a = np.array([[1, 2, 3],[4, 5, 6],[7, 8, 9]])\n",
    "print(a)\n",
    "print(\"transpose : \")\n",
    "print(np.transpose(a))"
   ]
  },
  {
   "cell_type": "markdown",
   "metadata": {},
   "source": [
    "### 6.3 numpy.concatenate((a1, a2, ...), axis=0, out=None)\n",
    "\n",
    "Join a sequence of arrays along an existing axis.\n",
    "\n",
    " * a1, a2, ...: The arrays must have the same shape, except in the dimension corresponding to axis (the first, by default).\n",
    " * axis:The axis along which the arrays will be joined. If axis is None, arrays are flattened before use. Default is 0."
   ]
  },
  {
   "cell_type": "code",
   "execution_count": 34,
   "metadata": {},
   "outputs": [
    {
     "name": "stdout",
     "output_type": "stream",
     "text": [
      "a \n",
      " [[0 1 2]\n",
      " [3 4 5]]\n",
      "b \n",
      " [[ 7  8  9]\n",
      " [10 11 12]]\n"
     ]
    }
   ],
   "source": [
    "a = np.arange(6).reshape(2,3)\n",
    "b = np.arange(7,13).reshape(2,3)\n",
    "\n",
    "print(\"a \\n\",a)\n",
    "print(\"b \\n\",b)"
   ]
  },
  {
   "cell_type": "code",
   "execution_count": 35,
   "metadata": {},
   "outputs": [
    {
     "name": "stdout",
     "output_type": "stream",
     "text": [
      "[[ 0  1  2]\n",
      " [ 3  4  5]\n",
      " [ 7  8  9]\n",
      " [10 11 12]]\n",
      "\n",
      "[[ 0  1  2  7  8  9]\n",
      " [ 3  4  5 10 11 12]]\n"
     ]
    }
   ],
   "source": [
    "print(np.concatenate((a,b), axis = 0)) #axis=0 row\n",
    "print()\n",
    "print(np.concatenate((a,b), axis = 1)) #axis=1 col"
   ]
  },
  {
   "cell_type": "code",
   "execution_count": 36,
   "metadata": {},
   "outputs": [
    {
     "name": "stdout",
     "output_type": "stream",
     "text": [
      "[[ 0  1  2]\n",
      " [ 3  4  5]\n",
      " [ 7  8  9]\n",
      " [10 11 12]]\n"
     ]
    }
   ],
   "source": [
    "print(np.concatenate((a,b)))"
   ]
  },
  {
   "cell_type": "markdown",
   "metadata": {},
   "source": [
    "## 6.7 numpy.delete(arr, obj, axis=None)\n",
    "\n",
    "Return a new array with sub-arrays along an axis deleted. For a one dimensional array, this returns\n",
    "those entries not returned by arr[obj]."
   ]
  },
  {
   "cell_type": "code",
   "execution_count": 25,
   "metadata": {},
   "outputs": [
    {
     "name": "stdout",
     "output_type": "stream",
     "text": [
      "a= \n",
      " [[0 1 2]\n",
      " [3 4 5]]\n",
      "b= \n",
      " [[0 2]\n",
      " [3 5]]\n",
      "c= \n",
      " [0 2 3 4 5]\n"
     ]
    }
   ],
   "source": [
    "a = np.arange(6).reshape(2,3)\n",
    "b = np.delete(a,1,axis=1)   \n",
    "c = np.delete(a,1)\n",
    "print('a= \\n',a)\n",
    "print('b= \\n',b)\n",
    "print('c= \\n',c)   "
   ]
  },
  {
   "cell_type": "markdown",
   "metadata": {},
   "source": [
    "# 7. Matrix\n",
    "\n",
    "This module contains all functions in the numpy namespace, with the following replacement functions that return matrices instead of ndarrays.\n",
    "\n",
    " * empty(shape[, dtype, order])\n",
    " \n",
    "   Return a new matrix of given shape and type, without initializing entries.\n",
    "   \n",
    " * zeros(shape[, dtype, order])\n",
    " \n",
    "   Return a matrix of given shape and type, filled with zeros.\n",
    "   \n",
    " * ones(shape[, dtype, order])\n",
    "    Return Matrix of ones.\n",
    "    \n",
    " * eye(n[, M, k, dtype, order])\n",
    " \n",
    "   Return a matrix with ones on the diagonal and zeros elsewhere.\n",
    "   \n",
    " * identity(n[, dtype])\n",
    " \n",
    "   Returns the square identity matrix of given size.\n",
    "   \n",
    " * repmat(a, m, n)\n",
    " \n",
    "   Repeat a 0-D to 2-D array or matrix MxN times.\n",
    "   \n",
    " * rand(*args)\n",
    " \n",
    "   Return a matrix of random values with given shape.\n",
    "   \n",
    " * randn(*args)\n",
    " \n",
    "   Return a random matrix with data from the “standard normal” distribution."
   ]
  },
  {
   "cell_type": "markdown",
   "metadata": {},
   "source": [
    "##  7.1 creat a matrix by np.matlib.zeros() and np.matlib.ones()"
   ]
  },
  {
   "cell_type": "code",
   "execution_count": 38,
   "metadata": {},
   "outputs": [],
   "source": [
    "from numpy import matlib"
   ]
  },
  {
   "cell_type": "code",
   "execution_count": 39,
   "metadata": {},
   "outputs": [
    {
     "name": "stdout",
     "output_type": "stream",
     "text": [
      "a=\n",
      "[[0. 0.]\n",
      " [0. 0.]]\n",
      "b=\n",
      "[[1. 1.]\n",
      " [1. 1.]]\n"
     ]
    }
   ],
   "source": [
    "a=matlib.zeros((2,2)) # matrix full of zeros\n",
    "b=matlib.ones((2,2)) # matrix full of ones\n",
    "print('a=')\n",
    "print(a)\n",
    "print('b=')\n",
    "print(b)"
   ]
  },
  {
   "cell_type": "markdown",
   "metadata": {},
   "source": [
    "### 7.2 creat a diagonal matrix by np.matlib.eye()"
   ]
  },
  {
   "cell_type": "code",
   "execution_count": 40,
   "metadata": {},
   "outputs": [
    {
     "name": "stdout",
     "output_type": "stream",
     "text": [
      "c=\n",
      "[[1. 0. 0.]\n",
      " [0. 1. 0.]\n",
      " [0. 0. 1.]]\n"
     ]
    }
   ],
   "source": [
    "c=np.matlib.eye(3)\n",
    "print('c=')\n",
    "print(c)"
   ]
  },
  {
   "cell_type": "markdown",
   "metadata": {},
   "source": [
    "### 7.3 transfer between array and matrix"
   ]
  },
  {
   "cell_type": "code",
   "execution_count": 41,
   "metadata": {},
   "outputs": [
    {
     "name": "stdout",
     "output_type": "stream",
     "text": [
      "[[1 2]\n",
      " [3 4]]\n",
      "<class 'numpy.matrix'>\n",
      "matrix a=\n",
      "[[1 2 3]\n",
      " [4 5 6]]\n",
      "<class 'numpy.matrix'>\n",
      "array b=\n",
      "[[1 2 3]\n",
      " [4 5 6]]\n",
      "<class 'numpy.ndarray'>\n"
     ]
    }
   ],
   "source": [
    "# transfer an array to a matrix\n",
    "d = np.array([[1,2],[3,4]])\n",
    "d = np.mat(d)\n",
    "print(d)\n",
    "print(type(d))\n",
    "# transfer a matrix to an array\n",
    "a=np.mat([[1,2,3],[4,5,6]])\n",
    "b=a.getA()\n",
    "print('matrix a=')\n",
    "print(a)\n",
    "print(type(a))\n",
    "print('array b=')\n",
    "print(b)\n",
    "print(type(b))"
   ]
  },
  {
   "cell_type": "markdown",
   "metadata": {},
   "source": [
    "### 7.4 randomly create a matrix by np.matlib.rand()"
   ]
  },
  {
   "cell_type": "code",
   "execution_count": 42,
   "metadata": {},
   "outputs": [
    {
     "name": "stdout",
     "output_type": "stream",
     "text": [
      "a= [[0.70945994 0.05755482 0.38317359]\n",
      " [0.81396662 0.67205555 0.8817114 ]\n",
      " [0.98688524 0.26801778 0.2208896 ]]\n"
     ]
    }
   ],
   "source": [
    "a=np.matlib.rand(3,3)  #0-->1\n",
    "print('a=',a) "
   ]
  },
  {
   "cell_type": "markdown",
   "metadata": {},
   "source": [
    "### 7.7 matrix operations\n",
    "\n",
    "matrix.dot(b, out=None) / numpy.dot(a, b, out=None)\n",
    "\n",
    "Dot product of two arrays.\n",
    "\n",
    "Dot product of two arrays. Specifically,\n",
    "\n",
    "* If both a and b are 1-D arrays, it is inner product of vectors (without complex conjugation).\n",
    "\n",
    "* If both a and b are 2-D arrays, it is matrix multiplication, but using matmul or a @ b is preferred.\n",
    "\n",
    "* If either a or b is 0-D (scalar), it is equivalent to multiply and using numpy.multiply(a, b) or a * b is preferred.\n",
    "\n",
    "* If a is an N-D array and b is a 1-D array, it is a sum product over the last axis of a and b.\n",
    "\n",
    "* If a is an N-D array and b is an M-D array (where M>=2), it is a sum product over the last axis of a and the second-to-last axis of b:\n",
    "\n",
    "  * dot(a, b)[i,j,k,m] = sum(a[i,j,:] * b[k,:,m])"
   ]
  },
  {
   "cell_type": "code",
   "execution_count": 43,
   "metadata": {},
   "outputs": [
    {
     "name": "stdout",
     "output_type": "stream",
     "text": [
      "a\n",
      "[[1 0]\n",
      " [0 1]]\n",
      "b\n",
      "[[1 1]\n",
      " [2 2]]\n",
      "[[1 1]\n",
      " [2 2]]\n",
      "[[1 1]\n",
      " [2 2]]\n",
      "[[1 1]\n",
      " [2 2]]\n",
      "[[1 0]\n",
      " [0 2]]\n",
      "[[1 0]\n",
      " [0 2]]\n"
     ]
    }
   ],
   "source": [
    "a = np.array([[1, 0], [0, 1]])\n",
    "b = np.array([[1, 1], [2, 2]])\n",
    "print(\"a\")\n",
    "print(a)\n",
    "print(\"b\")\n",
    "print(b)\n",
    "\n",
    "print(np.dot(a, b)) # matrix multiplication\n",
    "print(a@b) # matrix multiplication\n",
    "print(np.matmul(a,b)) \n",
    "\n",
    "print(np.multiply(a,b)) #*\n",
    "print(a*b)"
   ]
  },
  {
   "cell_type": "code",
   "execution_count": 44,
   "metadata": {},
   "outputs": [
    {
     "name": "stdout",
     "output_type": "stream",
     "text": [
      "[[1 0]\n",
      " [0 2]]\n",
      "[[1 0]\n",
      " [0 2]]\n"
     ]
    }
   ],
   "source": [
    "print(np.multiply(a,b)) # equivalent to multiply\n",
    "print(a*b) # equivalent to multiply"
   ]
  },
  {
   "cell_type": "markdown",
   "metadata": {},
   "source": [
    "## # 7.5 mat/matrix/asmatrix:\n",
    "\n",
    "Functions that are also in the numpy namespace and return matrices\n",
    "\n",
    " * mat(data[, dtype])\n",
    "  * Interpret the input as a matrix.\n",
    " * matrix(data[, dtype, copy])\n",
    "  * Note: It is no longer recommended to use this class, even for linear\n",
    " * asmatrix(data[, dtype])\n",
    "  * Interpret the input as a matrix."
   ]
  },
  {
   "cell_type": "code",
   "execution_count": 45,
   "metadata": {},
   "outputs": [
    {
     "name": "stdout",
     "output_type": "stream",
     "text": [
      "array a=\n",
      "[1 2 3]\n",
      "matrix b=\n",
      "[[1 2 3]]\n",
      "matrix c=\n",
      "[[1 2 3]]\n",
      "matrix d=\n",
      "[[1 2 3]]\n"
     ]
    }
   ],
   "source": [
    "a=np.array([1,2,3])\n",
    "b=np.mat(a)\n",
    "d=np.asmatrix(a)\n",
    "c=np.matrix(a)\n",
    "print('array a=')\n",
    "print(a)\n",
    "print('matrix b=')\n",
    "print(b)\n",
    "print('matrix c=')\n",
    "print(c)\n",
    "print('matrix d=')\n",
    "print(d)"
   ]
  },
  {
   "cell_type": "markdown",
   "metadata": {},
   "source": [
    "### 7.8 Matrix Inverse"
   ]
  },
  {
   "cell_type": "code",
   "execution_count": 27,
   "metadata": {},
   "outputs": [
    {
     "name": "stdout",
     "output_type": "stream",
     "text": [
      "matrix a=\n",
      "[[2 0 0]\n",
      " [0 1 0]\n",
      " [0 0 2]]\n",
      "matrix b=\n",
      "[[0.5 0.  0. ]\n",
      " [0.  1.  0. ]\n",
      " [0.  0.  0.5]]\n"
     ]
    }
   ],
   "source": [
    "#ab^-1\n",
    "a=np.matrix([[2,0,0],\n",
    "[0,1,0],\n",
    "[0,0,2]])\n",
    "b=a.I \n",
    "print('matrix a=')\n",
    "print(a)\n",
    "print('matrix b=')\n",
    "print(b)"
   ]
  },
  {
   "cell_type": "markdown",
   "metadata": {},
   "source": [
    "### 7.9 Determinant of a Matrix"
   ]
  },
  {
   "cell_type": "code",
   "execution_count": 47,
   "metadata": {},
   "outputs": [
    {
     "name": "stdout",
     "output_type": "stream",
     "text": [
      "matrix a=\n",
      "[[1 2]\n",
      " [3 4]]\n",
      " b=\n",
      "-2.0000000000000004\n"
     ]
    }
   ],
   "source": [
    "# |A|\n",
    "\n",
    "a=np.matrix([[1,2],\n",
    "[3,4]])\n",
    "\n",
    "b=np.linalg.det(a)\n",
    "print('matrix a=')\n",
    "print(a)\n",
    "print(' b=')\n",
    "print(b)"
   ]
  },
  {
   "cell_type": "markdown",
   "metadata": {},
   "source": [
    "### 7.10 sum,max,min"
   ]
  },
  {
   "cell_type": "code",
   "execution_count": 28,
   "metadata": {},
   "outputs": [
    {
     "data": {
      "text/plain": [
       "matrix([[1, 2],\n",
       "        [3, 4]])"
      ]
     },
     "execution_count": 28,
     "metadata": {},
     "output_type": "execute_result"
    }
   ],
   "source": [
    "a=np.matrix([[1,2],\n",
    "[3,4]])\n",
    "a"
   ]
  },
  {
   "cell_type": "code",
   "execution_count": 30,
   "metadata": {},
   "outputs": [
    {
     "name": "stdout",
     "output_type": "stream",
     "text": [
      "1\n"
     ]
    }
   ],
   "source": [
    "print(a.min())"
   ]
  },
  {
   "cell_type": "code",
   "execution_count": 31,
   "metadata": {},
   "outputs": [
    {
     "data": {
      "text/plain": [
       "10"
      ]
     },
     "execution_count": 31,
     "metadata": {},
     "output_type": "execute_result"
    }
   ],
   "source": [
    "a.sum()"
   ]
  },
  {
   "cell_type": "code",
   "execution_count": 49,
   "metadata": {},
   "outputs": [
    {
     "name": "stdout",
     "output_type": "stream",
     "text": [
      " b= [[4 6]]\n",
      " c=\n",
      "[[3]\n",
      " [7]]\n"
     ]
    }
   ],
   "source": [
    "b=a.sum(axis=0)  #sum by columns\n",
    "c=a.sum(axis=1)  #sum of raws\n",
    "\n",
    "print(' b=',b)\n",
    "print(' c=')\n",
    "print(c)"
   ]
  },
  {
   "cell_type": "code",
   "execution_count": 50,
   "metadata": {},
   "outputs": [
    {
     "name": "stdout",
     "output_type": "stream",
     "text": [
      " d= 4\n",
      " e= 1\n"
     ]
    }
   ],
   "source": [
    "d=a.max()\n",
    "e=a.min()\n",
    "print(' d=',d)\n",
    "print(' e=',e)"
   ]
  },
  {
   "cell_type": "markdown",
   "metadata": {},
   "source": [
    "## 8. Random sampling\n",
    "\n",
    "### 8.1 Simple random data\n",
    "\n",
    " * rand(d0, d1, ..., dn) Random values ([0.0, 1.0)) in a given shape.\n",
    " * randn(d0, d1, ..., dn) Return a sample (or samples) from the “standard normal” distribution.\n",
    " * randint(low[, high, size, dtype]) Return random integers from low (inclusive) to high (exclusive)."
   ]
  },
  {
   "cell_type": "code",
   "execution_count": 51,
   "metadata": {},
   "outputs": [
    {
     "name": "stdout",
     "output_type": "stream",
     "text": [
      "r1= \n",
      " [[0.77115699 0.71495052]\n",
      " [0.15927913 0.33792276]]\n",
      "r2= \n",
      " [[ 1.64066188 -0.4482385 ]\n",
      " [-0.281003   -1.71800181]]\n",
      "r3= \n",
      " 4\n"
     ]
    }
   ],
   "source": [
    "r1=np.random.rand(2,2)   # return value from 0 => 1\n",
    "r2=np.random.randn(2,2)  # return vaue from  standard distibution \n",
    "r3=np.random.randint(0,5)\n",
    "print('r1=','\\n',r1)\n",
    "print('r2=','\\n',r2)\n",
    "print('r3=','\\n',r3)"
   ]
  },
  {
   "cell_type": "markdown",
   "metadata": {},
   "source": [
    "* numpy.random.choice(a, size=None, replace=True, p=None)\n",
    "  * a : If an ndarray, a random sample is generated from its elements. If an int, the random sample is generated as if a was np.arange(n)\n",
    "  \n",
    "  * size : Output shape.\n",
    "  \n",
    "  * replace : boolean, optional; Whether the sample is with or without replacement\n",
    "  \n",
    "  * p : 1-D array-like, optional; The probabilities associated with each entry in a. If not given the sample assumes a uniform distribution         over all entries in a."
   ]
  },
  {
   "cell_type": "code",
   "execution_count": 52,
   "metadata": {},
   "outputs": [
    {
     "name": "stdout",
     "output_type": "stream",
     "text": [
      "[[4 3]\n",
      " [5 2]]\n"
     ]
    }
   ],
   "source": [
    "r3=np.random.choice([1,2,3,4,5], (2,2), p=[0.2, 0.2, 0.2, 0.2, 0.2])\n",
    "print(r3)"
   ]
  },
  {
   "cell_type": "code",
   "execution_count": 53,
   "metadata": {},
   "outputs": [
    {
     "name": "stdout",
     "output_type": "stream",
     "text": [
      "a= \n",
      " [1 2 3 4 5]\n",
      "a= \n",
      " [3 4 2 1 5]\n",
      "a= \n",
      " [3 4 2 1 5]\n",
      "c= \n",
      " [1 3 5 4 2]\n"
     ]
    }
   ],
   "source": [
    "a=np.array([1,2,3,4,5])\n",
    "print('a=','\\n',a)\n",
    "np.random.shuffle(a) # rearange a given sequance\n",
    "print('a=','\\n',a)\n",
    "c=np.random.permutation(a)# return copy of a given sequence\n",
    "print('a=','\\n',a)\n",
    "print('c=','\\n',c)"
   ]
  },
  {
   "cell_type": "markdown",
   "metadata": {},
   "source": [
    "### 8.3 Distributions\n",
    "\n",
    "* normal([loc, scale, size]) Draw random samples from a normal (Gaussian) distribution.\n",
    "\n",
    "  * loc : Mean (“centre”) of the distribution.\n",
    "  \n",
    "  * scale : Standard deviation (spread or “width”) of the distribution.\n",
    "  \n",
    "  * size : Output shape.\n",
    "  \n",
    "  \n",
    "* uniform([low, high, size]) Draw samples from a uniform distribution.\n",
    "\n",
    "  * Samples are uniformly distributed over the half-open interval [low, high) (includes low, but excludes high). In other words, any value          within the given interval is equally likely to be drawn by uniform.\n",
    "  \n",
    "  * low : Lower boundary of the output interval. All values generated will be greater than or equal to low. The default value is 0.\n",
    "  \n",
    "  * high : Upper boundary of the output interval. All values generated will be less than high. The default value is 1.0.\n",
    "  \n",
    "  * size : Output shape.\n",
    "  \n",
    "  * poisson([lam, size]) Draw samples from a Poisson distribution.\n",
    "  \n",
    "  * lam : Expectation of interval, should be >= 0. A sequence of expectation intervals must be broadcastable over the requested size.\n",
    "  \n",
    "  * size : Output shape."
   ]
  },
  {
   "cell_type": "code",
   "execution_count": 54,
   "metadata": {},
   "outputs": [
    {
     "name": "stdout",
     "output_type": "stream",
     "text": [
      "r1= \n",
      " [ 0.07250858  0.01487667  0.11534487 -0.0513803   0.01649688]\n",
      "r2= \n",
      " [1.13803444 4.50925392]\n",
      "r3= \n",
      " [3 4]\n"
     ]
    }
   ],
   "source": [
    "r1=np.random.normal(0,0.1,5)  # mean , sandard devietion , size\n",
    "r2=np.random.uniform(0,5,2)   # 0-> 5 \n",
    "r3=np.random.poisson(5,2)   # exceptation of interval , shape\n",
    "print('r1=','\\n',r1)\n",
    "print('r2=','\\n',r2)\n",
    "\n",
    "print('r3=','\\n',r3)"
   ]
  },
  {
   "cell_type": "markdown",
   "metadata": {},
   "source": [
    "## 9. Common mathematical functions\n",
    "\n",
    "### 9.1 Trigonometric functions\n",
    "\n",
    " * sin(x, /[, out, where, casting, order, ...]) Trigonometric sine, element-wise.\n",
    " * cos(x, /[, out, where, casting, order, ...]) Cosine element-wise"
   ]
  },
  {
   "cell_type": "code",
   "execution_count": 55,
   "metadata": {},
   "outputs": [
    {
     "name": "stdout",
     "output_type": "stream",
     "text": [
      "b= \n",
      " [0.         0.5        0.70710678 0.8660254  1.        ]\n",
      "c= \n",
      " [1.00000000e+00 8.66025404e-01 7.07106781e-01 5.00000000e-01\n",
      " 6.12323400e-17]\n"
     ]
    }
   ],
   "source": [
    "a=np.array([0,30,45,60,90])\n",
    "b=np.sin(a*np.pi/180)\n",
    "c=np.cos(a*np.pi/180)\n",
    "print('b=','\\n',b)\n",
    "print('c=','\\n',c)"
   ]
  },
  {
   "cell_type": "markdown",
   "metadata": {},
   "source": [
    "### 9.2 Rounding\n",
    "\n",
    " * around(a[, decimals, out]) Evenly round to the given number of decimals.\n",
    " * floor(x, /[, out, where, casting, order, ...]) Return the floor of the input, element-wise.\n",
    " * ceil(x, /[, out, where, casting, order, ...]) Return the ceiling of the input, element-wise."
   ]
  },
  {
   "cell_type": "code",
   "execution_count": 56,
   "metadata": {},
   "outputs": [
    {
     "name": "stdout",
     "output_type": "stream",
     "text": [
      "b= [2. 2. 3. 3.]\n",
      "c= [1.7 1.6 2.7 2.6]\n"
     ]
    }
   ],
   "source": [
    "a=np.array([1.7111,1.555,2.748,2.55])\n",
    "b=np.around(a)\n",
    "c=np.around(a,decimals=1) # one digit after decimal point\n",
    "print('b=',b)\n",
    "print('c=',c)"
   ]
  },
  {
   "cell_type": "code",
   "execution_count": 57,
   "metadata": {},
   "outputs": [
    {
     "name": "stdout",
     "output_type": "stream",
     "text": [
      "d= [1. 1. 2. 2.]\n",
      "e= [2. 2. 3. 3.]\n"
     ]
    }
   ],
   "source": [
    "d=np.floor(a)\n",
    "e=np.ceil(a)\n",
    "print('d=',d)\n",
    "print('e=',e)"
   ]
  },
  {
   "cell_type": "markdown",
   "metadata": {},
   "source": [
    "### 9.3 Arithmetic operations"
   ]
  },
  {
   "cell_type": "code",
   "execution_count": 58,
   "metadata": {},
   "outputs": [
    {
     "name": "stdout",
     "output_type": "stream",
     "text": [
      "c= [5 5 5 5]\n",
      "d= [-3 -1  1  3]\n",
      "e= [4 6 6 4]\n",
      "f= [0.25       0.66666667 1.5        4.        ]\n",
      "g= [1 2 1 0]\n",
      "h= [1 8 9 4]\n"
     ]
    }
   ],
   "source": [
    "a=np.array([1,2,3,4])\n",
    "b=np.array([4,3,2,1])\n",
    "c=np.add(a,b)\n",
    "d=np.subtract(a,b)\n",
    "e=np.multiply(a,b)\n",
    "f=np.divide(a,b)\n",
    "g=np.mod(a,b)\n",
    "h=np.power(a,b)\n",
    "print('c=',c)\n",
    "print('d=',d)\n",
    "print('e=',e)\n",
    "print('f=',f)\n",
    "print('g=',g)\n",
    "print('h=',h)"
   ]
  },
  {
   "cell_type": "markdown",
   "metadata": {},
   "source": [
    "### 9.5 Sort function\n",
    "\n",
    " * numpy.sort(a, axis=-1, kind='quicksort', order=None)\n",
    " \n",
    "Return a sorted copy of an array.\n"
   ]
  },
  {
   "cell_type": "code",
   "execution_count": 2,
   "metadata": {},
   "outputs": [
    {
     "name": "stdout",
     "output_type": "stream",
     "text": [
      "[[3 5 1]\n",
      " [2 8 7]]\n",
      "[[1 3 5]\n",
      " [2 7 8]]\n"
     ]
    }
   ],
   "source": [
    "import numpy as np\n",
    "a=np.array([[3,5,1],[2,8,7]])\n",
    "print(a)\n",
    "b=np.sort(a,axis=0)\n",
    "print(b)"
   ]
  },
  {
   "cell_type": "markdown",
   "metadata": {},
   "source": [
    "# 02 Pandas\n",
    "\n",
    "pandas is a fast, powerful, flexible and easy to use open source data analysis and manipulation\n",
    "tool, built on top of the Python programming language"
   ]
  },
  {
   "cell_type": "code",
   "execution_count": 60,
   "metadata": {},
   "outputs": [],
   "source": [
    "import pandas as pd\n",
    "import numpy as np"
   ]
  },
  {
   "cell_type": "markdown",
   "metadata": {},
   "source": [
    "### 1. Series\n",
    "\n",
    "Series is a one-dimensional labeled array capable of holding any data type (integers, strings,\n",
    "floating point numbers, Python objects, etc.). The axis labels are collectively referred to as the\n",
    "index."
   ]
  },
  {
   "cell_type": "markdown",
   "metadata": {},
   "source": [
    "### 1.1 create a Series\n",
    " * pandas.Series(data=None, index=None, dtype=None, name=None, copy=False, fastpath=False)"
   ]
  },
  {
   "cell_type": "code",
   "execution_count": 61,
   "metadata": {},
   "outputs": [
    {
     "name": "stdout",
     "output_type": "stream",
     "text": [
      "0    1.0\n",
      "1    3.0\n",
      "2    5.0\n",
      "3    NaN\n",
      "4    6.0\n",
      "5    8.0\n",
      "dtype: float64\n"
     ]
    }
   ],
   "source": [
    "s = pd.Series([1,3,5,np.nan,6,8]) # np.nan: Not a Number\n",
    "print(s) # NaN (not a number) is the standard missing data marker used in pandas."
   ]
  },
  {
   "cell_type": "markdown",
   "metadata": {},
   "source": [
    "## 1.2 create a Series from an array"
   ]
  },
  {
   "cell_type": "code",
   "execution_count": 62,
   "metadata": {},
   "outputs": [
    {
     "name": "stdout",
     "output_type": "stream",
     "text": [
      "0    a\n",
      "1    b\n",
      "2    c\n",
      "3    d\n",
      "dtype: object\n"
     ]
    }
   ],
   "source": [
    "data = np.array(['a','b','c','d'])\n",
    "s = pd.Series(data)\n",
    "print(s)"
   ]
  },
  {
   "cell_type": "markdown",
   "metadata": {},
   "source": [
    "### 1.3 create a Series from a dict\n",
    "\n",
    "When the data is a dict, and an index is not passed, the Series index will be ordered by the dict’s\n",
    "insertion order, if you’re using Python version >= 3.6 and Pandas version >= 0.23."
   ]
  },
  {
   "cell_type": "code",
   "execution_count": 63,
   "metadata": {},
   "outputs": [
    {
     "name": "stdout",
     "output_type": "stream",
     "text": [
      "a    0.0\n",
      "b    1.0\n",
      "c    2.0\n",
      "dtype: float64\n"
     ]
    }
   ],
   "source": [
    "data1 = {'a' : 0., 'b' : 1., 'c' : 2.}\n",
    "s = pd.Series(data1)\n",
    "print(s)"
   ]
  },
  {
   "cell_type": "markdown",
   "metadata": {},
   "source": [
    "### 2. DataFrame\n",
    "\n",
    "DataFrame is a 2-dimensional labeled data structure with columns of potentially different types.\n",
    "You can think of it like a spreadsheet or SQL table, or a dict of Series objects. It is generally the\n",
    "most commonly used Pandas object.\n",
    "\n",
    "### 2.1 create a DataFrame from dict of Series or dicts"
   ]
  },
  {
   "cell_type": "code",
   "execution_count": 64,
   "metadata": {},
   "outputs": [
    {
     "data": {
      "text/html": [
       "<div>\n",
       "<style scoped>\n",
       "    .dataframe tbody tr th:only-of-type {\n",
       "        vertical-align: middle;\n",
       "    }\n",
       "\n",
       "    .dataframe tbody tr th {\n",
       "        vertical-align: top;\n",
       "    }\n",
       "\n",
       "    .dataframe thead th {\n",
       "        text-align: right;\n",
       "    }\n",
       "</style>\n",
       "<table border=\"1\" class=\"dataframe\">\n",
       "  <thead>\n",
       "    <tr style=\"text-align: right;\">\n",
       "      <th></th>\n",
       "      <th>A</th>\n",
       "      <th>B</th>\n",
       "      <th>C</th>\n",
       "      <th>D</th>\n",
       "    </tr>\n",
       "  </thead>\n",
       "  <tbody>\n",
       "    <tr>\n",
       "      <th>2</th>\n",
       "      <td>0.665844</td>\n",
       "      <td>0.198232</td>\n",
       "      <td>-1.178356</td>\n",
       "      <td>-1.069242</td>\n",
       "    </tr>\n",
       "    <tr>\n",
       "      <th>3</th>\n",
       "      <td>0.166994</td>\n",
       "      <td>0.514337</td>\n",
       "      <td>0.058742</td>\n",
       "      <td>0.868159</td>\n",
       "    </tr>\n",
       "    <tr>\n",
       "      <th>4</th>\n",
       "      <td>0.654389</td>\n",
       "      <td>0.917959</td>\n",
       "      <td>-1.786459</td>\n",
       "      <td>-1.259204</td>\n",
       "    </tr>\n",
       "    <tr>\n",
       "      <th>5</th>\n",
       "      <td>1.442685</td>\n",
       "      <td>0.538769</td>\n",
       "      <td>2.030940</td>\n",
       "      <td>-0.806179</td>\n",
       "    </tr>\n",
       "    <tr>\n",
       "      <th>6</th>\n",
       "      <td>0.396492</td>\n",
       "      <td>-1.230108</td>\n",
       "      <td>2.369402</td>\n",
       "      <td>1.027722</td>\n",
       "    </tr>\n",
       "    <tr>\n",
       "      <th>7</th>\n",
       "      <td>-0.239479</td>\n",
       "      <td>-1.278021</td>\n",
       "      <td>1.864724</td>\n",
       "      <td>1.108063</td>\n",
       "    </tr>\n",
       "    <tr>\n",
       "      <th>8</th>\n",
       "      <td>1.644509</td>\n",
       "      <td>-0.827052</td>\n",
       "      <td>-1.071602</td>\n",
       "      <td>0.339225</td>\n",
       "    </tr>\n",
       "  </tbody>\n",
       "</table>\n",
       "</div>"
      ],
      "text/plain": [
       "          A         B         C         D\n",
       "2  0.665844  0.198232 -1.178356 -1.069242\n",
       "3  0.166994  0.514337  0.058742  0.868159\n",
       "4  0.654389  0.917959 -1.786459 -1.259204\n",
       "5  1.442685  0.538769  2.030940 -0.806179\n",
       "6  0.396492 -1.230108  2.369402  1.027722\n",
       "7 -0.239479 -1.278021  1.864724  1.108063\n",
       "8  1.644509 -0.827052 -1.071602  0.339225"
      ]
     },
     "execution_count": 64,
     "metadata": {},
     "output_type": "execute_result"
    }
   ],
   "source": [
    "# create random numbers as values\n",
    "df = pd.DataFrame(np.random.randn(7,4), index=[2,3,4,5,6,7,8]\n",
    ", columns=list('ABCD'))\n",
    "df"
   ]
  },
  {
   "cell_type": "markdown",
   "metadata": {},
   "source": [
    "### 2.2 create a DataFrame from dict of Series or dicts"
   ]
  },
  {
   "cell_type": "code",
   "execution_count": 65,
   "metadata": {},
   "outputs": [
    {
     "data": {
      "text/html": [
       "<div>\n",
       "<style scoped>\n",
       "    .dataframe tbody tr th:only-of-type {\n",
       "        vertical-align: middle;\n",
       "    }\n",
       "\n",
       "    .dataframe tbody tr th {\n",
       "        vertical-align: top;\n",
       "    }\n",
       "\n",
       "    .dataframe thead th {\n",
       "        text-align: right;\n",
       "    }\n",
       "</style>\n",
       "<table border=\"1\" class=\"dataframe\">\n",
       "  <thead>\n",
       "    <tr style=\"text-align: right;\">\n",
       "      <th></th>\n",
       "      <th>A</th>\n",
       "      <th>B</th>\n",
       "      <th>C</th>\n",
       "      <th>D</th>\n",
       "      <th>E</th>\n",
       "      <th>F</th>\n",
       "    </tr>\n",
       "  </thead>\n",
       "  <tbody>\n",
       "    <tr>\n",
       "      <th>0</th>\n",
       "      <td>1.0</td>\n",
       "      <td>2020-01-02</td>\n",
       "      <td>1.0</td>\n",
       "      <td>3</td>\n",
       "      <td>test</td>\n",
       "      <td>foo</td>\n",
       "    </tr>\n",
       "    <tr>\n",
       "      <th>1</th>\n",
       "      <td>1.0</td>\n",
       "      <td>2020-01-02</td>\n",
       "      <td>1.0</td>\n",
       "      <td>3</td>\n",
       "      <td>train</td>\n",
       "      <td>foo</td>\n",
       "    </tr>\n",
       "    <tr>\n",
       "      <th>2</th>\n",
       "      <td>1.0</td>\n",
       "      <td>2020-01-02</td>\n",
       "      <td>1.0</td>\n",
       "      <td>3</td>\n",
       "      <td>test</td>\n",
       "      <td>foo</td>\n",
       "    </tr>\n",
       "    <tr>\n",
       "      <th>3</th>\n",
       "      <td>1.0</td>\n",
       "      <td>2020-01-02</td>\n",
       "      <td>1.0</td>\n",
       "      <td>3</td>\n",
       "      <td>train</td>\n",
       "      <td>foo</td>\n",
       "    </tr>\n",
       "  </tbody>\n",
       "</table>\n",
       "</div>"
      ],
      "text/plain": [
       "     A          B    C  D      E    F\n",
       "0  1.0 2020-01-02  1.0  3   test  foo\n",
       "1  1.0 2020-01-02  1.0  3  train  foo\n",
       "2  1.0 2020-01-02  1.0  3   test  foo\n",
       "3  1.0 2020-01-02  1.0  3  train  foo"
      ]
     },
     "execution_count": 65,
     "metadata": {},
     "output_type": "execute_result"
    }
   ],
   "source": [
    "df1 = pd.DataFrame({ 'A' : 1.,\n",
    "                    'B' : pd.Timestamp('20200102'),\n",
    "                    'C' : pd.Series(1,index=list(range(4)),dtype='float32'),\n",
    "                    'D' : np.array([3] * 4,dtype='int32'),\n",
    "                    # Categoricals can only take on only a limited, and usually f\n",
    "                    'E' : pd.Categorical([\"test\",\"train\",\"test\",\"train\"]),\n",
    "                    'F' : 'foo' })\n",
    "df1"
   ]
  },
  {
   "cell_type": "markdown",
   "metadata": {},
   "source": [
    "## 3. Essential basic functionality\n",
    "\n",
    "### 3.1 Head and tail\n",
    "\n",
    "To view a small sample of a Series or DataFrame object, use the head() and tail() methods. The\n",
    "default number of elements to display is five, but you may pass a custom number."
   ]
  },
  {
   "cell_type": "code",
   "execution_count": 66,
   "metadata": {},
   "outputs": [
    {
     "data": {
      "text/html": [
       "<div>\n",
       "<style scoped>\n",
       "    .dataframe tbody tr th:only-of-type {\n",
       "        vertical-align: middle;\n",
       "    }\n",
       "\n",
       "    .dataframe tbody tr th {\n",
       "        vertical-align: top;\n",
       "    }\n",
       "\n",
       "    .dataframe thead th {\n",
       "        text-align: right;\n",
       "    }\n",
       "</style>\n",
       "<table border=\"1\" class=\"dataframe\">\n",
       "  <thead>\n",
       "    <tr style=\"text-align: right;\">\n",
       "      <th></th>\n",
       "      <th>0</th>\n",
       "      <th>1</th>\n",
       "      <th>2</th>\n",
       "      <th>3</th>\n",
       "      <th>4</th>\n",
       "    </tr>\n",
       "  </thead>\n",
       "  <tbody>\n",
       "    <tr>\n",
       "      <th>0</th>\n",
       "      <td>0</td>\n",
       "      <td>1</td>\n",
       "      <td>2</td>\n",
       "      <td>3</td>\n",
       "      <td>4</td>\n",
       "    </tr>\n",
       "    <tr>\n",
       "      <th>1</th>\n",
       "      <td>5</td>\n",
       "      <td>6</td>\n",
       "      <td>7</td>\n",
       "      <td>8</td>\n",
       "      <td>9</td>\n",
       "    </tr>\n",
       "    <tr>\n",
       "      <th>2</th>\n",
       "      <td>10</td>\n",
       "      <td>11</td>\n",
       "      <td>12</td>\n",
       "      <td>13</td>\n",
       "      <td>14</td>\n",
       "    </tr>\n",
       "    <tr>\n",
       "      <th>3</th>\n",
       "      <td>15</td>\n",
       "      <td>16</td>\n",
       "      <td>17</td>\n",
       "      <td>18</td>\n",
       "      <td>19</td>\n",
       "    </tr>\n",
       "    <tr>\n",
       "      <th>4</th>\n",
       "      <td>20</td>\n",
       "      <td>21</td>\n",
       "      <td>22</td>\n",
       "      <td>23</td>\n",
       "      <td>24</td>\n",
       "    </tr>\n",
       "    <tr>\n",
       "      <th>5</th>\n",
       "      <td>25</td>\n",
       "      <td>26</td>\n",
       "      <td>27</td>\n",
       "      <td>28</td>\n",
       "      <td>29</td>\n",
       "    </tr>\n",
       "    <tr>\n",
       "      <th>6</th>\n",
       "      <td>30</td>\n",
       "      <td>31</td>\n",
       "      <td>32</td>\n",
       "      <td>33</td>\n",
       "      <td>34</td>\n",
       "    </tr>\n",
       "    <tr>\n",
       "      <th>7</th>\n",
       "      <td>35</td>\n",
       "      <td>36</td>\n",
       "      <td>37</td>\n",
       "      <td>38</td>\n",
       "      <td>39</td>\n",
       "    </tr>\n",
       "    <tr>\n",
       "      <th>8</th>\n",
       "      <td>40</td>\n",
       "      <td>41</td>\n",
       "      <td>42</td>\n",
       "      <td>43</td>\n",
       "      <td>44</td>\n",
       "    </tr>\n",
       "    <tr>\n",
       "      <th>9</th>\n",
       "      <td>45</td>\n",
       "      <td>46</td>\n",
       "      <td>47</td>\n",
       "      <td>48</td>\n",
       "      <td>49</td>\n",
       "    </tr>\n",
       "    <tr>\n",
       "      <th>10</th>\n",
       "      <td>50</td>\n",
       "      <td>51</td>\n",
       "      <td>52</td>\n",
       "      <td>53</td>\n",
       "      <td>54</td>\n",
       "    </tr>\n",
       "    <tr>\n",
       "      <th>11</th>\n",
       "      <td>55</td>\n",
       "      <td>56</td>\n",
       "      <td>57</td>\n",
       "      <td>58</td>\n",
       "      <td>59</td>\n",
       "    </tr>\n",
       "    <tr>\n",
       "      <th>12</th>\n",
       "      <td>60</td>\n",
       "      <td>61</td>\n",
       "      <td>62</td>\n",
       "      <td>63</td>\n",
       "      <td>64</td>\n",
       "    </tr>\n",
       "    <tr>\n",
       "      <th>13</th>\n",
       "      <td>65</td>\n",
       "      <td>66</td>\n",
       "      <td>67</td>\n",
       "      <td>68</td>\n",
       "      <td>69</td>\n",
       "    </tr>\n",
       "    <tr>\n",
       "      <th>14</th>\n",
       "      <td>70</td>\n",
       "      <td>71</td>\n",
       "      <td>72</td>\n",
       "      <td>73</td>\n",
       "      <td>74</td>\n",
       "    </tr>\n",
       "    <tr>\n",
       "      <th>15</th>\n",
       "      <td>75</td>\n",
       "      <td>76</td>\n",
       "      <td>77</td>\n",
       "      <td>78</td>\n",
       "      <td>79</td>\n",
       "    </tr>\n",
       "    <tr>\n",
       "      <th>16</th>\n",
       "      <td>80</td>\n",
       "      <td>81</td>\n",
       "      <td>82</td>\n",
       "      <td>83</td>\n",
       "      <td>84</td>\n",
       "    </tr>\n",
       "    <tr>\n",
       "      <th>17</th>\n",
       "      <td>85</td>\n",
       "      <td>86</td>\n",
       "      <td>87</td>\n",
       "      <td>88</td>\n",
       "      <td>89</td>\n",
       "    </tr>\n",
       "    <tr>\n",
       "      <th>18</th>\n",
       "      <td>90</td>\n",
       "      <td>91</td>\n",
       "      <td>92</td>\n",
       "      <td>93</td>\n",
       "      <td>94</td>\n",
       "    </tr>\n",
       "    <tr>\n",
       "      <th>19</th>\n",
       "      <td>95</td>\n",
       "      <td>96</td>\n",
       "      <td>97</td>\n",
       "      <td>98</td>\n",
       "      <td>99</td>\n",
       "    </tr>\n",
       "    <tr>\n",
       "      <th>20</th>\n",
       "      <td>100</td>\n",
       "      <td>101</td>\n",
       "      <td>102</td>\n",
       "      <td>103</td>\n",
       "      <td>104</td>\n",
       "    </tr>\n",
       "    <tr>\n",
       "      <th>21</th>\n",
       "      <td>105</td>\n",
       "      <td>106</td>\n",
       "      <td>107</td>\n",
       "      <td>108</td>\n",
       "      <td>109</td>\n",
       "    </tr>\n",
       "    <tr>\n",
       "      <th>22</th>\n",
       "      <td>110</td>\n",
       "      <td>111</td>\n",
       "      <td>112</td>\n",
       "      <td>113</td>\n",
       "      <td>114</td>\n",
       "    </tr>\n",
       "    <tr>\n",
       "      <th>23</th>\n",
       "      <td>115</td>\n",
       "      <td>116</td>\n",
       "      <td>117</td>\n",
       "      <td>118</td>\n",
       "      <td>119</td>\n",
       "    </tr>\n",
       "    <tr>\n",
       "      <th>24</th>\n",
       "      <td>120</td>\n",
       "      <td>121</td>\n",
       "      <td>122</td>\n",
       "      <td>123</td>\n",
       "      <td>124</td>\n",
       "    </tr>\n",
       "    <tr>\n",
       "      <th>25</th>\n",
       "      <td>125</td>\n",
       "      <td>126</td>\n",
       "      <td>127</td>\n",
       "      <td>128</td>\n",
       "      <td>129</td>\n",
       "    </tr>\n",
       "    <tr>\n",
       "      <th>26</th>\n",
       "      <td>130</td>\n",
       "      <td>131</td>\n",
       "      <td>132</td>\n",
       "      <td>133</td>\n",
       "      <td>134</td>\n",
       "    </tr>\n",
       "    <tr>\n",
       "      <th>27</th>\n",
       "      <td>135</td>\n",
       "      <td>136</td>\n",
       "      <td>137</td>\n",
       "      <td>138</td>\n",
       "      <td>139</td>\n",
       "    </tr>\n",
       "    <tr>\n",
       "      <th>28</th>\n",
       "      <td>140</td>\n",
       "      <td>141</td>\n",
       "      <td>142</td>\n",
       "      <td>143</td>\n",
       "      <td>144</td>\n",
       "    </tr>\n",
       "    <tr>\n",
       "      <th>29</th>\n",
       "      <td>145</td>\n",
       "      <td>146</td>\n",
       "      <td>147</td>\n",
       "      <td>148</td>\n",
       "      <td>149</td>\n",
       "    </tr>\n",
       "    <tr>\n",
       "      <th>30</th>\n",
       "      <td>150</td>\n",
       "      <td>151</td>\n",
       "      <td>152</td>\n",
       "      <td>153</td>\n",
       "      <td>154</td>\n",
       "    </tr>\n",
       "    <tr>\n",
       "      <th>31</th>\n",
       "      <td>155</td>\n",
       "      <td>156</td>\n",
       "      <td>157</td>\n",
       "      <td>158</td>\n",
       "      <td>159</td>\n",
       "    </tr>\n",
       "    <tr>\n",
       "      <th>32</th>\n",
       "      <td>160</td>\n",
       "      <td>161</td>\n",
       "      <td>162</td>\n",
       "      <td>163</td>\n",
       "      <td>164</td>\n",
       "    </tr>\n",
       "    <tr>\n",
       "      <th>33</th>\n",
       "      <td>165</td>\n",
       "      <td>166</td>\n",
       "      <td>167</td>\n",
       "      <td>168</td>\n",
       "      <td>169</td>\n",
       "    </tr>\n",
       "    <tr>\n",
       "      <th>34</th>\n",
       "      <td>170</td>\n",
       "      <td>171</td>\n",
       "      <td>172</td>\n",
       "      <td>173</td>\n",
       "      <td>174</td>\n",
       "    </tr>\n",
       "    <tr>\n",
       "      <th>35</th>\n",
       "      <td>175</td>\n",
       "      <td>176</td>\n",
       "      <td>177</td>\n",
       "      <td>178</td>\n",
       "      <td>179</td>\n",
       "    </tr>\n",
       "    <tr>\n",
       "      <th>36</th>\n",
       "      <td>180</td>\n",
       "      <td>181</td>\n",
       "      <td>182</td>\n",
       "      <td>183</td>\n",
       "      <td>184</td>\n",
       "    </tr>\n",
       "    <tr>\n",
       "      <th>37</th>\n",
       "      <td>185</td>\n",
       "      <td>186</td>\n",
       "      <td>187</td>\n",
       "      <td>188</td>\n",
       "      <td>189</td>\n",
       "    </tr>\n",
       "    <tr>\n",
       "      <th>38</th>\n",
       "      <td>190</td>\n",
       "      <td>191</td>\n",
       "      <td>192</td>\n",
       "      <td>193</td>\n",
       "      <td>194</td>\n",
       "    </tr>\n",
       "    <tr>\n",
       "      <th>39</th>\n",
       "      <td>195</td>\n",
       "      <td>196</td>\n",
       "      <td>197</td>\n",
       "      <td>198</td>\n",
       "      <td>199</td>\n",
       "    </tr>\n",
       "    <tr>\n",
       "      <th>40</th>\n",
       "      <td>200</td>\n",
       "      <td>201</td>\n",
       "      <td>202</td>\n",
       "      <td>203</td>\n",
       "      <td>204</td>\n",
       "    </tr>\n",
       "    <tr>\n",
       "      <th>41</th>\n",
       "      <td>205</td>\n",
       "      <td>206</td>\n",
       "      <td>207</td>\n",
       "      <td>208</td>\n",
       "      <td>209</td>\n",
       "    </tr>\n",
       "    <tr>\n",
       "      <th>42</th>\n",
       "      <td>210</td>\n",
       "      <td>211</td>\n",
       "      <td>212</td>\n",
       "      <td>213</td>\n",
       "      <td>214</td>\n",
       "    </tr>\n",
       "    <tr>\n",
       "      <th>43</th>\n",
       "      <td>215</td>\n",
       "      <td>216</td>\n",
       "      <td>217</td>\n",
       "      <td>218</td>\n",
       "      <td>219</td>\n",
       "    </tr>\n",
       "    <tr>\n",
       "      <th>44</th>\n",
       "      <td>220</td>\n",
       "      <td>221</td>\n",
       "      <td>222</td>\n",
       "      <td>223</td>\n",
       "      <td>224</td>\n",
       "    </tr>\n",
       "    <tr>\n",
       "      <th>45</th>\n",
       "      <td>225</td>\n",
       "      <td>226</td>\n",
       "      <td>227</td>\n",
       "      <td>228</td>\n",
       "      <td>229</td>\n",
       "    </tr>\n",
       "    <tr>\n",
       "      <th>46</th>\n",
       "      <td>230</td>\n",
       "      <td>231</td>\n",
       "      <td>232</td>\n",
       "      <td>233</td>\n",
       "      <td>234</td>\n",
       "    </tr>\n",
       "    <tr>\n",
       "      <th>47</th>\n",
       "      <td>235</td>\n",
       "      <td>236</td>\n",
       "      <td>237</td>\n",
       "      <td>238</td>\n",
       "      <td>239</td>\n",
       "    </tr>\n",
       "    <tr>\n",
       "      <th>48</th>\n",
       "      <td>240</td>\n",
       "      <td>241</td>\n",
       "      <td>242</td>\n",
       "      <td>243</td>\n",
       "      <td>244</td>\n",
       "    </tr>\n",
       "    <tr>\n",
       "      <th>49</th>\n",
       "      <td>245</td>\n",
       "      <td>246</td>\n",
       "      <td>247</td>\n",
       "      <td>248</td>\n",
       "      <td>249</td>\n",
       "    </tr>\n",
       "    <tr>\n",
       "      <th>50</th>\n",
       "      <td>250</td>\n",
       "      <td>251</td>\n",
       "      <td>252</td>\n",
       "      <td>253</td>\n",
       "      <td>254</td>\n",
       "    </tr>\n",
       "    <tr>\n",
       "      <th>51</th>\n",
       "      <td>255</td>\n",
       "      <td>256</td>\n",
       "      <td>257</td>\n",
       "      <td>258</td>\n",
       "      <td>259</td>\n",
       "    </tr>\n",
       "    <tr>\n",
       "      <th>52</th>\n",
       "      <td>260</td>\n",
       "      <td>261</td>\n",
       "      <td>262</td>\n",
       "      <td>263</td>\n",
       "      <td>264</td>\n",
       "    </tr>\n",
       "    <tr>\n",
       "      <th>53</th>\n",
       "      <td>265</td>\n",
       "      <td>266</td>\n",
       "      <td>267</td>\n",
       "      <td>268</td>\n",
       "      <td>269</td>\n",
       "    </tr>\n",
       "    <tr>\n",
       "      <th>54</th>\n",
       "      <td>270</td>\n",
       "      <td>271</td>\n",
       "      <td>272</td>\n",
       "      <td>273</td>\n",
       "      <td>274</td>\n",
       "    </tr>\n",
       "    <tr>\n",
       "      <th>55</th>\n",
       "      <td>275</td>\n",
       "      <td>276</td>\n",
       "      <td>277</td>\n",
       "      <td>278</td>\n",
       "      <td>279</td>\n",
       "    </tr>\n",
       "    <tr>\n",
       "      <th>56</th>\n",
       "      <td>280</td>\n",
       "      <td>281</td>\n",
       "      <td>282</td>\n",
       "      <td>283</td>\n",
       "      <td>284</td>\n",
       "    </tr>\n",
       "    <tr>\n",
       "      <th>57</th>\n",
       "      <td>285</td>\n",
       "      <td>286</td>\n",
       "      <td>287</td>\n",
       "      <td>288</td>\n",
       "      <td>289</td>\n",
       "    </tr>\n",
       "    <tr>\n",
       "      <th>58</th>\n",
       "      <td>290</td>\n",
       "      <td>291</td>\n",
       "      <td>292</td>\n",
       "      <td>293</td>\n",
       "      <td>294</td>\n",
       "    </tr>\n",
       "    <tr>\n",
       "      <th>59</th>\n",
       "      <td>295</td>\n",
       "      <td>296</td>\n",
       "      <td>297</td>\n",
       "      <td>298</td>\n",
       "      <td>299</td>\n",
       "    </tr>\n",
       "  </tbody>\n",
       "</table>\n",
       "</div>"
      ],
      "text/plain": [
       "      0    1    2    3    4\n",
       "0     0    1    2    3    4\n",
       "1     5    6    7    8    9\n",
       "2    10   11   12   13   14\n",
       "3    15   16   17   18   19\n",
       "4    20   21   22   23   24\n",
       "5    25   26   27   28   29\n",
       "6    30   31   32   33   34\n",
       "7    35   36   37   38   39\n",
       "8    40   41   42   43   44\n",
       "9    45   46   47   48   49\n",
       "10   50   51   52   53   54\n",
       "11   55   56   57   58   59\n",
       "12   60   61   62   63   64\n",
       "13   65   66   67   68   69\n",
       "14   70   71   72   73   74\n",
       "15   75   76   77   78   79\n",
       "16   80   81   82   83   84\n",
       "17   85   86   87   88   89\n",
       "18   90   91   92   93   94\n",
       "19   95   96   97   98   99\n",
       "20  100  101  102  103  104\n",
       "21  105  106  107  108  109\n",
       "22  110  111  112  113  114\n",
       "23  115  116  117  118  119\n",
       "24  120  121  122  123  124\n",
       "25  125  126  127  128  129\n",
       "26  130  131  132  133  134\n",
       "27  135  136  137  138  139\n",
       "28  140  141  142  143  144\n",
       "29  145  146  147  148  149\n",
       "30  150  151  152  153  154\n",
       "31  155  156  157  158  159\n",
       "32  160  161  162  163  164\n",
       "33  165  166  167  168  169\n",
       "34  170  171  172  173  174\n",
       "35  175  176  177  178  179\n",
       "36  180  181  182  183  184\n",
       "37  185  186  187  188  189\n",
       "38  190  191  192  193  194\n",
       "39  195  196  197  198  199\n",
       "40  200  201  202  203  204\n",
       "41  205  206  207  208  209\n",
       "42  210  211  212  213  214\n",
       "43  215  216  217  218  219\n",
       "44  220  221  222  223  224\n",
       "45  225  226  227  228  229\n",
       "46  230  231  232  233  234\n",
       "47  235  236  237  238  239\n",
       "48  240  241  242  243  244\n",
       "49  245  246  247  248  249\n",
       "50  250  251  252  253  254\n",
       "51  255  256  257  258  259\n",
       "52  260  261  262  263  264\n",
       "53  265  266  267  268  269\n",
       "54  270  271  272  273  274\n",
       "55  275  276  277  278  279\n",
       "56  280  281  282  283  284\n",
       "57  285  286  287  288  289\n",
       "58  290  291  292  293  294\n",
       "59  295  296  297  298  299"
      ]
     },
     "execution_count": 66,
     "metadata": {},
     "output_type": "execute_result"
    }
   ],
   "source": [
    "data2 = np.arange(300).reshape(60,5)\n",
    "df2 = pd.DataFrame(data2)\n",
    "df2"
   ]
  },
  {
   "cell_type": "markdown",
   "metadata": {},
   "source": [
    "#### 3.1.1 DataFrame.head(n=5):\n",
    "\n",
    "This function returns the first n rows for the object based on position. It is useful for quickly testing\n",
    "if your object has the right type of data in it."
   ]
  },
  {
   "cell_type": "code",
   "execution_count": 67,
   "metadata": {},
   "outputs": [
    {
     "data": {
      "text/html": [
       "<div>\n",
       "<style scoped>\n",
       "    .dataframe tbody tr th:only-of-type {\n",
       "        vertical-align: middle;\n",
       "    }\n",
       "\n",
       "    .dataframe tbody tr th {\n",
       "        vertical-align: top;\n",
       "    }\n",
       "\n",
       "    .dataframe thead th {\n",
       "        text-align: right;\n",
       "    }\n",
       "</style>\n",
       "<table border=\"1\" class=\"dataframe\">\n",
       "  <thead>\n",
       "    <tr style=\"text-align: right;\">\n",
       "      <th></th>\n",
       "      <th>0</th>\n",
       "      <th>1</th>\n",
       "      <th>2</th>\n",
       "      <th>3</th>\n",
       "      <th>4</th>\n",
       "    </tr>\n",
       "  </thead>\n",
       "  <tbody>\n",
       "    <tr>\n",
       "      <th>0</th>\n",
       "      <td>0</td>\n",
       "      <td>1</td>\n",
       "      <td>2</td>\n",
       "      <td>3</td>\n",
       "      <td>4</td>\n",
       "    </tr>\n",
       "    <tr>\n",
       "      <th>1</th>\n",
       "      <td>5</td>\n",
       "      <td>6</td>\n",
       "      <td>7</td>\n",
       "      <td>8</td>\n",
       "      <td>9</td>\n",
       "    </tr>\n",
       "    <tr>\n",
       "      <th>2</th>\n",
       "      <td>10</td>\n",
       "      <td>11</td>\n",
       "      <td>12</td>\n",
       "      <td>13</td>\n",
       "      <td>14</td>\n",
       "    </tr>\n",
       "  </tbody>\n",
       "</table>\n",
       "</div>"
      ],
      "text/plain": [
       "    0   1   2   3   4\n",
       "0   0   1   2   3   4\n",
       "1   5   6   7   8   9\n",
       "2  10  11  12  13  14"
      ]
     },
     "execution_count": 67,
     "metadata": {},
     "output_type": "execute_result"
    }
   ],
   "source": [
    "df2.head(3)"
   ]
  },
  {
   "cell_type": "markdown",
   "metadata": {},
   "source": [
    "#### 3.1.2 DataFrame.tail(n=5):\n",
    "\n",
    "This function returns last n rows from the object based on position. It is useful for quickly verifying\n",
    "data, for example, after sorting or appending rows."
   ]
  },
  {
   "cell_type": "code",
   "execution_count": 68,
   "metadata": {},
   "outputs": [
    {
     "data": {
      "text/html": [
       "<div>\n",
       "<style scoped>\n",
       "    .dataframe tbody tr th:only-of-type {\n",
       "        vertical-align: middle;\n",
       "    }\n",
       "\n",
       "    .dataframe tbody tr th {\n",
       "        vertical-align: top;\n",
       "    }\n",
       "\n",
       "    .dataframe thead th {\n",
       "        text-align: right;\n",
       "    }\n",
       "</style>\n",
       "<table border=\"1\" class=\"dataframe\">\n",
       "  <thead>\n",
       "    <tr style=\"text-align: right;\">\n",
       "      <th></th>\n",
       "      <th>0</th>\n",
       "      <th>1</th>\n",
       "      <th>2</th>\n",
       "      <th>3</th>\n",
       "      <th>4</th>\n",
       "    </tr>\n",
       "  </thead>\n",
       "  <tbody>\n",
       "    <tr>\n",
       "      <th>57</th>\n",
       "      <td>285</td>\n",
       "      <td>286</td>\n",
       "      <td>287</td>\n",
       "      <td>288</td>\n",
       "      <td>289</td>\n",
       "    </tr>\n",
       "    <tr>\n",
       "      <th>58</th>\n",
       "      <td>290</td>\n",
       "      <td>291</td>\n",
       "      <td>292</td>\n",
       "      <td>293</td>\n",
       "      <td>294</td>\n",
       "    </tr>\n",
       "    <tr>\n",
       "      <th>59</th>\n",
       "      <td>295</td>\n",
       "      <td>296</td>\n",
       "      <td>297</td>\n",
       "      <td>298</td>\n",
       "      <td>299</td>\n",
       "    </tr>\n",
       "  </tbody>\n",
       "</table>\n",
       "</div>"
      ],
      "text/plain": [
       "      0    1    2    3    4\n",
       "57  285  286  287  288  289\n",
       "58  290  291  292  293  294\n",
       "59  295  296  297  298  299"
      ]
     },
     "execution_count": 68,
     "metadata": {},
     "output_type": "execute_result"
    }
   ],
   "source": [
    "df2.tail(3)"
   ]
  },
  {
   "cell_type": "markdown",
   "metadata": {},
   "source": [
    "### 3.2 Indexing and selecting data\n",
    "\n",
    "#### 3.2.1 index, columns and values"
   ]
  },
  {
   "cell_type": "code",
   "execution_count": 69,
   "metadata": {},
   "outputs": [
    {
     "data": {
      "text/html": [
       "<div>\n",
       "<style scoped>\n",
       "    .dataframe tbody tr th:only-of-type {\n",
       "        vertical-align: middle;\n",
       "    }\n",
       "\n",
       "    .dataframe tbody tr th {\n",
       "        vertical-align: top;\n",
       "    }\n",
       "\n",
       "    .dataframe thead th {\n",
       "        text-align: right;\n",
       "    }\n",
       "</style>\n",
       "<table border=\"1\" class=\"dataframe\">\n",
       "  <thead>\n",
       "    <tr style=\"text-align: right;\">\n",
       "      <th></th>\n",
       "      <th>A</th>\n",
       "      <th>B</th>\n",
       "      <th>C</th>\n",
       "      <th>D</th>\n",
       "    </tr>\n",
       "  </thead>\n",
       "  <tbody>\n",
       "    <tr>\n",
       "      <th>a</th>\n",
       "      <td>0.997682</td>\n",
       "      <td>-1.242798</td>\n",
       "      <td>-0.792012</td>\n",
       "      <td>0.481150</td>\n",
       "    </tr>\n",
       "    <tr>\n",
       "      <th>b</th>\n",
       "      <td>-1.297472</td>\n",
       "      <td>0.062500</td>\n",
       "      <td>-2.343181</td>\n",
       "      <td>-1.994024</td>\n",
       "    </tr>\n",
       "    <tr>\n",
       "      <th>c</th>\n",
       "      <td>-0.519871</td>\n",
       "      <td>0.513124</td>\n",
       "      <td>0.470662</td>\n",
       "      <td>0.266393</td>\n",
       "    </tr>\n",
       "    <tr>\n",
       "      <th>d</th>\n",
       "      <td>-0.286744</td>\n",
       "      <td>-1.457077</td>\n",
       "      <td>-0.971688</td>\n",
       "      <td>-0.159408</td>\n",
       "    </tr>\n",
       "    <tr>\n",
       "      <th>e</th>\n",
       "      <td>-0.054591</td>\n",
       "      <td>0.517266</td>\n",
       "      <td>1.858192</td>\n",
       "      <td>-0.274975</td>\n",
       "    </tr>\n",
       "    <tr>\n",
       "      <th>f</th>\n",
       "      <td>-0.174290</td>\n",
       "      <td>-1.382250</td>\n",
       "      <td>0.597462</td>\n",
       "      <td>0.168532</td>\n",
       "    </tr>\n",
       "    <tr>\n",
       "      <th>g</th>\n",
       "      <td>-0.744910</td>\n",
       "      <td>0.607027</td>\n",
       "      <td>0.310289</td>\n",
       "      <td>-0.361481</td>\n",
       "    </tr>\n",
       "  </tbody>\n",
       "</table>\n",
       "</div>"
      ],
      "text/plain": [
       "          A         B         C         D\n",
       "a  0.997682 -1.242798 -0.792012  0.481150\n",
       "b -1.297472  0.062500 -2.343181 -1.994024\n",
       "c -0.519871  0.513124  0.470662  0.266393\n",
       "d -0.286744 -1.457077 -0.971688 -0.159408\n",
       "e -0.054591  0.517266  1.858192 -0.274975\n",
       "f -0.174290 -1.382250  0.597462  0.168532\n",
       "g -0.744910  0.607027  0.310289 -0.361481"
      ]
     },
     "execution_count": 69,
     "metadata": {},
     "output_type": "execute_result"
    }
   ],
   "source": [
    "# create random numbers as values\n",
    "df = pd.DataFrame(np.random.randn(7,4), index=['a','b','c','d','e','f','g']\n",
    ", columns=list('ABCD'))\n",
    "df"
   ]
  },
  {
   "cell_type": "code",
   "execution_count": 70,
   "metadata": {},
   "outputs": [
    {
     "data": {
      "text/plain": [
       "Index(['a', 'b', 'c', 'd', 'e', 'f', 'g'], dtype='object')"
      ]
     },
     "execution_count": 70,
     "metadata": {},
     "output_type": "execute_result"
    }
   ],
   "source": [
    "df.index"
   ]
  },
  {
   "cell_type": "code",
   "execution_count": 71,
   "metadata": {},
   "outputs": [
    {
     "data": {
      "text/plain": [
       "Index(['A', 'B', 'C', 'D'], dtype='object')"
      ]
     },
     "execution_count": 71,
     "metadata": {},
     "output_type": "execute_result"
    }
   ],
   "source": [
    "df.columns"
   ]
  },
  {
   "cell_type": "code",
   "execution_count": 72,
   "metadata": {},
   "outputs": [
    {
     "data": {
      "text/plain": [
       "array([[ 0.99768238, -1.24279849, -0.79201185,  0.48114963],\n",
       "       [-1.2974719 ,  0.06249959, -2.34318118, -1.99402427],\n",
       "       [-0.51987112,  0.51312431,  0.4706617 ,  0.26639315],\n",
       "       [-0.28674444, -1.45707651, -0.97168831, -0.15940806],\n",
       "       [-0.05459056,  0.51726621,  1.85819184, -0.27497458],\n",
       "       [-0.17429002, -1.38225039,  0.59746187,  0.16853177],\n",
       "       [-0.74491027,  0.60702699,  0.31028931, -0.36148133]])"
      ]
     },
     "execution_count": 72,
     "metadata": {},
     "output_type": "execute_result"
    }
   ],
   "source": [
    "df.values"
   ]
  },
  {
   "cell_type": "markdown",
   "metadata": {},
   "source": [
    "### 3.2.2 loc, iloc\n",
    "\n",
    "* .loc is primarily label based, but may also be used with a boolean array. .loc will raise KeyError\n",
    "   when the items are not found.\n",
    "   \n",
    "* .iloc is primarily integer position based (from 0 to length-1 of the axis), but may also be used\n",
    "   with a boolean array. .iloc will raise IndexError if a requested indexer is out-of-bounds, except\n",
    "  slice indexers which allow out-of-bounds indexing. (this conforms with Python/NumPy slice\n",
    "  semantics)."
   ]
  },
  {
   "cell_type": "code",
   "execution_count": 73,
   "metadata": {},
   "outputs": [
    {
     "data": {
      "text/html": [
       "<div>\n",
       "<style scoped>\n",
       "    .dataframe tbody tr th:only-of-type {\n",
       "        vertical-align: middle;\n",
       "    }\n",
       "\n",
       "    .dataframe tbody tr th {\n",
       "        vertical-align: top;\n",
       "    }\n",
       "\n",
       "    .dataframe thead th {\n",
       "        text-align: right;\n",
       "    }\n",
       "</style>\n",
       "<table border=\"1\" class=\"dataframe\">\n",
       "  <thead>\n",
       "    <tr style=\"text-align: right;\">\n",
       "      <th></th>\n",
       "      <th>A</th>\n",
       "      <th>B</th>\n",
       "      <th>C</th>\n",
       "      <th>D</th>\n",
       "    </tr>\n",
       "  </thead>\n",
       "  <tbody>\n",
       "    <tr>\n",
       "      <th>a</th>\n",
       "      <td>1.363098</td>\n",
       "      <td>0.118900</td>\n",
       "      <td>0.185106</td>\n",
       "      <td>-1.430410</td>\n",
       "    </tr>\n",
       "    <tr>\n",
       "      <th>b</th>\n",
       "      <td>-0.386118</td>\n",
       "      <td>0.491421</td>\n",
       "      <td>-0.393830</td>\n",
       "      <td>0.305888</td>\n",
       "    </tr>\n",
       "    <tr>\n",
       "      <th>c</th>\n",
       "      <td>-1.290514</td>\n",
       "      <td>0.172591</td>\n",
       "      <td>1.332680</td>\n",
       "      <td>-0.662525</td>\n",
       "    </tr>\n",
       "    <tr>\n",
       "      <th>d</th>\n",
       "      <td>-2.402603</td>\n",
       "      <td>2.073586</td>\n",
       "      <td>-0.495757</td>\n",
       "      <td>-0.980974</td>\n",
       "    </tr>\n",
       "    <tr>\n",
       "      <th>e</th>\n",
       "      <td>0.510224</td>\n",
       "      <td>1.297291</td>\n",
       "      <td>2.407471</td>\n",
       "      <td>0.802402</td>\n",
       "    </tr>\n",
       "    <tr>\n",
       "      <th>f</th>\n",
       "      <td>0.360497</td>\n",
       "      <td>1.126347</td>\n",
       "      <td>0.046743</td>\n",
       "      <td>-0.581367</td>\n",
       "    </tr>\n",
       "  </tbody>\n",
       "</table>\n",
       "</div>"
      ],
      "text/plain": [
       "          A         B         C         D\n",
       "a  1.363098  0.118900  0.185106 -1.430410\n",
       "b -0.386118  0.491421 -0.393830  0.305888\n",
       "c -1.290514  0.172591  1.332680 -0.662525\n",
       "d -2.402603  2.073586 -0.495757 -0.980974\n",
       "e  0.510224  1.297291  2.407471  0.802402\n",
       "f  0.360497  1.126347  0.046743 -0.581367"
      ]
     },
     "execution_count": 73,
     "metadata": {},
     "output_type": "execute_result"
    }
   ],
   "source": [
    "df1 = pd.DataFrame(np.random.randn(6, 4),\n",
    "index=list('abcdef'),\n",
    "columns=list('ABCD'))\n",
    "df1"
   ]
  },
  {
   "cell_type": "code",
   "execution_count": 74,
   "metadata": {},
   "outputs": [
    {
     "data": {
      "text/html": [
       "<div>\n",
       "<style scoped>\n",
       "    .dataframe tbody tr th:only-of-type {\n",
       "        vertical-align: middle;\n",
       "    }\n",
       "\n",
       "    .dataframe tbody tr th {\n",
       "        vertical-align: top;\n",
       "    }\n",
       "\n",
       "    .dataframe thead th {\n",
       "        text-align: right;\n",
       "    }\n",
       "</style>\n",
       "<table border=\"1\" class=\"dataframe\">\n",
       "  <thead>\n",
       "    <tr style=\"text-align: right;\">\n",
       "      <th></th>\n",
       "      <th>A</th>\n",
       "      <th>B</th>\n",
       "      <th>C</th>\n",
       "      <th>D</th>\n",
       "    </tr>\n",
       "  </thead>\n",
       "  <tbody>\n",
       "    <tr>\n",
       "      <th>a</th>\n",
       "      <td>1.363098</td>\n",
       "      <td>0.118900</td>\n",
       "      <td>0.185106</td>\n",
       "      <td>-1.430410</td>\n",
       "    </tr>\n",
       "    <tr>\n",
       "      <th>b</th>\n",
       "      <td>-0.386118</td>\n",
       "      <td>0.491421</td>\n",
       "      <td>-0.393830</td>\n",
       "      <td>0.305888</td>\n",
       "    </tr>\n",
       "    <tr>\n",
       "      <th>d</th>\n",
       "      <td>-2.402603</td>\n",
       "      <td>2.073586</td>\n",
       "      <td>-0.495757</td>\n",
       "      <td>-0.980974</td>\n",
       "    </tr>\n",
       "  </tbody>\n",
       "</table>\n",
       "</div>"
      ],
      "text/plain": [
       "          A         B         C         D\n",
       "a  1.363098  0.118900  0.185106 -1.430410\n",
       "b -0.386118  0.491421 -0.393830  0.305888\n",
       "d -2.402603  2.073586 -0.495757 -0.980974"
      ]
     },
     "execution_count": 74,
     "metadata": {},
     "output_type": "execute_result"
    }
   ],
   "source": [
    "df1.loc[['a', 'b', 'd'], :]"
   ]
  },
  {
   "cell_type": "code",
   "execution_count": 75,
   "metadata": {},
   "outputs": [
    {
     "data": {
      "text/html": [
       "<div>\n",
       "<style scoped>\n",
       "    .dataframe tbody tr th:only-of-type {\n",
       "        vertical-align: middle;\n",
       "    }\n",
       "\n",
       "    .dataframe tbody tr th {\n",
       "        vertical-align: top;\n",
       "    }\n",
       "\n",
       "    .dataframe thead th {\n",
       "        text-align: right;\n",
       "    }\n",
       "</style>\n",
       "<table border=\"1\" class=\"dataframe\">\n",
       "  <thead>\n",
       "    <tr style=\"text-align: right;\">\n",
       "      <th></th>\n",
       "      <th>A</th>\n",
       "      <th>B</th>\n",
       "      <th>C</th>\n",
       "      <th>D</th>\n",
       "    </tr>\n",
       "  </thead>\n",
       "  <tbody>\n",
       "    <tr>\n",
       "      <th>a</th>\n",
       "      <td>1.363098</td>\n",
       "      <td>0.118900</td>\n",
       "      <td>0.185106</td>\n",
       "      <td>-1.430410</td>\n",
       "    </tr>\n",
       "    <tr>\n",
       "      <th>b</th>\n",
       "      <td>-0.386118</td>\n",
       "      <td>0.491421</td>\n",
       "      <td>-0.393830</td>\n",
       "      <td>0.305888</td>\n",
       "    </tr>\n",
       "    <tr>\n",
       "      <th>d</th>\n",
       "      <td>-2.402603</td>\n",
       "      <td>2.073586</td>\n",
       "      <td>-0.495757</td>\n",
       "      <td>-0.980974</td>\n",
       "    </tr>\n",
       "  </tbody>\n",
       "</table>\n",
       "</div>"
      ],
      "text/plain": [
       "          A         B         C         D\n",
       "a  1.363098  0.118900  0.185106 -1.430410\n",
       "b -0.386118  0.491421 -0.393830  0.305888\n",
       "d -2.402603  2.073586 -0.495757 -0.980974"
      ]
     },
     "execution_count": 75,
     "metadata": {},
     "output_type": "execute_result"
    }
   ],
   "source": [
    "df1.iloc[[0, 1, 3], :]"
   ]
  },
  {
   "cell_type": "markdown",
   "metadata": {},
   "source": [
    "## 3.3 Descriptive statistics\n",
    "\n",
    "\n",
    "There exists a large number of methods for computing descriptive statistics and other related\n",
    "operations on Series, DataFrame. Most of these are aggregations (hence producing a lower-\n",
    "dimensional result) like sum(), mean(), and quantile(), but some of them, like cumsum() and\n",
    "cumprod(), produce an object of the same size. Generally speaking, these methods take an axis\n",
    "argument, just like ndarray.{sum, std, ...}, but the axis can be specified by name or integer:\n",
    "\n",
    " * Series: no axis argument needed\n",
    " \n",
    " * DataFrame: “index” (axis=0, default), “columns” (axis=1)3.3.1 Descriptive statistics functions\n",
    " \n",
    " * count: Number of non-NA observations\n",
    " \n",
    " * mean: Mean of values\n",
    " \n",
    " * std: Bessel-corrected sample standard deviation\n",
    " \n",
    " * sum: Sum of values\n",
    " \n",
    " * median: Arithmetic median of values\n",
    " \n",
    " * min: Minimum\n",
    " \n",
    " * max: Maximum\n",
    " \n",
    " * quantile: Sample quantile (value at %)\n",
    " \n",
    " * abs: Absolute Value\n",
    " \n",
    " * prod: Product of values\n",
    " \n",
    " * var: Unbiased variance"
   ]
  },
  {
   "cell_type": "code",
   "execution_count": 76,
   "metadata": {},
   "outputs": [
    {
     "name": "stdout",
     "output_type": "stream",
     "text": [
      "A    6\n",
      "B    6\n",
      "C    6\n",
      "D    6\n",
      "dtype: int64\n",
      "A   -0.307569\n",
      "B    0.880023\n",
      "C    0.513735\n",
      "D   -0.424498\n",
      "dtype: float64\n",
      "A    1.361451\n",
      "B    0.760284\n",
      "C    1.133643\n",
      "D    0.829643\n",
      "dtype: float64\n",
      "A   -1.845416\n",
      "B    5.280136\n",
      "C    3.082413\n",
      "D   -2.546986\n",
      "dtype: float64\n"
     ]
    }
   ],
   "source": [
    "print(df1.count())\n",
    "print(df1.mean())\n",
    "print(df1.std())\n",
    "print(df1.sum())"
   ]
  },
  {
   "cell_type": "markdown",
   "metadata": {},
   "source": [
    "### 3.3.2 Summarizing data: describe\n",
    "\n",
    "There is a convenient describe() function which computes a variety of summary statistics about a\n",
    "Series or the columns of a DataFrame (excluding NAs of course)."
   ]
  },
  {
   "cell_type": "code",
   "execution_count": 77,
   "metadata": {},
   "outputs": [
    {
     "data": {
      "text/html": [
       "<div>\n",
       "<style scoped>\n",
       "    .dataframe tbody tr th:only-of-type {\n",
       "        vertical-align: middle;\n",
       "    }\n",
       "\n",
       "    .dataframe tbody tr th {\n",
       "        vertical-align: top;\n",
       "    }\n",
       "\n",
       "    .dataframe thead th {\n",
       "        text-align: right;\n",
       "    }\n",
       "</style>\n",
       "<table border=\"1\" class=\"dataframe\">\n",
       "  <thead>\n",
       "    <tr style=\"text-align: right;\">\n",
       "      <th></th>\n",
       "      <th>0</th>\n",
       "      <th>1</th>\n",
       "      <th>2</th>\n",
       "      <th>3</th>\n",
       "      <th>4</th>\n",
       "    </tr>\n",
       "  </thead>\n",
       "  <tbody>\n",
       "    <tr>\n",
       "      <th>count</th>\n",
       "      <td>60.000000</td>\n",
       "      <td>60.000000</td>\n",
       "      <td>60.000000</td>\n",
       "      <td>60.000000</td>\n",
       "      <td>60.000000</td>\n",
       "    </tr>\n",
       "    <tr>\n",
       "      <th>mean</th>\n",
       "      <td>147.500000</td>\n",
       "      <td>148.500000</td>\n",
       "      <td>149.500000</td>\n",
       "      <td>150.500000</td>\n",
       "      <td>151.500000</td>\n",
       "    </tr>\n",
       "    <tr>\n",
       "      <th>std</th>\n",
       "      <td>87.321246</td>\n",
       "      <td>87.321246</td>\n",
       "      <td>87.321246</td>\n",
       "      <td>87.321246</td>\n",
       "      <td>87.321246</td>\n",
       "    </tr>\n",
       "    <tr>\n",
       "      <th>min</th>\n",
       "      <td>0.000000</td>\n",
       "      <td>1.000000</td>\n",
       "      <td>2.000000</td>\n",
       "      <td>3.000000</td>\n",
       "      <td>4.000000</td>\n",
       "    </tr>\n",
       "    <tr>\n",
       "      <th>25%</th>\n",
       "      <td>73.750000</td>\n",
       "      <td>74.750000</td>\n",
       "      <td>75.750000</td>\n",
       "      <td>76.750000</td>\n",
       "      <td>77.750000</td>\n",
       "    </tr>\n",
       "    <tr>\n",
       "      <th>50%</th>\n",
       "      <td>147.500000</td>\n",
       "      <td>148.500000</td>\n",
       "      <td>149.500000</td>\n",
       "      <td>150.500000</td>\n",
       "      <td>151.500000</td>\n",
       "    </tr>\n",
       "    <tr>\n",
       "      <th>75%</th>\n",
       "      <td>221.250000</td>\n",
       "      <td>222.250000</td>\n",
       "      <td>223.250000</td>\n",
       "      <td>224.250000</td>\n",
       "      <td>225.250000</td>\n",
       "    </tr>\n",
       "    <tr>\n",
       "      <th>max</th>\n",
       "      <td>295.000000</td>\n",
       "      <td>296.000000</td>\n",
       "      <td>297.000000</td>\n",
       "      <td>298.000000</td>\n",
       "      <td>299.000000</td>\n",
       "    </tr>\n",
       "  </tbody>\n",
       "</table>\n",
       "</div>"
      ],
      "text/plain": [
       "                0           1           2           3           4\n",
       "count   60.000000   60.000000   60.000000   60.000000   60.000000\n",
       "mean   147.500000  148.500000  149.500000  150.500000  151.500000\n",
       "std     87.321246   87.321246   87.321246   87.321246   87.321246\n",
       "min      0.000000    1.000000    2.000000    3.000000    4.000000\n",
       "25%     73.750000   74.750000   75.750000   76.750000   77.750000\n",
       "50%    147.500000  148.500000  149.500000  150.500000  151.500000\n",
       "75%    221.250000  222.250000  223.250000  224.250000  225.250000\n",
       "max    295.000000  296.000000  297.000000  298.000000  299.000000"
      ]
     },
     "execution_count": 77,
     "metadata": {},
     "output_type": "execute_result"
    }
   ],
   "source": [
    "df2.describe()"
   ]
  },
  {
   "cell_type": "markdown",
   "metadata": {},
   "source": [
    "## 4. Dropping labels from an axis\n",
    "\n",
    "The drop() function. It removes a set of labels from an axis"
   ]
  },
  {
   "cell_type": "code",
   "execution_count": 78,
   "metadata": {},
   "outputs": [
    {
     "data": {
      "text/html": [
       "<div>\n",
       "<style scoped>\n",
       "    .dataframe tbody tr th:only-of-type {\n",
       "        vertical-align: middle;\n",
       "    }\n",
       "\n",
       "    .dataframe tbody tr th {\n",
       "        vertical-align: top;\n",
       "    }\n",
       "\n",
       "    .dataframe thead th {\n",
       "        text-align: right;\n",
       "    }\n",
       "</style>\n",
       "<table border=\"1\" class=\"dataframe\">\n",
       "  <thead>\n",
       "    <tr style=\"text-align: right;\">\n",
       "      <th></th>\n",
       "      <th>A</th>\n",
       "      <th>B</th>\n",
       "      <th>c</th>\n",
       "      <th>D</th>\n",
       "      <th>E</th>\n",
       "    </tr>\n",
       "  </thead>\n",
       "  <tbody>\n",
       "    <tr>\n",
       "      <th>a</th>\n",
       "      <td>0</td>\n",
       "      <td>1</td>\n",
       "      <td>2</td>\n",
       "      <td>3</td>\n",
       "      <td>4</td>\n",
       "    </tr>\n",
       "    <tr>\n",
       "      <th>b</th>\n",
       "      <td>5</td>\n",
       "      <td>6</td>\n",
       "      <td>7</td>\n",
       "      <td>8</td>\n",
       "      <td>9</td>\n",
       "    </tr>\n",
       "    <tr>\n",
       "      <th>c</th>\n",
       "      <td>10</td>\n",
       "      <td>11</td>\n",
       "      <td>12</td>\n",
       "      <td>13</td>\n",
       "      <td>14</td>\n",
       "    </tr>\n",
       "    <tr>\n",
       "      <th>d</th>\n",
       "      <td>15</td>\n",
       "      <td>16</td>\n",
       "      <td>17</td>\n",
       "      <td>18</td>\n",
       "      <td>19</td>\n",
       "    </tr>\n",
       "    <tr>\n",
       "      <th>e</th>\n",
       "      <td>20</td>\n",
       "      <td>21</td>\n",
       "      <td>22</td>\n",
       "      <td>23</td>\n",
       "      <td>24</td>\n",
       "    </tr>\n",
       "    <tr>\n",
       "      <th>f</th>\n",
       "      <td>25</td>\n",
       "      <td>26</td>\n",
       "      <td>27</td>\n",
       "      <td>28</td>\n",
       "      <td>29</td>\n",
       "    </tr>\n",
       "  </tbody>\n",
       "</table>\n",
       "</div>"
      ],
      "text/plain": [
       "    A   B   c   D   E\n",
       "a   0   1   2   3   4\n",
       "b   5   6   7   8   9\n",
       "c  10  11  12  13  14\n",
       "d  15  16  17  18  19\n",
       "e  20  21  22  23  24\n",
       "f  25  26  27  28  29"
      ]
     },
     "execution_count": 78,
     "metadata": {},
     "output_type": "execute_result"
    }
   ],
   "source": [
    "data3 = np.arange(30).reshape(6,5)\n",
    "df3 = pd.DataFrame(data3,index=['a','b','c','d','e', 'f'] , columns = ['A', 'B','c','D','E'])\n",
    "df3"
   ]
  },
  {
   "cell_type": "code",
   "execution_count": 79,
   "metadata": {},
   "outputs": [
    {
     "data": {
      "text/html": [
       "<div>\n",
       "<style scoped>\n",
       "    .dataframe tbody tr th:only-of-type {\n",
       "        vertical-align: middle;\n",
       "    }\n",
       "\n",
       "    .dataframe tbody tr th {\n",
       "        vertical-align: top;\n",
       "    }\n",
       "\n",
       "    .dataframe thead th {\n",
       "        text-align: right;\n",
       "    }\n",
       "</style>\n",
       "<table border=\"1\" class=\"dataframe\">\n",
       "  <thead>\n",
       "    <tr style=\"text-align: right;\">\n",
       "      <th></th>\n",
       "      <th>A</th>\n",
       "      <th>B</th>\n",
       "      <th>c</th>\n",
       "      <th>D</th>\n",
       "      <th>E</th>\n",
       "    </tr>\n",
       "  </thead>\n",
       "  <tbody>\n",
       "    <tr>\n",
       "      <th>b</th>\n",
       "      <td>5</td>\n",
       "      <td>6</td>\n",
       "      <td>7</td>\n",
       "      <td>8</td>\n",
       "      <td>9</td>\n",
       "    </tr>\n",
       "    <tr>\n",
       "      <th>c</th>\n",
       "      <td>10</td>\n",
       "      <td>11</td>\n",
       "      <td>12</td>\n",
       "      <td>13</td>\n",
       "      <td>14</td>\n",
       "    </tr>\n",
       "    <tr>\n",
       "      <th>d</th>\n",
       "      <td>15</td>\n",
       "      <td>16</td>\n",
       "      <td>17</td>\n",
       "      <td>18</td>\n",
       "      <td>19</td>\n",
       "    </tr>\n",
       "    <tr>\n",
       "      <th>e</th>\n",
       "      <td>20</td>\n",
       "      <td>21</td>\n",
       "      <td>22</td>\n",
       "      <td>23</td>\n",
       "      <td>24</td>\n",
       "    </tr>\n",
       "    <tr>\n",
       "      <th>f</th>\n",
       "      <td>25</td>\n",
       "      <td>26</td>\n",
       "      <td>27</td>\n",
       "      <td>28</td>\n",
       "      <td>29</td>\n",
       "    </tr>\n",
       "  </tbody>\n",
       "</table>\n",
       "</div>"
      ],
      "text/plain": [
       "    A   B   c   D   E\n",
       "b   5   6   7   8   9\n",
       "c  10  11  12  13  14\n",
       "d  15  16  17  18  19\n",
       "e  20  21  22  23  24\n",
       "f  25  26  27  28  29"
      ]
     },
     "execution_count": 79,
     "metadata": {},
     "output_type": "execute_result"
    }
   ],
   "source": [
    "a = df3.drop(['a'], axis=0) # axis=0, delete rows\n",
    "a"
   ]
  },
  {
   "cell_type": "code",
   "execution_count": 80,
   "metadata": {},
   "outputs": [
    {
     "data": {
      "text/html": [
       "<div>\n",
       "<style scoped>\n",
       "    .dataframe tbody tr th:only-of-type {\n",
       "        vertical-align: middle;\n",
       "    }\n",
       "\n",
       "    .dataframe tbody tr th {\n",
       "        vertical-align: top;\n",
       "    }\n",
       "\n",
       "    .dataframe thead th {\n",
       "        text-align: right;\n",
       "    }\n",
       "</style>\n",
       "<table border=\"1\" class=\"dataframe\">\n",
       "  <thead>\n",
       "    <tr style=\"text-align: right;\">\n",
       "      <th></th>\n",
       "      <th>B</th>\n",
       "      <th>c</th>\n",
       "      <th>D</th>\n",
       "      <th>E</th>\n",
       "    </tr>\n",
       "  </thead>\n",
       "  <tbody>\n",
       "    <tr>\n",
       "      <th>a</th>\n",
       "      <td>1</td>\n",
       "      <td>2</td>\n",
       "      <td>3</td>\n",
       "      <td>4</td>\n",
       "    </tr>\n",
       "    <tr>\n",
       "      <th>b</th>\n",
       "      <td>6</td>\n",
       "      <td>7</td>\n",
       "      <td>8</td>\n",
       "      <td>9</td>\n",
       "    </tr>\n",
       "    <tr>\n",
       "      <th>c</th>\n",
       "      <td>11</td>\n",
       "      <td>12</td>\n",
       "      <td>13</td>\n",
       "      <td>14</td>\n",
       "    </tr>\n",
       "    <tr>\n",
       "      <th>d</th>\n",
       "      <td>16</td>\n",
       "      <td>17</td>\n",
       "      <td>18</td>\n",
       "      <td>19</td>\n",
       "    </tr>\n",
       "    <tr>\n",
       "      <th>e</th>\n",
       "      <td>21</td>\n",
       "      <td>22</td>\n",
       "      <td>23</td>\n",
       "      <td>24</td>\n",
       "    </tr>\n",
       "    <tr>\n",
       "      <th>f</th>\n",
       "      <td>26</td>\n",
       "      <td>27</td>\n",
       "      <td>28</td>\n",
       "      <td>29</td>\n",
       "    </tr>\n",
       "  </tbody>\n",
       "</table>\n",
       "</div>"
      ],
      "text/plain": [
       "    B   c   D   E\n",
       "a   1   2   3   4\n",
       "b   6   7   8   9\n",
       "c  11  12  13  14\n",
       "d  16  17  18  19\n",
       "e  21  22  23  24\n",
       "f  26  27  28  29"
      ]
     },
     "execution_count": 80,
     "metadata": {},
     "output_type": "execute_result"
    }
   ],
   "source": [
    "b = df3.drop(['A'], axis=1) # axis=1, delete columns\n",
    "b"
   ]
  },
  {
   "cell_type": "markdown",
   "metadata": {},
   "source": [
    "## 5. DataFrame.append\n",
    "\n",
    "Append rows of other to the end of caller, returning a new object.Columns in other that are not in\n",
    "the caller are added as new columns"
   ]
  },
  {
   "cell_type": "code",
   "execution_count": 81,
   "metadata": {},
   "outputs": [
    {
     "data": {
      "text/html": [
       "<div>\n",
       "<style scoped>\n",
       "    .dataframe tbody tr th:only-of-type {\n",
       "        vertical-align: middle;\n",
       "    }\n",
       "\n",
       "    .dataframe tbody tr th {\n",
       "        vertical-align: top;\n",
       "    }\n",
       "\n",
       "    .dataframe thead th {\n",
       "        text-align: right;\n",
       "    }\n",
       "</style>\n",
       "<table border=\"1\" class=\"dataframe\">\n",
       "  <thead>\n",
       "    <tr style=\"text-align: right;\">\n",
       "      <th></th>\n",
       "      <th>B</th>\n",
       "      <th>c</th>\n",
       "      <th>D</th>\n",
       "      <th>E</th>\n",
       "      <th>A</th>\n",
       "    </tr>\n",
       "  </thead>\n",
       "  <tbody>\n",
       "    <tr>\n",
       "      <th>a</th>\n",
       "      <td>1</td>\n",
       "      <td>2</td>\n",
       "      <td>3</td>\n",
       "      <td>4</td>\n",
       "      <td>NaN</td>\n",
       "    </tr>\n",
       "    <tr>\n",
       "      <th>b</th>\n",
       "      <td>6</td>\n",
       "      <td>7</td>\n",
       "      <td>8</td>\n",
       "      <td>9</td>\n",
       "      <td>NaN</td>\n",
       "    </tr>\n",
       "    <tr>\n",
       "      <th>c</th>\n",
       "      <td>11</td>\n",
       "      <td>12</td>\n",
       "      <td>13</td>\n",
       "      <td>14</td>\n",
       "      <td>NaN</td>\n",
       "    </tr>\n",
       "    <tr>\n",
       "      <th>d</th>\n",
       "      <td>16</td>\n",
       "      <td>17</td>\n",
       "      <td>18</td>\n",
       "      <td>19</td>\n",
       "      <td>NaN</td>\n",
       "    </tr>\n",
       "    <tr>\n",
       "      <th>e</th>\n",
       "      <td>21</td>\n",
       "      <td>22</td>\n",
       "      <td>23</td>\n",
       "      <td>24</td>\n",
       "      <td>NaN</td>\n",
       "    </tr>\n",
       "    <tr>\n",
       "      <th>f</th>\n",
       "      <td>26</td>\n",
       "      <td>27</td>\n",
       "      <td>28</td>\n",
       "      <td>29</td>\n",
       "      <td>NaN</td>\n",
       "    </tr>\n",
       "    <tr>\n",
       "      <th>b</th>\n",
       "      <td>6</td>\n",
       "      <td>7</td>\n",
       "      <td>8</td>\n",
       "      <td>9</td>\n",
       "      <td>5.0</td>\n",
       "    </tr>\n",
       "    <tr>\n",
       "      <th>c</th>\n",
       "      <td>11</td>\n",
       "      <td>12</td>\n",
       "      <td>13</td>\n",
       "      <td>14</td>\n",
       "      <td>10.0</td>\n",
       "    </tr>\n",
       "    <tr>\n",
       "      <th>d</th>\n",
       "      <td>16</td>\n",
       "      <td>17</td>\n",
       "      <td>18</td>\n",
       "      <td>19</td>\n",
       "      <td>15.0</td>\n",
       "    </tr>\n",
       "    <tr>\n",
       "      <th>e</th>\n",
       "      <td>21</td>\n",
       "      <td>22</td>\n",
       "      <td>23</td>\n",
       "      <td>24</td>\n",
       "      <td>20.0</td>\n",
       "    </tr>\n",
       "    <tr>\n",
       "      <th>f</th>\n",
       "      <td>26</td>\n",
       "      <td>27</td>\n",
       "      <td>28</td>\n",
       "      <td>29</td>\n",
       "      <td>25.0</td>\n",
       "    </tr>\n",
       "  </tbody>\n",
       "</table>\n",
       "</div>"
      ],
      "text/plain": [
       "    B   c   D   E     A\n",
       "a   1   2   3   4   NaN\n",
       "b   6   7   8   9   NaN\n",
       "c  11  12  13  14   NaN\n",
       "d  16  17  18  19   NaN\n",
       "e  21  22  23  24   NaN\n",
       "f  26  27  28  29   NaN\n",
       "b   6   7   8   9   5.0\n",
       "c  11  12  13  14  10.0\n",
       "d  16  17  18  19  15.0\n",
       "e  21  22  23  24  20.0\n",
       "f  26  27  28  29  25.0"
      ]
     },
     "execution_count": 81,
     "metadata": {},
     "output_type": "execute_result"
    }
   ],
   "source": [
    "c = b.append(a)\n",
    "c"
   ]
  },
  {
   "cell_type": "markdown",
   "metadata": {},
   "source": [
    "## 6. Reindexing and altering labels\n",
    "\n",
    "\n",
    " * reindex() is the fundamental data alignment method in pandas. It is used to implement nearly all other features relying on label-alignment      functionality. To reindex means to conform the data to match a given set of labels along a particular axis. This accomplishes several          things:\n",
    "     * Reorders the existing data to match a new set of labels\n",
    "     * Inserts missing value (NA) markers in label locations where no data for that label existed\n",
    "     * If specified, fill data for missing labels using logic (highly relevant to working with time series data)"
   ]
  },
  {
   "cell_type": "code",
   "execution_count": 82,
   "metadata": {},
   "outputs": [
    {
     "data": {
      "text/plain": [
       "a   -0.475064\n",
       "b    1.360599\n",
       "c   -0.729079\n",
       "d    0.105974\n",
       "e    0.366460\n",
       "dtype: float64"
      ]
     },
     "execution_count": 82,
     "metadata": {},
     "output_type": "execute_result"
    }
   ],
   "source": [
    "s = pd.Series(np.random.randn(5), index=['a', 'b', 'c', 'd', 'e'])\n",
    "s"
   ]
  },
  {
   "cell_type": "code",
   "execution_count": 83,
   "metadata": {},
   "outputs": [
    {
     "data": {
      "text/plain": [
       "e    0.366460\n",
       "b    1.360599\n",
       "f         NaN\n",
       "d    0.105974\n",
       "dtype: float64"
      ]
     },
     "execution_count": 83,
     "metadata": {},
     "output_type": "execute_result"
    }
   ],
   "source": [
    "s.reindex(['e', 'b', 'f', 'd']) # the f label was not contained in the Series and"
   ]
  },
  {
   "cell_type": "markdown",
   "metadata": {},
   "source": [
    "## 7. DataFrame.iteritems\n",
    "\n",
    "Iterate over (column name, Series) pairs.Iterates over the DataFrame columns, returning a tuple\n",
    "with the column name and the content as a Series."
   ]
  },
  {
   "cell_type": "code",
   "execution_count": 84,
   "metadata": {},
   "outputs": [
    {
     "data": {
      "text/html": [
       "<div>\n",
       "<style scoped>\n",
       "    .dataframe tbody tr th:only-of-type {\n",
       "        vertical-align: middle;\n",
       "    }\n",
       "\n",
       "    .dataframe tbody tr th {\n",
       "        vertical-align: top;\n",
       "    }\n",
       "\n",
       "    .dataframe thead th {\n",
       "        text-align: right;\n",
       "    }\n",
       "</style>\n",
       "<table border=\"1\" class=\"dataframe\">\n",
       "  <thead>\n",
       "    <tr style=\"text-align: right;\">\n",
       "      <th></th>\n",
       "      <th>A</th>\n",
       "      <th>B</th>\n",
       "      <th>C</th>\n",
       "    </tr>\n",
       "  </thead>\n",
       "  <tbody>\n",
       "    <tr>\n",
       "      <th>0</th>\n",
       "      <td>0.756241</td>\n",
       "      <td>-0.643165</td>\n",
       "      <td>-0.804542</td>\n",
       "    </tr>\n",
       "    <tr>\n",
       "      <th>1</th>\n",
       "      <td>-0.024386</td>\n",
       "      <td>0.088252</td>\n",
       "      <td>-2.817333</td>\n",
       "    </tr>\n",
       "    <tr>\n",
       "      <th>2</th>\n",
       "      <td>1.188545</td>\n",
       "      <td>-0.879499</td>\n",
       "      <td>-0.854537</td>\n",
       "    </tr>\n",
       "    <tr>\n",
       "      <th>3</th>\n",
       "      <td>-0.417743</td>\n",
       "      <td>0.525843</td>\n",
       "      <td>-1.312976</td>\n",
       "    </tr>\n",
       "  </tbody>\n",
       "</table>\n",
       "</div>"
      ],
      "text/plain": [
       "          A         B         C\n",
       "0  0.756241 -0.643165 -0.804542\n",
       "1 -0.024386  0.088252 -2.817333\n",
       "2  1.188545 -0.879499 -0.854537\n",
       "3 -0.417743  0.525843 -1.312976"
      ]
     },
     "execution_count": 84,
     "metadata": {},
     "output_type": "execute_result"
    }
   ],
   "source": [
    "df4 = pd.DataFrame(np.random.randn(4,3),columns=['A','B','C'])\n",
    "df4"
   ]
  },
  {
   "cell_type": "code",
   "execution_count": 85,
   "metadata": {},
   "outputs": [
    {
     "name": "stdout",
     "output_type": "stream",
     "text": [
      "column: 1 value: ('A', 0    0.756241\n",
      "1   -0.024386\n",
      "2    1.188545\n",
      "3   -0.417743\n",
      "Name: A, dtype: float64)\n",
      "column: 2 value: ('B', 0   -0.643165\n",
      "1    0.088252\n",
      "2   -0.879499\n",
      "3    0.525843\n",
      "Name: B, dtype: float64)\n",
      "column: 3 value: ('C', 0   -0.804542\n",
      "1   -2.817333\n",
      "2   -0.854537\n",
      "3   -1.312976\n",
      "Name: C, dtype: float64)\n"
     ]
    }
   ],
   "source": [
    "i = 1\n",
    "for s in df4.iteritems():\n",
    "    print(\"column: %d value: %s\"%(i,s))\n",
    "    i += 1"
   ]
  },
  {
   "cell_type": "markdown",
   "metadata": {},
   "source": [
    "# 8. Statistical functions\n",
    "\n",
    "## 8.1 Percent change\n",
    "\n",
    "Series and DataFrame have a method pct_change() to compute the percent change over a given\n",
    "number of periods (using fill_method to fill NA/null values before computing the percent change)."
   ]
  },
  {
   "cell_type": "code",
   "execution_count": 86,
   "metadata": {},
   "outputs": [
    {
     "name": "stdout",
     "output_type": "stream",
     "text": [
      "0         NaN\n",
      "1    1.000000\n",
      "2    0.500000\n",
      "3    0.333333\n",
      "4    0.250000\n",
      "5   -0.200000\n",
      "dtype: float64\n"
     ]
    }
   ],
   "source": [
    "s = pd.Series([1,2,3,4,5,4])\n",
    "print(s.pct_change())"
   ]
  },
  {
   "cell_type": "markdown",
   "metadata": {},
   "source": [
    "## 8.2 Covariance\n",
    "\n",
    "Series.cov() can be used to compute covariance between series (excluding missing valu"
   ]
  },
  {
   "cell_type": "code",
   "execution_count": 87,
   "metadata": {},
   "outputs": [
    {
     "data": {
      "text/plain": [
       "0.0402457499135284"
      ]
     },
     "execution_count": 87,
     "metadata": {},
     "output_type": "execute_result"
    }
   ],
   "source": [
    "s1 = pd.Series(np.random.randn(1000))\n",
    "s2 = pd.Series(np.random.randn(1000))\n",
    "s1.cov(s2)"
   ]
  },
  {
   "cell_type": "markdown",
   "metadata": {},
   "source": [
    "Analogously, DataFrame.cov() to compute pairwise covariances among the series in the\n",
    "DataFrame, also excluding NA/null values."
   ]
  },
  {
   "cell_type": "code",
   "execution_count": 88,
   "metadata": {},
   "outputs": [
    {
     "data": {
      "text/html": [
       "<div>\n",
       "<style scoped>\n",
       "    .dataframe tbody tr th:only-of-type {\n",
       "        vertical-align: middle;\n",
       "    }\n",
       "\n",
       "    .dataframe tbody tr th {\n",
       "        vertical-align: top;\n",
       "    }\n",
       "\n",
       "    .dataframe thead th {\n",
       "        text-align: right;\n",
       "    }\n",
       "</style>\n",
       "<table border=\"1\" class=\"dataframe\">\n",
       "  <thead>\n",
       "    <tr style=\"text-align: right;\">\n",
       "      <th></th>\n",
       "      <th>a</th>\n",
       "      <th>b</th>\n",
       "      <th>c</th>\n",
       "      <th>d</th>\n",
       "      <th>e</th>\n",
       "    </tr>\n",
       "  </thead>\n",
       "  <tbody>\n",
       "    <tr>\n",
       "      <th>a</th>\n",
       "      <td>1.031992</td>\n",
       "      <td>0.003472</td>\n",
       "      <td>0.011724</td>\n",
       "      <td>-0.016948</td>\n",
       "      <td>0.013566</td>\n",
       "    </tr>\n",
       "    <tr>\n",
       "      <th>b</th>\n",
       "      <td>0.003472</td>\n",
       "      <td>0.929319</td>\n",
       "      <td>0.016343</td>\n",
       "      <td>0.036860</td>\n",
       "      <td>0.069777</td>\n",
       "    </tr>\n",
       "    <tr>\n",
       "      <th>c</th>\n",
       "      <td>0.011724</td>\n",
       "      <td>0.016343</td>\n",
       "      <td>0.938847</td>\n",
       "      <td>0.020889</td>\n",
       "      <td>-0.009044</td>\n",
       "    </tr>\n",
       "    <tr>\n",
       "      <th>d</th>\n",
       "      <td>-0.016948</td>\n",
       "      <td>0.036860</td>\n",
       "      <td>0.020889</td>\n",
       "      <td>0.924985</td>\n",
       "      <td>-0.018131</td>\n",
       "    </tr>\n",
       "    <tr>\n",
       "      <th>e</th>\n",
       "      <td>0.013566</td>\n",
       "      <td>0.069777</td>\n",
       "      <td>-0.009044</td>\n",
       "      <td>-0.018131</td>\n",
       "      <td>0.944806</td>\n",
       "    </tr>\n",
       "  </tbody>\n",
       "</table>\n",
       "</div>"
      ],
      "text/plain": [
       "          a         b         c         d         e\n",
       "a  1.031992  0.003472  0.011724 -0.016948  0.013566\n",
       "b  0.003472  0.929319  0.016343  0.036860  0.069777\n",
       "c  0.011724  0.016343  0.938847  0.020889 -0.009044\n",
       "d -0.016948  0.036860  0.020889  0.924985 -0.018131\n",
       "e  0.013566  0.069777 -0.009044 -0.018131  0.944806"
      ]
     },
     "execution_count": 88,
     "metadata": {},
     "output_type": "execute_result"
    }
   ],
   "source": [
    "frame = pd.DataFrame(np.random.randn(1000, 5),\n",
    "columns=['a', 'b', 'c', 'd', 'e'])\n",
    "frame.cov()"
   ]
  },
  {
   "cell_type": "markdown",
   "metadata": {},
   "source": [
    "## 9. Sorting\n",
    "\n",
    "Pandas supports three kinds of sorting: sorting by index labels, sorting by column values, and\n",
    "sorting by a combination of both.\n",
    "\n",
    "### 9.1 By index\n",
    "\n",
    "The Series.sort_index() and DataFrame.sort_index() methods are used to sort a pandas object by\n",
    "its index levels."
   ]
  },
  {
   "cell_type": "code",
   "execution_count": 89,
   "metadata": {},
   "outputs": [
    {
     "data": {
      "text/html": [
       "<div>\n",
       "<style scoped>\n",
       "    .dataframe tbody tr th:only-of-type {\n",
       "        vertical-align: middle;\n",
       "    }\n",
       "\n",
       "    .dataframe tbody tr th {\n",
       "        vertical-align: top;\n",
       "    }\n",
       "\n",
       "    .dataframe thead th {\n",
       "        text-align: right;\n",
       "    }\n",
       "</style>\n",
       "<table border=\"1\" class=\"dataframe\">\n",
       "  <thead>\n",
       "    <tr style=\"text-align: right;\">\n",
       "      <th></th>\n",
       "      <th>three</th>\n",
       "      <th>two</th>\n",
       "      <th>one</th>\n",
       "    </tr>\n",
       "  </thead>\n",
       "  <tbody>\n",
       "    <tr>\n",
       "      <th>d</th>\n",
       "      <td>1.881572</td>\n",
       "      <td>1.122511</td>\n",
       "      <td>NaN</td>\n",
       "    </tr>\n",
       "    <tr>\n",
       "      <th>a</th>\n",
       "      <td>NaN</td>\n",
       "      <td>-0.199789</td>\n",
       "      <td>-0.400850</td>\n",
       "    </tr>\n",
       "    <tr>\n",
       "      <th>c</th>\n",
       "      <td>1.122564</td>\n",
       "      <td>0.406733</td>\n",
       "      <td>-0.025380</td>\n",
       "    </tr>\n",
       "    <tr>\n",
       "      <th>b</th>\n",
       "      <td>0.047352</td>\n",
       "      <td>-0.594831</td>\n",
       "      <td>-0.983124</td>\n",
       "    </tr>\n",
       "  </tbody>\n",
       "</table>\n",
       "</div>"
      ],
      "text/plain": [
       "      three       two       one\n",
       "d  1.881572  1.122511       NaN\n",
       "a       NaN -0.199789 -0.400850\n",
       "c  1.122564  0.406733 -0.025380\n",
       "b  0.047352 -0.594831 -0.983124"
      ]
     },
     "execution_count": 89,
     "metadata": {},
     "output_type": "execute_result"
    }
   ],
   "source": [
    "df = pd.DataFrame({\n",
    "            'one': pd.Series(np.random.randn(3), index=['a', 'b', 'c']),\n",
    "            'two': pd.Series(np.random.randn(4), index=['a', 'b', 'c', 'd']),\n",
    "            'three': pd.Series(np.random.randn(3), index=['b', 'c', 'd'])})\n",
    "\n",
    "unsorted_df = df.reindex(index=['d', 'a', 'c', 'b'],\n",
    "columns=['three', 'two', 'one'])\n",
    "\n",
    "unsorted_df"
   ]
  },
  {
   "cell_type": "code",
   "execution_count": 90,
   "metadata": {},
   "outputs": [
    {
     "data": {
      "text/html": [
       "<div>\n",
       "<style scoped>\n",
       "    .dataframe tbody tr th:only-of-type {\n",
       "        vertical-align: middle;\n",
       "    }\n",
       "\n",
       "    .dataframe tbody tr th {\n",
       "        vertical-align: top;\n",
       "    }\n",
       "\n",
       "    .dataframe thead th {\n",
       "        text-align: right;\n",
       "    }\n",
       "</style>\n",
       "<table border=\"1\" class=\"dataframe\">\n",
       "  <thead>\n",
       "    <tr style=\"text-align: right;\">\n",
       "      <th></th>\n",
       "      <th>three</th>\n",
       "      <th>two</th>\n",
       "      <th>one</th>\n",
       "    </tr>\n",
       "  </thead>\n",
       "  <tbody>\n",
       "    <tr>\n",
       "      <th>a</th>\n",
       "      <td>NaN</td>\n",
       "      <td>-0.199789</td>\n",
       "      <td>-0.400850</td>\n",
       "    </tr>\n",
       "    <tr>\n",
       "      <th>b</th>\n",
       "      <td>0.047352</td>\n",
       "      <td>-0.594831</td>\n",
       "      <td>-0.983124</td>\n",
       "    </tr>\n",
       "    <tr>\n",
       "      <th>c</th>\n",
       "      <td>1.122564</td>\n",
       "      <td>0.406733</td>\n",
       "      <td>-0.025380</td>\n",
       "    </tr>\n",
       "    <tr>\n",
       "      <th>d</th>\n",
       "      <td>1.881572</td>\n",
       "      <td>1.122511</td>\n",
       "      <td>NaN</td>\n",
       "    </tr>\n",
       "  </tbody>\n",
       "</table>\n",
       "</div>"
      ],
      "text/plain": [
       "      three       two       one\n",
       "a       NaN -0.199789 -0.400850\n",
       "b  0.047352 -0.594831 -0.983124\n",
       "c  1.122564  0.406733 -0.025380\n",
       "d  1.881572  1.122511       NaN"
      ]
     },
     "execution_count": 90,
     "metadata": {},
     "output_type": "execute_result"
    }
   ],
   "source": [
    "unsorted_df.sort_index()"
   ]
  },
  {
   "cell_type": "code",
   "execution_count": 91,
   "metadata": {},
   "outputs": [
    {
     "data": {
      "text/html": [
       "<div>\n",
       "<style scoped>\n",
       "    .dataframe tbody tr th:only-of-type {\n",
       "        vertical-align: middle;\n",
       "    }\n",
       "\n",
       "    .dataframe tbody tr th {\n",
       "        vertical-align: top;\n",
       "    }\n",
       "\n",
       "    .dataframe thead th {\n",
       "        text-align: right;\n",
       "    }\n",
       "</style>\n",
       "<table border=\"1\" class=\"dataframe\">\n",
       "  <thead>\n",
       "    <tr style=\"text-align: right;\">\n",
       "      <th></th>\n",
       "      <th>three</th>\n",
       "      <th>two</th>\n",
       "      <th>one</th>\n",
       "    </tr>\n",
       "  </thead>\n",
       "  <tbody>\n",
       "    <tr>\n",
       "      <th>d</th>\n",
       "      <td>1.881572</td>\n",
       "      <td>1.122511</td>\n",
       "      <td>NaN</td>\n",
       "    </tr>\n",
       "    <tr>\n",
       "      <th>c</th>\n",
       "      <td>1.122564</td>\n",
       "      <td>0.406733</td>\n",
       "      <td>-0.025380</td>\n",
       "    </tr>\n",
       "    <tr>\n",
       "      <th>b</th>\n",
       "      <td>0.047352</td>\n",
       "      <td>-0.594831</td>\n",
       "      <td>-0.983124</td>\n",
       "    </tr>\n",
       "    <tr>\n",
       "      <th>a</th>\n",
       "      <td>NaN</td>\n",
       "      <td>-0.199789</td>\n",
       "      <td>-0.400850</td>\n",
       "    </tr>\n",
       "  </tbody>\n",
       "</table>\n",
       "</div>"
      ],
      "text/plain": [
       "      three       two       one\n",
       "d  1.881572  1.122511       NaN\n",
       "c  1.122564  0.406733 -0.025380\n",
       "b  0.047352 -0.594831 -0.983124\n",
       "a       NaN -0.199789 -0.400850"
      ]
     },
     "execution_count": 91,
     "metadata": {},
     "output_type": "execute_result"
    }
   ],
   "source": [
    "unsorted_df.sort_index(ascending=False)"
   ]
  },
  {
   "cell_type": "markdown",
   "metadata": {},
   "source": [
    "### 9.2 By values\n",
    "\n",
    "\n",
    "The Series.sort_values() method is used to sort a Series by its values. The\n",
    "DataFrame.sort_values() method is used to sort a DataFrame by its column or row values. The\n",
    "optional by parameter to DataFrame.sort_values() may used to specify one or more columns to\n",
    "use to determine the sorted order."
   ]
  },
  {
   "cell_type": "code",
   "execution_count": 92,
   "metadata": {},
   "outputs": [
    {
     "data": {
      "text/html": [
       "<div>\n",
       "<style scoped>\n",
       "    .dataframe tbody tr th:only-of-type {\n",
       "        vertical-align: middle;\n",
       "    }\n",
       "\n",
       "    .dataframe tbody tr th {\n",
       "        vertical-align: top;\n",
       "    }\n",
       "\n",
       "    .dataframe thead th {\n",
       "        text-align: right;\n",
       "    }\n",
       "</style>\n",
       "<table border=\"1\" class=\"dataframe\">\n",
       "  <thead>\n",
       "    <tr style=\"text-align: right;\">\n",
       "      <th></th>\n",
       "      <th>one</th>\n",
       "      <th>two</th>\n",
       "      <th>three</th>\n",
       "    </tr>\n",
       "  </thead>\n",
       "  <tbody>\n",
       "    <tr>\n",
       "      <th>0</th>\n",
       "      <td>2</td>\n",
       "      <td>1</td>\n",
       "      <td>5</td>\n",
       "    </tr>\n",
       "    <tr>\n",
       "      <th>2</th>\n",
       "      <td>1</td>\n",
       "      <td>2</td>\n",
       "      <td>3</td>\n",
       "    </tr>\n",
       "    <tr>\n",
       "      <th>1</th>\n",
       "      <td>1</td>\n",
       "      <td>3</td>\n",
       "      <td>4</td>\n",
       "    </tr>\n",
       "    <tr>\n",
       "      <th>3</th>\n",
       "      <td>1</td>\n",
       "      <td>4</td>\n",
       "      <td>2</td>\n",
       "    </tr>\n",
       "  </tbody>\n",
       "</table>\n",
       "</div>"
      ],
      "text/plain": [
       "   one  two  three\n",
       "0    2    1      5\n",
       "2    1    2      3\n",
       "1    1    3      4\n",
       "3    1    4      2"
      ]
     },
     "execution_count": 92,
     "metadata": {},
     "output_type": "execute_result"
    }
   ],
   "source": [
    "df1 = pd.DataFrame({'one': [2, 1, 1, 1],\n",
    "'two': [1, 3, 2, 4],\n",
    "'three': [5, 4, 3, 2]})\n",
    "df1.sort_values(by='two')"
   ]
  },
  {
   "cell_type": "markdown",
   "metadata": {},
   "source": [
    "## 10. Working with missing data\n",
    "\n",
    "\n",
    "\n",
    "As data comes in many shapes and forms, pandas aims to be flexible with regard to handling\n",
    "missing data. While NaN is the default missing value marker for reasons of computational speed\n",
    "and convenience, we need to be able to easily detect this value with data of different types: floating\n",
    "point, integer, boolean, and general object. In many cases, however, the Python None will arise\n",
    "and we wish to also consider that “missing” or “not available” or “NA”."
   ]
  },
  {
   "cell_type": "code",
   "execution_count": 93,
   "metadata": {},
   "outputs": [
    {
     "data": {
      "text/html": [
       "<div>\n",
       "<style scoped>\n",
       "    .dataframe tbody tr th:only-of-type {\n",
       "        vertical-align: middle;\n",
       "    }\n",
       "\n",
       "    .dataframe tbody tr th {\n",
       "        vertical-align: top;\n",
       "    }\n",
       "\n",
       "    .dataframe thead th {\n",
       "        text-align: right;\n",
       "    }\n",
       "</style>\n",
       "<table border=\"1\" class=\"dataframe\">\n",
       "  <thead>\n",
       "    <tr style=\"text-align: right;\">\n",
       "      <th></th>\n",
       "      <th>one</th>\n",
       "      <th>two</th>\n",
       "      <th>three</th>\n",
       "    </tr>\n",
       "  </thead>\n",
       "  <tbody>\n",
       "    <tr>\n",
       "      <th>a</th>\n",
       "      <td>-0.562573</td>\n",
       "      <td>-0.016686</td>\n",
       "      <td>-1.338990</td>\n",
       "    </tr>\n",
       "    <tr>\n",
       "      <th>b</th>\n",
       "      <td>NaN</td>\n",
       "      <td>NaN</td>\n",
       "      <td>NaN</td>\n",
       "    </tr>\n",
       "    <tr>\n",
       "      <th>c</th>\n",
       "      <td>0.168849</td>\n",
       "      <td>-1.029276</td>\n",
       "      <td>1.529967</td>\n",
       "    </tr>\n",
       "    <tr>\n",
       "      <th>d</th>\n",
       "      <td>NaN</td>\n",
       "      <td>NaN</td>\n",
       "      <td>NaN</td>\n",
       "    </tr>\n",
       "    <tr>\n",
       "      <th>e</th>\n",
       "      <td>-0.288766</td>\n",
       "      <td>-1.694593</td>\n",
       "      <td>0.809723</td>\n",
       "    </tr>\n",
       "    <tr>\n",
       "      <th>f</th>\n",
       "      <td>1.328234</td>\n",
       "      <td>-0.063518</td>\n",
       "      <td>1.056405</td>\n",
       "    </tr>\n",
       "    <tr>\n",
       "      <th>g</th>\n",
       "      <td>NaN</td>\n",
       "      <td>NaN</td>\n",
       "      <td>NaN</td>\n",
       "    </tr>\n",
       "    <tr>\n",
       "      <th>h</th>\n",
       "      <td>0.814767</td>\n",
       "      <td>-0.407639</td>\n",
       "      <td>0.799284</td>\n",
       "    </tr>\n",
       "  </tbody>\n",
       "</table>\n",
       "</div>"
      ],
      "text/plain": [
       "        one       two     three\n",
       "a -0.562573 -0.016686 -1.338990\n",
       "b       NaN       NaN       NaN\n",
       "c  0.168849 -1.029276  1.529967\n",
       "d       NaN       NaN       NaN\n",
       "e -0.288766 -1.694593  0.809723\n",
       "f  1.328234 -0.063518  1.056405\n",
       "g       NaN       NaN       NaN\n",
       "h  0.814767 -0.407639  0.799284"
      ]
     },
     "execution_count": 93,
     "metadata": {},
     "output_type": "execute_result"
    }
   ],
   "source": [
    "df6 = pd.DataFrame(np.random.randn(5, 3), index=['a', 'c', 'e', 'f','h'],columns=['one','two','three'])\n",
    "df6 = df6.reindex(['a', 'b', 'c', 'd', 'e', 'f', 'g', 'h'])\n",
    "df6"
   ]
  },
  {
   "cell_type": "markdown",
   "metadata": {},
   "source": [
    "## 10.1 Detect missing values\n",
    "\n",
    "To make detecting missing values easier (and across different array dtypes), pandas provides the\n",
    "isna() and notna() functions, which are also methods on Series and DataFrame objects."
   ]
  },
  {
   "cell_type": "code",
   "execution_count": 94,
   "metadata": {},
   "outputs": [
    {
     "data": {
      "text/plain": [
       "a    False\n",
       "b     True\n",
       "c    False\n",
       "d     True\n",
       "e    False\n",
       "f    False\n",
       "g     True\n",
       "h    False\n",
       "Name: one, dtype: bool"
      ]
     },
     "execution_count": 94,
     "metadata": {},
     "output_type": "execute_result"
    }
   ],
   "source": [
    "df6['one'].isna()"
   ]
  },
  {
   "cell_type": "markdown",
   "metadata": {},
   "source": [
    "## 10.2 Calculations with missing data\n",
    "\n",
    "Missing values propagate naturally through arithmetic operations between pandas objects.\n",
    " * When summing data, NA (missing) values will be treated as zero.\n",
    " * If the data are all NA, the result will be 0.\n",
    " * Cumulative methods like cumsum() and cumprod() ignore NA values by default, but preserve\n",
    "   them in the resulting arrays. To override this behaviour and include NA values, use skipna=False."
   ]
  },
  {
   "cell_type": "code",
   "execution_count": 95,
   "metadata": {},
   "outputs": [
    {
     "data": {
      "text/plain": [
       "a   -1.918249\n",
       "b    0.000000\n",
       "c    0.669539\n",
       "d    0.000000\n",
       "e   -1.173637\n",
       "f    2.321121\n",
       "g    0.000000\n",
       "h    1.206412\n",
       "dtype: float64"
      ]
     },
     "execution_count": 95,
     "metadata": {},
     "output_type": "execute_result"
    }
   ],
   "source": [
    "df6.sum(axis=1)"
   ]
  },
  {
   "cell_type": "markdown",
   "metadata": {},
   "source": [
    "### 10.3 Filling missing values: fillna\n",
    "\n",
    "fillna() can “fill in” NA values with non-NA data in a couple of ways, which we illustrate:"
   ]
  },
  {
   "cell_type": "code",
   "execution_count": 96,
   "metadata": {},
   "outputs": [
    {
     "data": {
      "text/html": [
       "<div>\n",
       "<style scoped>\n",
       "    .dataframe tbody tr th:only-of-type {\n",
       "        vertical-align: middle;\n",
       "    }\n",
       "\n",
       "    .dataframe tbody tr th {\n",
       "        vertical-align: top;\n",
       "    }\n",
       "\n",
       "    .dataframe thead th {\n",
       "        text-align: right;\n",
       "    }\n",
       "</style>\n",
       "<table border=\"1\" class=\"dataframe\">\n",
       "  <thead>\n",
       "    <tr style=\"text-align: right;\">\n",
       "      <th></th>\n",
       "      <th>A</th>\n",
       "      <th>B</th>\n",
       "      <th>C</th>\n",
       "    </tr>\n",
       "  </thead>\n",
       "  <tbody>\n",
       "    <tr>\n",
       "      <th>0</th>\n",
       "      <td>1.172996</td>\n",
       "      <td>0.447727</td>\n",
       "      <td>0.226860</td>\n",
       "    </tr>\n",
       "    <tr>\n",
       "      <th>1</th>\n",
       "      <td>-0.001521</td>\n",
       "      <td>0.719649</td>\n",
       "      <td>-0.203905</td>\n",
       "    </tr>\n",
       "    <tr>\n",
       "      <th>2</th>\n",
       "      <td>1.445909</td>\n",
       "      <td>0.546696</td>\n",
       "      <td>-2.154559</td>\n",
       "    </tr>\n",
       "    <tr>\n",
       "      <th>3</th>\n",
       "      <td>NaN</td>\n",
       "      <td>-0.027842</td>\n",
       "      <td>-0.039825</td>\n",
       "    </tr>\n",
       "    <tr>\n",
       "      <th>4</th>\n",
       "      <td>NaN</td>\n",
       "      <td>NaN</td>\n",
       "      <td>0.235342</td>\n",
       "    </tr>\n",
       "    <tr>\n",
       "      <th>5</th>\n",
       "      <td>-1.342692</td>\n",
       "      <td>NaN</td>\n",
       "      <td>NaN</td>\n",
       "    </tr>\n",
       "    <tr>\n",
       "      <th>6</th>\n",
       "      <td>0.842319</td>\n",
       "      <td>-0.726243</td>\n",
       "      <td>NaN</td>\n",
       "    </tr>\n",
       "    <tr>\n",
       "      <th>7</th>\n",
       "      <td>-1.277448</td>\n",
       "      <td>2.168065</td>\n",
       "      <td>NaN</td>\n",
       "    </tr>\n",
       "    <tr>\n",
       "      <th>8</th>\n",
       "      <td>-1.992397</td>\n",
       "      <td>-0.613083</td>\n",
       "      <td>-2.177762</td>\n",
       "    </tr>\n",
       "    <tr>\n",
       "      <th>9</th>\n",
       "      <td>0.884936</td>\n",
       "      <td>-2.456936</td>\n",
       "      <td>0.696662</td>\n",
       "    </tr>\n",
       "  </tbody>\n",
       "</table>\n",
       "</div>"
      ],
      "text/plain": [
       "          A         B         C\n",
       "0  1.172996  0.447727  0.226860\n",
       "1 -0.001521  0.719649 -0.203905\n",
       "2  1.445909  0.546696 -2.154559\n",
       "3       NaN -0.027842 -0.039825\n",
       "4       NaN       NaN  0.235342\n",
       "5 -1.342692       NaN       NaN\n",
       "6  0.842319 -0.726243       NaN\n",
       "7 -1.277448  2.168065       NaN\n",
       "8 -1.992397 -0.613083 -2.177762\n",
       "9  0.884936 -2.456936  0.696662"
      ]
     },
     "execution_count": 96,
     "metadata": {},
     "output_type": "execute_result"
    }
   ],
   "source": [
    "dff = pd.DataFrame(np.random.randn(10, 3), columns=list('ABC'))\n",
    "dff.iloc[3:5, 0] = np.nan\n",
    "dff.iloc[4:6, 1] = np.nan\n",
    "dff.iloc[5:8, 2] = np.nan\n",
    "dff"
   ]
  },
  {
   "cell_type": "code",
   "execution_count": 97,
   "metadata": {},
   "outputs": [
    {
     "data": {
      "text/plain": [
       "A   -0.033487\n",
       "B    0.007254\n",
       "C   -0.488170\n",
       "dtype: float64"
      ]
     },
     "execution_count": 97,
     "metadata": {},
     "output_type": "execute_result"
    }
   ],
   "source": [
    "dff.mean()"
   ]
  },
  {
   "cell_type": "code",
   "execution_count": 98,
   "metadata": {},
   "outputs": [
    {
     "data": {
      "text/html": [
       "<div>\n",
       "<style scoped>\n",
       "    .dataframe tbody tr th:only-of-type {\n",
       "        vertical-align: middle;\n",
       "    }\n",
       "\n",
       "    .dataframe tbody tr th {\n",
       "        vertical-align: top;\n",
       "    }\n",
       "\n",
       "    .dataframe thead th {\n",
       "        text-align: right;\n",
       "    }\n",
       "</style>\n",
       "<table border=\"1\" class=\"dataframe\">\n",
       "  <thead>\n",
       "    <tr style=\"text-align: right;\">\n",
       "      <th></th>\n",
       "      <th>A</th>\n",
       "      <th>B</th>\n",
       "      <th>C</th>\n",
       "    </tr>\n",
       "  </thead>\n",
       "  <tbody>\n",
       "    <tr>\n",
       "      <th>0</th>\n",
       "      <td>1.172996</td>\n",
       "      <td>0.447727</td>\n",
       "      <td>0.226860</td>\n",
       "    </tr>\n",
       "    <tr>\n",
       "      <th>1</th>\n",
       "      <td>-0.001521</td>\n",
       "      <td>0.719649</td>\n",
       "      <td>-0.203905</td>\n",
       "    </tr>\n",
       "    <tr>\n",
       "      <th>2</th>\n",
       "      <td>1.445909</td>\n",
       "      <td>0.546696</td>\n",
       "      <td>-2.154559</td>\n",
       "    </tr>\n",
       "    <tr>\n",
       "      <th>3</th>\n",
       "      <td>-0.033487</td>\n",
       "      <td>-0.027842</td>\n",
       "      <td>-0.039825</td>\n",
       "    </tr>\n",
       "    <tr>\n",
       "      <th>4</th>\n",
       "      <td>-0.033487</td>\n",
       "      <td>0.007254</td>\n",
       "      <td>0.235342</td>\n",
       "    </tr>\n",
       "    <tr>\n",
       "      <th>5</th>\n",
       "      <td>-1.342692</td>\n",
       "      <td>0.007254</td>\n",
       "      <td>-0.488170</td>\n",
       "    </tr>\n",
       "    <tr>\n",
       "      <th>6</th>\n",
       "      <td>0.842319</td>\n",
       "      <td>-0.726243</td>\n",
       "      <td>-0.488170</td>\n",
       "    </tr>\n",
       "    <tr>\n",
       "      <th>7</th>\n",
       "      <td>-1.277448</td>\n",
       "      <td>2.168065</td>\n",
       "      <td>-0.488170</td>\n",
       "    </tr>\n",
       "    <tr>\n",
       "      <th>8</th>\n",
       "      <td>-1.992397</td>\n",
       "      <td>-0.613083</td>\n",
       "      <td>-2.177762</td>\n",
       "    </tr>\n",
       "    <tr>\n",
       "      <th>9</th>\n",
       "      <td>0.884936</td>\n",
       "      <td>-2.456936</td>\n",
       "      <td>0.696662</td>\n",
       "    </tr>\n",
       "  </tbody>\n",
       "</table>\n",
       "</div>"
      ],
      "text/plain": [
       "          A         B         C\n",
       "0  1.172996  0.447727  0.226860\n",
       "1 -0.001521  0.719649 -0.203905\n",
       "2  1.445909  0.546696 -2.154559\n",
       "3 -0.033487 -0.027842 -0.039825\n",
       "4 -0.033487  0.007254  0.235342\n",
       "5 -1.342692  0.007254 -0.488170\n",
       "6  0.842319 -0.726243 -0.488170\n",
       "7 -1.277448  2.168065 -0.488170\n",
       "8 -1.992397 -0.613083 -2.177762\n",
       "9  0.884936 -2.456936  0.696662"
      ]
     },
     "execution_count": 98,
     "metadata": {},
     "output_type": "execute_result"
    }
   ],
   "source": [
    "# Replace NA with a scalar value\n",
    "dff.fillna(dff.mean())"
   ]
  },
  {
   "cell_type": "code",
   "execution_count": 99,
   "metadata": {},
   "outputs": [
    {
     "data": {
      "text/plain": [
       "A   -0.033487\n",
       "B    0.007254\n",
       "C   -0.488170\n",
       "dtype: float64"
      ]
     },
     "execution_count": 99,
     "metadata": {},
     "output_type": "execute_result"
    }
   ],
   "source": [
    "dff.mean()"
   ]
  },
  {
   "cell_type": "markdown",
   "metadata": {},
   "source": [
    "### 10.4 Dropping axis labels with missing data: dropna\n",
    "\n",
    "Use dropna() to exclude labels from a data set which refer to missing data."
   ]
  },
  {
   "cell_type": "code",
   "execution_count": 100,
   "metadata": {},
   "outputs": [
    {
     "data": {
      "text/html": [
       "<div>\n",
       "<style scoped>\n",
       "    .dataframe tbody tr th:only-of-type {\n",
       "        vertical-align: middle;\n",
       "    }\n",
       "\n",
       "    .dataframe tbody tr th {\n",
       "        vertical-align: top;\n",
       "    }\n",
       "\n",
       "    .dataframe thead th {\n",
       "        text-align: right;\n",
       "    }\n",
       "</style>\n",
       "<table border=\"1\" class=\"dataframe\">\n",
       "  <thead>\n",
       "    <tr style=\"text-align: right;\">\n",
       "      <th></th>\n",
       "      <th>A</th>\n",
       "      <th>B</th>\n",
       "      <th>C</th>\n",
       "    </tr>\n",
       "  </thead>\n",
       "  <tbody>\n",
       "    <tr>\n",
       "      <th>0</th>\n",
       "      <td>1.172996</td>\n",
       "      <td>0.447727</td>\n",
       "      <td>0.226860</td>\n",
       "    </tr>\n",
       "    <tr>\n",
       "      <th>1</th>\n",
       "      <td>-0.001521</td>\n",
       "      <td>0.719649</td>\n",
       "      <td>-0.203905</td>\n",
       "    </tr>\n",
       "    <tr>\n",
       "      <th>2</th>\n",
       "      <td>1.445909</td>\n",
       "      <td>0.546696</td>\n",
       "      <td>-2.154559</td>\n",
       "    </tr>\n",
       "    <tr>\n",
       "      <th>8</th>\n",
       "      <td>-1.992397</td>\n",
       "      <td>-0.613083</td>\n",
       "      <td>-2.177762</td>\n",
       "    </tr>\n",
       "    <tr>\n",
       "      <th>9</th>\n",
       "      <td>0.884936</td>\n",
       "      <td>-2.456936</td>\n",
       "      <td>0.696662</td>\n",
       "    </tr>\n",
       "  </tbody>\n",
       "</table>\n",
       "</div>"
      ],
      "text/plain": [
       "          A         B         C\n",
       "0  1.172996  0.447727  0.226860\n",
       "1 -0.001521  0.719649 -0.203905\n",
       "2  1.445909  0.546696 -2.154559\n",
       "8 -1.992397 -0.613083 -2.177762\n",
       "9  0.884936 -2.456936  0.696662"
      ]
     },
     "execution_count": 100,
     "metadata": {},
     "output_type": "execute_result"
    }
   ],
   "source": [
    "dff.dropna()"
   ]
  },
  {
   "cell_type": "markdown",
   "metadata": {},
   "source": [
    "# 03 Matplotlib"
   ]
  },
  {
   "cell_type": "code",
   "execution_count": 36,
   "metadata": {},
   "outputs": [
    {
     "name": "stderr",
     "output_type": "stream",
     "text": [
      "\n",
      "Bad key \"text.kerning_factor\" on line 4 in\n",
      "/opt/anaconda3/lib/python3.7/site-packages/matplotlib/mpl-data/stylelib/_classic_test_patch.mplstyle.\n",
      "You probably need to get an updated matplotlibrc file from\n",
      "https://github.com/matplotlib/matplotlib/blob/v3.1.3/matplotlibrc.template\n",
      "or from the matplotlib source distribution\n"
     ]
    }
   ],
   "source": [
    "import numpy as np\n",
    "import pandas as pd\n",
    "import matplotlib.pyplot as plt"
   ]
  },
  {
   "cell_type": "markdown",
   "metadata": {},
   "source": [
    "## 1. Plot\n",
    "### 1.1 Plot a graph"
   ]
  },
  {
   "cell_type": "code",
   "execution_count": 102,
   "metadata": {},
   "outputs": [
    {
     "data": {
      "image/png": "[encoded data removed]",
      "text/plain": [
       "<Figure size 432x288 with 1 Axes>"
      ]
     },
     "metadata": {
      "needs_background": "light"
     },
     "output_type": "display_data"
    }
   ],
   "source": [
    "# generate data for plotting\n",
    "x = np.arange(0, 3 * np.pi, 0.1)\n",
    "y = np.sin(x)\n",
    "# matplotlib.pyplot.plot(*args, scalex=True, scaley=True, data=None, **kwargs)\n",
    "# plot y versus x as lines and/or markers. *args inclues data, color, format...et\n",
    "plt.plot(x, y)\n",
    "# show the graph\n",
    "plt.show()"
   ]
  },
  {
   "cell_type": "code",
   "execution_count": 103,
   "metadata": {},
   "outputs": [
    {
     "data": {
      "text/plain": [
       "['Solarize_Light2',\n",
       " '_classic_test_patch',\n",
       " 'bmh',\n",
       " 'classic',\n",
       " 'dark_background',\n",
       " 'fast',\n",
       " 'fivethirtyeight',\n",
       " 'ggplot',\n",
       " 'grayscale',\n",
       " 'seaborn',\n",
       " 'seaborn-bright',\n",
       " 'seaborn-colorblind',\n",
       " 'seaborn-dark',\n",
       " 'seaborn-dark-palette',\n",
       " 'seaborn-darkgrid',\n",
       " 'seaborn-deep',\n",
       " 'seaborn-muted',\n",
       " 'seaborn-notebook',\n",
       " 'seaborn-paper',\n",
       " 'seaborn-pastel',\n",
       " 'seaborn-poster',\n",
       " 'seaborn-talk',\n",
       " 'seaborn-ticks',\n",
       " 'seaborn-white',\n",
       " 'seaborn-whitegrid',\n",
       " 'tableau-colorblind10']"
      ]
     },
     "execution_count": 103,
     "metadata": {},
     "output_type": "execute_result"
    }
   ],
   "source": [
    "# check available styles\n",
    "plt.style.available"
   ]
  },
  {
   "cell_type": "code",
   "execution_count": 104,
   "metadata": {},
   "outputs": [],
   "source": [
    "# choose style\n",
    "plt.style.use(\"seaborn-darkgrid\")"
   ]
  },
  {
   "cell_type": "code",
   "execution_count": 105,
   "metadata": {},
   "outputs": [
    {
     "data": {
      "image/png": "[encoded data removed]",
      "text/plain": [
       "<Figure size 432x288 with 1 Axes>"
      ]
     },
     "metadata": {},
     "output_type": "display_data"
    }
   ],
   "source": [
    "# generate data for plotting\n",
    "x = np.arange(0, 3 * np.pi, 0.1)\n",
    "y = np.sin(x)\n",
    "# matplotlib.pyplot.plot(*args, scalex=True, scaley=True, data=None, **kwargs)\n",
    "# plot y versus x as lines and/or markers. *args inclues data, color, format...et\n",
    "plt.plot(x, y)\n",
    "# show the graph\n",
    "plt.show()"
   ]
  },
  {
   "cell_type": "markdown",
   "metadata": {},
   "source": [
    "### 1.2 Combine multiple graphs"
   ]
  },
  {
   "cell_type": "code",
   "execution_count": 106,
   "metadata": {},
   "outputs": [
    {
     "data": {
      "image/png": "[encoded data removed]",
      "text/plain": [
       "<Figure size 432x288 with 2 Axes>"
      ]
     },
     "metadata": {},
     "output_type": "display_data"
    }
   ],
   "source": [
    "# set style\n",
    "plt.style.use(\"seaborn-whitegrid\")\n",
    "# generate data for plotting\n",
    "x = np.arange(0, 3 * np.pi, 0.1)\n",
    "y_sin = np.sin(x)\n",
    "y_cos = np.cos(x)\n",
    "# matplotlib.pyplot.subplot(* args,** kwargs)\n",
    "# add a subplot to the current figure.*args\n",
    "# *args can be three integers (nrows, ncols, index),\n",
    "# or a 3-digit integer. The digits are interpreted as if given separately as thre\n",
    "plt.subplot(1, 2, 1) # first subplot\n",
    "plt.plot(x, y_sin) # plot the first subplot\n",
    "plt.title('Sine') # set title for the first subplot\n",
    "plt.subplot(1, 2, 2) # second subplot\n",
    "plt.plot(x, y_cos) # plot second subplot\n",
    "plt.title('Cosine') # set title for the second subplot\n",
    "plt.show()"
   ]
  },
  {
   "cell_type": "markdown",
   "metadata": {},
   "source": [
    "### 1.3 Matplotlib custom numerus formatting like color, marker and linestyle."
   ]
  },
  {
   "cell_type": "code",
   "execution_count": 107,
   "metadata": {},
   "outputs": [
    {
     "data": {
      "image/png": "[encoded data removed]",
      "text/plain": [
       "<Figure size 640x480 with 1 Axes>"
      ]
     },
     "metadata": {},
     "output_type": "display_data"
    }
   ],
   "source": [
    "plt.style.use(\"seaborn-dark\")\n",
    "# create a 8x6 (inches) figure, dpi means the resolution of the figure (dpi=80, 8\n",
    "plt.figure(figsize=(8,6), dpi=80)\n",
    "# generate data\n",
    "X = np.linspace(-np.pi, np.pi, 256,endpoint=True)\n",
    "C,S = np.cos(X), np.sin(X)\n",
    "# draw a blue curve with customized format.\n",
    "plt.plot(X, C, color=\"blue\",linewidth=1.0,label=\"Blue\",linestyle=\"--\")\n",
    "# draw a green curve with cusomized format.\n",
    "plt.plot(X, S, color=\"green\", linewidth=1.0, label=\"Green\", linestyle=\"-.\")\n",
    "plt.legend() # place a legend on the axes\n",
    "plt.xlim(-4.0,4.0) # set the scale of the x-axis\n",
    "plt.xticks(np.linspace(-4,4,9,endpoint=True)) # set the current tick locations an\n",
    "plt.ylim(-1.0,1.0) # set the scale of the y-axis\n",
    "plt.yticks(np.linspace(-1,1,5,endpoint=True)) # set the current tick locations an\n",
    "# plt.savefig(\"exercice.png\",dpi=72) # save figure\n",
    "plt.show()"
   ]
  },
  {
   "cell_type": "code",
   "execution_count": 108,
   "metadata": {},
   "outputs": [
    {
     "data": {
      "image/png": "[encoded data removed]",
      "text/plain": [
       "<Figure size 480x320 with 1 Axes>"
      ]
     },
     "metadata": {},
     "output_type": "display_data"
    }
   ],
   "source": [
    "# Change color and linewidth:\n",
    "plt.figure(dpi=80)\n",
    "plt.plot(X, C, color=\"blue\", linewidth=3.5, linestyle=\"--\")\n",
    "plt.plot(X, S, color=\"red\", linewidth=2.5, linestyle=\"-\")\n",
    "plt.show()"
   ]
  },
  {
   "cell_type": "markdown",
   "metadata": {},
   "source": [
    "##  2. scatter plot"
   ]
  },
  {
   "cell_type": "code",
   "execution_count": 109,
   "metadata": {},
   "outputs": [
    {
     "name": "stdout",
     "output_type": "stream",
     "text": [
      "[ 8 12 14  1 16 14 13 15 14 14  6  3 15 18 15]\n",
      "[ 0  4 16 11 15 15 12 11 14  8  6  2  1  5 10]\n"
     ]
    },
    {
     "data": {
      "image/png": "[encoded data removed]",
      "text/plain": [
       "<Figure size 432x288 with 1 Axes>"
      ]
     },
     "metadata": {},
     "output_type": "display_data"
    }
   ],
   "source": [
    "# generate data\n",
    "a = np.random.randint(0,20,15)\n",
    "b = np.random.randint(0,20,15)\n",
    "print(a)\n",
    "print(b)\n",
    "# matplotlib.pyplot.scatter(x, y, s=None, c=None, marker=None, cmap=None, norm=No\n",
    "# A scatter plot of y vs. x with varying marker size and/or color.\n",
    "plt.scatter(a, b, c='red', s=100, marker='.')# plot scatter\n",
    "plt.show()"
   ]
  },
  {
   "cell_type": "code",
   "execution_count": 110,
   "metadata": {},
   "outputs": [
    {
     "name": "stdout",
     "output_type": "stream",
     "text": [
      "[11 11 18 14  8 15 19  3 17  9  7 13 12  6  8]\n",
      "[ 6  4 15 14 10 11  8  2 11 17 18  9  5  5  0]\n"
     ]
    },
    {
     "data": {
      "image/png": "[encoded data removed]",
      "text/plain": [
       "<Figure size 432x288 with 1 Axes>"
      ]
     },
     "metadata": {},
     "output_type": "display_data"
    }
   ],
   "source": [
    "# generate data\n",
    "a = np.random.randint(0,20,15)\n",
    "b = np.random.randint(0,20,15)\n",
    "print(a)\n",
    "print(b)\n",
    "# matplotlib.pyplot.scatter(x, y, s=None, c=None, marker=None, cmap=None, norm=No\n",
    "# A scatter plot of y vs. x with varying marker size and/or color.\n",
    "plt.scatter(a, b, c='blue', s=50, marker='x')# plot scatter\n",
    "plt.show()"
   ]
  },
  {
   "cell_type": "markdown",
   "metadata": {},
   "source": [
    "## 3. Bar plot"
   ]
  },
  {
   "cell_type": "code",
   "execution_count": 126,
   "metadata": {},
   "outputs": [
    {
     "data": {
      "image/png": "[encoded data removed]",
      "text/plain": [
       "<Figure size 600x400 with 1 Axes>"
      ]
     },
     "metadata": {},
     "output_type": "display_data"
    }
   ],
   "source": [
    "level = ['Excellent', 'good', 'weak']\n",
    "x = range(len(level)) # x-axis\n",
    "y = [1,3,2] # y-axis\n",
    "plt.figure(dpi=100) # create figure\n",
    "# matplotlib.pyplot.bar(x, height, width=0.8, bottom=None, *, align='center', dat\n",
    "# make a bar plot.\n",
    "plt.bar(x, y, width=0.5, color=['b','r','g']) # plot figure\n",
    "plt.xticks(x, level)\n",
    "# add grid\n",
    "plt.grid(linestyle=\"--\", alpha=0.5)\n",
    "plt.show()"
   ]
  },
  {
   "cell_type": "markdown",
   "metadata": {},
   "source": [
    "## 4. Histogram"
   ]
  },
  {
   "cell_type": "code",
   "execution_count": 112,
   "metadata": {},
   "outputs": [
    {
     "name": "stdout",
     "output_type": "stream",
     "text": [
      "[22 26 27 21  1 11 14 28  5 23 27 14 14  0  2  5  2  6  0 26 23 12 12  4\n",
      " 28  1  0 23 26 20 24 10 24  4 16  6  8 17  2 27  5 28  7  9 26 25 13 12\n",
      "  3  7  7 13  6 16 17 29 12 22 24 20 24  3  9 13 28  4 24 10 23 15 26 24\n",
      "  4 12 22  4 28 29 23 28 15 23 21  4  8  5  6 22  5 13]\n"
     ]
    },
    {
     "data": {
      "image/png": "[encoded data removed]",
      "text/plain": [
       "<Figure size 600x400 with 1 Axes>"
      ]
     },
     "metadata": {},
     "output_type": "display_data"
    }
   ],
   "source": [
    "# generate data\n",
    "t = np.random.randint(0,30,90)\n",
    "print(t)\n",
    "# create figure\n",
    "plt.figure(dpi=100)\n",
    "# set group number (i.e. the range of each bin)\n",
    "group_num = 14\n",
    "# matplotlib.pyplot.hist(x, bins=None, range=None, density=False, weights=None, c\n",
    "# plot a histogram. x indicates the the data. bins indicates the number of bins i\n",
    "plt.hist(t, facecolor=\"red\", edgecolor=\"green\", bins=14, alpha=0.5)\n",
    "plt.xticks(range(min(t), max(t))[::2])\n",
    "plt.grid(linestyle=\"--\", alpha=0.5)\n",
    "plt.show()"
   ]
  },
  {
   "cell_type": "markdown",
   "metadata": {},
   "source": [
    "# 04 SciPy\n",
    "\n",
    "## 1. Constants (scipy.constants)\n",
    "\n",
    "### 1.1 Mathematical constants\n",
    "\n",
    "* pi: Pi\n",
    "\n",
    "### 1.2 Physical constants\n",
    "\n",
    "* c: speed of light in vacuum\n",
    "* speed_of_light: speed of light in vacuum\n",
    "* h: the Planck constant h\n",
    "* G: Newtonian constant of gravitation\n",
    "* electron_mass: electron mass"
   ]
  },
  {
   "cell_type": "code",
   "execution_count": 113,
   "metadata": {},
   "outputs": [
    {
     "name": "stdout",
     "output_type": "stream",
     "text": [
      "3.141592653589793\n",
      "299792458.0\n",
      "299792458.0\n",
      "6.62607015e-34\n",
      "6.6743e-11\n",
      "9.1093837015e-31\n"
     ]
    }
   ],
   "source": [
    "import scipy\n",
    "from scipy.constants import *\n",
    "print(pi)\n",
    "print(c)\n",
    "print(speed_of_light)\n",
    "print(h)\n",
    "print(G)\n",
    "print(electron_mass)"
   ]
  },
  {
   "cell_type": "markdown",
   "metadata": {},
   "source": [
    "# 2. Discrete Fourier transforms (scipy.fft)\n",
    "\n",
    "## 2.1 Fast Fourier Transforms (FFTs)\n",
    "\n",
    "FFT (Fast Fourier Transform) refers to a way the discrete Fourier Transform (DFT) can be\n",
    "calculated efficiently, by using symmetries in the calculated terms. The symmetry is highest when n\n",
    "is a power of 2, and the transform is therefore most efficient for these sizes. For poorly factorizable\n",
    "sizes, scipy.fft uses Bluestein’s algorithm and so is never worse than O(n log n).\n",
    "\n",
    "* fft(x[, n, axis, norm, overwrite_x, …]): Compute the 1-D discrete Fourier Transform.\n",
    "* ifft(x[, n, axis, norm, overwrite_x, …]): Compute the 1-D inverse discrete Fourier Transform.\n"
   ]
  },
  {
   "cell_type": "code",
   "execution_count": 114,
   "metadata": {},
   "outputs": [
    {
     "name": "stdout",
     "output_type": "stream",
     "text": [
      "[ 1.00000000e+00+0.00000000e+00j  7.07106781e-01+7.07106781e-01j\n",
      "  6.12323400e-17+1.00000000e+00j -7.07106781e-01+7.07106781e-01j\n",
      " -1.00000000e+00+1.22464680e-16j -7.07106781e-01-7.07106781e-01j\n",
      " -1.83697020e-16-1.00000000e+00j  7.07106781e-01-7.07106781e-01j]\n"
     ]
    },
    {
     "data": {
      "text/plain": [
       "array([-3.44509285e-16+1.14423775e-17j,  8.00000000e+00-9.95431023e-16j,\n",
       "        2.33486982e-16+1.22464680e-16j,  0.00000000e+00+1.22464680e-16j,\n",
       "        9.95799250e-17+2.33486982e-16j, -8.88178420e-16+2.60642944e-16j,\n",
       "        1.14423775e-17+1.22464680e-16j,  0.00000000e+00+1.22464680e-16j])"
      ]
     },
     "execution_count": 114,
     "metadata": {},
     "output_type": "execute_result"
    }
   ],
   "source": [
    "import scipy.fft\n",
    "import numpy as np\n",
    "a = np.exp(2j * np.pi * np.arange(8) / 8)\n",
    "print(a)\n",
    "b = scipy.fft.fft(a)\n",
    "b\n"
   ]
  },
  {
   "cell_type": "code",
   "execution_count": 115,
   "metadata": {},
   "outputs": [
    {
     "data": {
      "text/plain": [
       "array([ 1.00000000e+00+2.46519033e-32j,  7.07106781e-01+7.07106781e-01j,\n",
       "        6.12323400e-17+1.00000000e+00j, -7.07106781e-01+7.07106781e-01j,\n",
       "       -1.00000000e+00+1.22464680e-16j, -7.07106781e-01-7.07106781e-01j,\n",
       "       -1.83697020e-16-1.00000000e+00j,  7.07106781e-01-7.07106781e-01j])"
      ]
     },
     "execution_count": 115,
     "metadata": {},
     "output_type": "execute_result"
    }
   ],
   "source": [
    "scipy.fft.ifft(b)"
   ]
  },
  {
   "cell_type": "markdown",
   "metadata": {},
   "source": [
    "# 3.Linear Algebra (scipy.linalg)\n",
    "\n",
    "scipy.linalg contains all the functions in numpy.linalg. plus some other more advanced ones not\n",
    "contained in numpy.linalg.\n",
    "\n",
    "Another advantage of using scipy.linalg over numpy.linalg is that it is always compiled with\n",
    "BLAS/LAPACK support, while for numpy this is optional. Therefore, the scipy version might be\n",
    "faster depending on how numpy was installed.\n",
    "\n",
    "Therefore, unless you don’t want to add scipy as a dependency to your numpy program, use\n",
    "scipy.linalg instead of numpy.linalg.\n",
    "\n",
    "## 4.1 Solving a linear system\n",
    "\n",
    "Solving linear systems of equations is straightforward using the scipy command linalg.solve. This\n",
    "command expects an input matrix and a right-hand side vector. The solution vector is then\n",
    "computed. An option for entering a symmetric matrix is offered, which can speed up the processing"
   ]
  },
  {
   "cell_type": "code",
   "execution_count": 116,
   "metadata": {},
   "outputs": [
    {
     "name": "stdout",
     "output_type": "stream",
     "text": [
      "[[1 3 5]\n",
      " [2 5 1]\n",
      " [2 3 8]]\n",
      "[10  8  3]\n"
     ]
    }
   ],
   "source": [
    "from scipy import linalg\n",
    "a = np.array([[1, 3, 5], [2, 5, 1], [2, 3, 8]])\n",
    "b = np.array([10, 8, 3])\n",
    "print(a)\n",
    "print(b)"
   ]
  },
  {
   "attachments": {
    "5bd8c11a-2130-4db7-a637-21554d93d3d4.PNG": {
     "image/png": "[encoded data removed]"
    }
   },
   "cell_type": "markdown",
   "metadata": {},
   "source": [
    "![Capture.PNG](attachment:5bd8c11a-2130-4db7-a637-21554d93d3d4.PNG)"
   ]
  },
  {
   "cell_type": "code",
   "execution_count": 117,
   "metadata": {},
   "outputs": [
    {
     "data": {
      "text/plain": [
       "array([-9.28,  5.16,  0.76])"
      ]
     },
     "execution_count": 117,
     "metadata": {},
     "output_type": "execute_result"
    }
   ],
   "source": [
    "x = linalg.solve(a, b)\n",
    "x"
   ]
  },
  {
   "cell_type": "markdown",
   "metadata": {},
   "source": [
    "## 4.2 Finding the determinant\n",
    "\n",
    "The determinant of a square matrix A is often denoted |A| and is a quantity often used in linear\n",
    "algebra.\n"
   ]
  },
  {
   "cell_type": "code",
   "execution_count": 118,
   "metadata": {},
   "outputs": [
    {
     "data": {
      "text/plain": [
       "array([[1, 2],\n",
       "       [3, 4]])"
      ]
     },
     "execution_count": 118,
     "metadata": {},
     "output_type": "execute_result"
    }
   ],
   "source": [
    "A = np.array([[1,2],[3,4]])\n",
    "A"
   ]
  },
  {
   "cell_type": "code",
   "execution_count": 119,
   "metadata": {},
   "outputs": [
    {
     "data": {
      "text/plain": [
       "-2.0"
      ]
     },
     "execution_count": 119,
     "metadata": {},
     "output_type": "execute_result"
    }
   ],
   "source": [
    "linalg.det(A)\n"
   ]
  },
  {
   "cell_type": "markdown",
   "metadata": {},
   "source": [
    "# 5. Decompositions\n",
    "\n",
    "## 5.1 Eigenvalues and eigenvectors\n",
    "\n",
    "The eigenvalue-eigenvector problem is one of the most commonly employed linear algebra\n",
    "operations. In one popular form, the eigenvalue-eigenvector problem is to find for some square\n",
    "matrix A, scalars 𝜆 and corresponding vectors v, such that\n",
    "\n",
    "           * 𝐴𝑣 = 𝜆�"
   ]
  },
  {
   "cell_type": "code",
   "execution_count": 120,
   "metadata": {},
   "outputs": [
    {
     "name": "stdout",
     "output_type": "stream",
     "text": [
      "[-0.35234996+0.j 11.35234996+0.j]\n",
      "[[-0.76642628 -0.43192981]\n",
      " [ 0.64233228 -0.90190722]]\n"
     ]
    }
   ],
   "source": [
    "A = np.array([[3,4],[7,8]])\n",
    "eigenvalue, eigenvector = linalg.eig(A)\n",
    "print(eigenvalue)\n",
    "print(eigenvector)"
   ]
  },
  {
   "cell_type": "markdown",
   "metadata": {},
   "source": [
    "# 05 scikit-learn\n",
    "\n",
    "Scikit-learn is an open source machine learning library that supports supervised and unsupervised\n",
    "learning. It also provides various tools for model fitting, data preprocessing, model selection and\n",
    "evaluation, and many other utilities.\n",
    "\n",
    "## 1. Fitting and predicting: estimator basics\n",
    "\n",
    "Scikit-learn provides dozens of built-in machine learning algorithms and models, called estimators.\n",
    "Each estimator can be fitted to some data using its fit method.\n"
   ]
  },
  {
   "cell_type": "markdown",
   "metadata": {},
   "source": [
    "### 1.1 LinearRegression\n"
   ]
  },
  {
   "attachments": {
    "9b1230e5-7a90-4feb-bd49-70c28f5b69a5.PNG": {
     "image/png": "[encoded data removed]"
    }
   },
   "cell_type": "markdown",
   "metadata": {},
   "source": [
    "![Capture1.PNG](attachment:9b1230e5-7a90-4feb-bd49-70c28f5b69a5.PNG)"
   ]
  },
  {
   "cell_type": "code",
   "execution_count": 121,
   "metadata": {},
   "outputs": [
    {
     "data": {
      "text/plain": [
       "array([0.5, 0.5])"
      ]
     },
     "execution_count": 121,
     "metadata": {},
     "output_type": "execute_result"
    }
   ],
   "source": [
    "from sklearn import linear_model\n",
    "X = [[0, 0], [1, 1], [2, 2]]\n",
    "y = [0, 1, 2]\n",
    "reg = linear_model.LinearRegression()\n",
    "reg.fit(X, y)\n",
    "reg.coef_"
   ]
  },
  {
   "cell_type": "markdown",
   "metadata": {},
   "source": [
    "## 2. pre-processors\n",
    "In scikit-learn, pre-processors and transformers follow the same API as the estimator objects (they\n",
    "actually all inherit from the same BaseEstimator class). The transformer objects don’t have a\n",
    "predict method but rather a transform method that outputs a newly transformed sample matrix X:"
   ]
  },
  {
   "cell_type": "code",
   "execution_count": 122,
   "metadata": {},
   "outputs": [
    {
     "data": {
      "text/plain": [
       "array([[-1.22474487, -1.22474487],\n",
       "       [ 0.        ,  0.        ],\n",
       "       [ 1.22474487,  1.22474487]])"
      ]
     },
     "execution_count": 122,
     "metadata": {},
     "output_type": "execute_result"
    }
   ],
   "source": [
    "from sklearn.preprocessing import StandardScaler\n",
    "X = [[0, 0], [1, 1], [2, 2]]\n",
    "StandardScaler().fit(X).transform(X)"
   ]
  },
  {
   "cell_type": "code",
   "execution_count": 123,
   "metadata": {},
   "outputs": [
    {
     "data": {
      "text/plain": [
       "array([[0. , 0. ],\n",
       "       [0.5, 0.5],\n",
       "       [1. , 1. ]])"
      ]
     },
     "execution_count": 123,
     "metadata": {},
     "output_type": "execute_result"
    }
   ],
   "source": [
    "from sklearn.preprocessing import MinMaxScaler\n",
    "data = MinMaxScaler(feature_range=(0., 1.)).fit_transform(X)\n",
    "data"
   ]
  },
  {
   "cell_type": "markdown",
   "metadata": {},
   "source": [
    "## 3. Pipelines: chaining pre-processors and estimators\n",
    "\n",
    "Transformers and estimators (predictors) can be combined together into a single unifying object: a\n",
    "Pipeline. The pipeline offers the same API as a regular estimator: it can be fitted and used for\n",
    "prediction with fit and predict. As we will see later, using a pipeline will also prevent you from data\n",
    "leakage, i.e. disclosing some testing data in your training data"
   ]
  },
  {
   "cell_type": "code",
   "execution_count": 124,
   "metadata": {},
   "outputs": [
    {
     "data": {
      "text/plain": [
       "array([0.40824829, 0.40824829])"
      ]
     },
     "execution_count": 124,
     "metadata": {},
     "output_type": "execute_result"
    }
   ],
   "source": [
    "from sklearn.pipeline import make_pipeline\n",
    "# create a pipeline object\n",
    "pipe = make_pipeline(\n",
    " StandardScaler(),\n",
    " linear_model.LinearRegression()\n",
    ")\n",
    "# fit the whole pipeline\n",
    "pipe.fit(X, y)\n",
    "# coefficient\n",
    "pipe[1].coef_"
   ]
  },
  {
   "cell_type": "markdown",
   "metadata": {},
   "source": [
    "## 4. Model evaluation\n",
    "\n",
    "Fitting a model to some data does not entail that it will predict well on unseen data. This needs to\n",
    "be directly evaluated"
   ]
  },
  {
   "cell_type": "code",
   "execution_count": 125,
   "metadata": {},
   "outputs": [
    {
     "data": {
      "text/plain": [
       "0.0"
      ]
     },
     "execution_count": 125,
     "metadata": {},
     "output_type": "execute_result"
    }
   ],
   "source": [
    "from sklearn.model_selection import train_test_split\n",
    "from sklearn.metrics import mean_squared_error\n",
    "x_train, x_test, y_train, y_test = train_test_split(X, y, test_size=0.1)\n",
    "pipe.fit(x_train, y_train)\n",
    "mean_squared_error(y_test, pipe.predict(x_test))"
   ]
  },
  {
   "cell_type": "code",
   "execution_count": null,
   "metadata": {},
   "outputs": [],
   "source": []
  },
  {
   "cell_type": "code",
   "execution_count": null,
   "metadata": {},
   "outputs": [],
   "source": []
  }
 ],
 "metadata": {
  "kernelspec": {
   "display_name": "Python 3",
   "language": "python",
   "name": "python3"
  },
  "language_info": {
   "codemirror_mode": {
    "name": "ipython",
    "version": 3
   },
   "file_extension": ".py",
   "mimetype": "text/x-python",
   "name": "python",
   "nbconvert_exporter": "python",
   "pygments_lexer": "ipython3",
   "version": "3.7.4"
  }
 },
 "nbformat": 4,
 "nbformat_minor": 5
}
